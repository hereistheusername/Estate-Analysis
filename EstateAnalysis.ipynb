{
 "cells": [
  {
   "cell_type": "code",
   "execution_count": 1,
   "metadata": {
    "collapsed": true
   },
   "outputs": [],
   "source": [
    "import pandas as pd"
   ]
  },
  {
   "cell_type": "code",
   "execution_count": 2,
   "outputs": [],
   "source": [
    "DATA_DIR='./data/'"
   ],
   "metadata": {
    "collapsed": false
   }
  },
  {
   "cell_type": "code",
   "execution_count": 3,
   "outputs": [
    {
     "data": {
      "text/plain": "            date  number of rooms  security level of the community  \\\n0  2014/5/2 0:00                5                             2.50   \n1  2014/5/2 0:00                2                             1.00   \n2  2014/5/2 0:00                4                             2.50   \n3  2014/5/2 0:00                3                             1.50   \n4  2014/5/2 0:00                3                             1.75   \n\n   residence space  building space  noise level  waterfront  view  \\\n0             2820           67518          2.0           0     0   \n1             1210            9400          1.0           0     0   \n2             2200            9397          2.0           0     0   \n3             1200            9720          1.0           0     0   \n4             1370            5858          1.0           0     0   \n\n   air quality level  aboveground space   ...  building year  decoration year  \\\n0                  3                2820  ...           1979             2014   \n1                  2                1210  ...           1949                0   \n2                  3                2200  ...           1987             2000   \n3                  4                1200  ...           1965                0   \n4                  3                1370  ...           1987             2000   \n\n            district        city  zip code region exchange rate  \\\n0  23525 SE 32nd Way    Issaquah  WA 98029    USA      6.784830   \n1   7542 21st Ave SW     Seattle  WA 98106    USA      6.243129   \n2    5214 S 292nd St      Auburn  WA 98001    USA      6.010127   \n3  14034 SE 201st St        Kent  WA 98042    USA      7.560375   \n4    1605 S 245th Pl  Des Moines  WA 98198    USA      6.543941   \n\n   unit price of residence space  unit price of building space  total cost  \n0                      11.886409                      0.977028         NaN  \n1                      25.681414                      0.698603         NaN  \n2                      16.921174                      0.238882         NaN  \n3                      19.632230                      0.876178         NaN  \n4                      28.205930                      0.132472         NaN  \n\n[5 rows x 21 columns]",
      "text/html": "<div>\n<style scoped>\n    .dataframe tbody tr th:only-of-type {\n        vertical-align: middle;\n    }\n\n    .dataframe tbody tr th {\n        vertical-align: top;\n    }\n\n    .dataframe thead th {\n        text-align: right;\n    }\n</style>\n<table border=\"1\" class=\"dataframe\">\n  <thead>\n    <tr style=\"text-align: right;\">\n      <th></th>\n      <th>date</th>\n      <th>number of rooms</th>\n      <th>security level of the community</th>\n      <th>residence space</th>\n      <th>building space</th>\n      <th>noise level</th>\n      <th>waterfront</th>\n      <th>view</th>\n      <th>air quality level</th>\n      <th>aboveground space</th>\n      <th>...</th>\n      <th>building year</th>\n      <th>decoration year</th>\n      <th>district</th>\n      <th>city</th>\n      <th>zip code</th>\n      <th>region</th>\n      <th>exchange rate</th>\n      <th>unit price of residence space</th>\n      <th>unit price of building space</th>\n      <th>total cost</th>\n    </tr>\n  </thead>\n  <tbody>\n    <tr>\n      <th>0</th>\n      <td>2014/5/2 0:00</td>\n      <td>5</td>\n      <td>2.50</td>\n      <td>2820</td>\n      <td>67518</td>\n      <td>2.0</td>\n      <td>0</td>\n      <td>0</td>\n      <td>3</td>\n      <td>2820</td>\n      <td>...</td>\n      <td>1979</td>\n      <td>2014</td>\n      <td>23525 SE 32nd Way</td>\n      <td>Issaquah</td>\n      <td>WA 98029</td>\n      <td>USA</td>\n      <td>6.784830</td>\n      <td>11.886409</td>\n      <td>0.977028</td>\n      <td>NaN</td>\n    </tr>\n    <tr>\n      <th>1</th>\n      <td>2014/5/2 0:00</td>\n      <td>2</td>\n      <td>1.00</td>\n      <td>1210</td>\n      <td>9400</td>\n      <td>1.0</td>\n      <td>0</td>\n      <td>0</td>\n      <td>2</td>\n      <td>1210</td>\n      <td>...</td>\n      <td>1949</td>\n      <td>0</td>\n      <td>7542 21st Ave SW</td>\n      <td>Seattle</td>\n      <td>WA 98106</td>\n      <td>USA</td>\n      <td>6.243129</td>\n      <td>25.681414</td>\n      <td>0.698603</td>\n      <td>NaN</td>\n    </tr>\n    <tr>\n      <th>2</th>\n      <td>2014/5/2 0:00</td>\n      <td>4</td>\n      <td>2.50</td>\n      <td>2200</td>\n      <td>9397</td>\n      <td>2.0</td>\n      <td>0</td>\n      <td>0</td>\n      <td>3</td>\n      <td>2200</td>\n      <td>...</td>\n      <td>1987</td>\n      <td>2000</td>\n      <td>5214 S 292nd St</td>\n      <td>Auburn</td>\n      <td>WA 98001</td>\n      <td>USA</td>\n      <td>6.010127</td>\n      <td>16.921174</td>\n      <td>0.238882</td>\n      <td>NaN</td>\n    </tr>\n    <tr>\n      <th>3</th>\n      <td>2014/5/2 0:00</td>\n      <td>3</td>\n      <td>1.50</td>\n      <td>1200</td>\n      <td>9720</td>\n      <td>1.0</td>\n      <td>0</td>\n      <td>0</td>\n      <td>4</td>\n      <td>1200</td>\n      <td>...</td>\n      <td>1965</td>\n      <td>0</td>\n      <td>14034 SE 201st St</td>\n      <td>Kent</td>\n      <td>WA 98042</td>\n      <td>USA</td>\n      <td>7.560375</td>\n      <td>19.632230</td>\n      <td>0.876178</td>\n      <td>NaN</td>\n    </tr>\n    <tr>\n      <th>4</th>\n      <td>2014/5/2 0:00</td>\n      <td>3</td>\n      <td>1.75</td>\n      <td>1370</td>\n      <td>5858</td>\n      <td>1.0</td>\n      <td>0</td>\n      <td>0</td>\n      <td>3</td>\n      <td>1370</td>\n      <td>...</td>\n      <td>1987</td>\n      <td>2000</td>\n      <td>1605 S 245th Pl</td>\n      <td>Des Moines</td>\n      <td>WA 98198</td>\n      <td>USA</td>\n      <td>6.543941</td>\n      <td>28.205930</td>\n      <td>0.132472</td>\n      <td>NaN</td>\n    </tr>\n  </tbody>\n</table>\n<p>5 rows × 21 columns</p>\n</div>"
     },
     "execution_count": 3,
     "metadata": {},
     "output_type": "execute_result"
    }
   ],
   "source": [
    "df = pd.read_csv('{}Train_Data.csv'.format(DATA_DIR))\n",
    "df.head()"
   ],
   "metadata": {
    "collapsed": false
   }
  },
  {
   "cell_type": "code",
   "execution_count": 4,
   "outputs": [
    {
     "data": {
      "text/plain": "Index(['date', 'number of rooms', 'security level of the community',\n       'residence space', 'building space', 'noise level', 'waterfront',\n       'view', 'air quality level', 'aboveground space ', 'basement space',\n       'building year', 'decoration year', 'district', 'city', 'zip code',\n       'region', 'exchange rate', 'unit price of residence space',\n       'unit price of building space', 'total cost'],\n      dtype='object')"
     },
     "execution_count": 4,
     "metadata": {},
     "output_type": "execute_result"
    }
   ],
   "source": [
    "df.columns"
   ],
   "metadata": {
    "collapsed": false
   }
  },
  {
   "cell_type": "markdown",
   "source": [
    "# Complete total cost"
   ],
   "metadata": {
    "collapsed": false
   }
  },
  {
   "cell_type": "code",
   "execution_count": 6,
   "outputs": [],
   "source": [
    "def total_cost_in_HKD(record):\n",
    "    return (record['unit price of residence space'] * record['residence space'] + record['unit price of building space'] * record['building space']) * record['exchange rate']"
   ],
   "metadata": {
    "collapsed": false
   }
  },
  {
   "cell_type": "code",
   "execution_count": 7,
   "outputs": [],
   "source": [
    "df['total cost'] = df.apply(total_cost_in_HKD, axis=1)"
   ],
   "metadata": {
    "collapsed": false
   }
  },
  {
   "cell_type": "code",
   "execution_count": 8,
   "outputs": [
    {
     "data": {
      "text/plain": "            date  number of rooms  security level of the community  \\\n0  2014/5/2 0:00                5                             2.50   \n1  2014/5/2 0:00                2                             1.00   \n2  2014/5/2 0:00                4                             2.50   \n3  2014/5/2 0:00                3                             1.50   \n4  2014/5/2 0:00                3                             1.75   \n\n   residence space  building space  noise level  waterfront  view  \\\n0             2820           67518          2.0           0     0   \n1             1210            9400          1.0           0     0   \n2             2200            9397          2.0           0     0   \n3             1200            9720          1.0           0     0   \n4             1370            5858          1.0           0     0   \n\n   air quality level  aboveground space   ...  building year  decoration year  \\\n0                  3                2820  ...           1979             2014   \n1                  2                1210  ...           1949                0   \n2                  3                2200  ...           1987             2000   \n3                  4                1200  ...           1965                0   \n4                  3                1370  ...           1987             2000   \n\n            district        city  zip code region exchange rate  \\\n0  23525 SE 32nd Way    Issaquah  WA 98029    USA      6.784830   \n1   7542 21st Ave SW     Seattle  WA 98106    USA      6.243129   \n2    5214 S 292nd St      Auburn  WA 98001    USA      6.010127   \n3  14034 SE 201st St        Kent  WA 98042    USA      7.560375   \n4    1605 S 245th Pl  Des Moines  WA 98198    USA      6.543941   \n\n   unit price of residence space  unit price of building space     total cost  \n0                      11.886409                      0.977028  675000.000105  \n1                      25.681414                      0.698603  234999.999988  \n2                      16.921174                      0.238882  237227.857125  \n3                      19.632230                      0.876178  242499.999935  \n4                      28.205930                      0.132472  257949.999962  \n\n[5 rows x 21 columns]",
      "text/html": "<div>\n<style scoped>\n    .dataframe tbody tr th:only-of-type {\n        vertical-align: middle;\n    }\n\n    .dataframe tbody tr th {\n        vertical-align: top;\n    }\n\n    .dataframe thead th {\n        text-align: right;\n    }\n</style>\n<table border=\"1\" class=\"dataframe\">\n  <thead>\n    <tr style=\"text-align: right;\">\n      <th></th>\n      <th>date</th>\n      <th>number of rooms</th>\n      <th>security level of the community</th>\n      <th>residence space</th>\n      <th>building space</th>\n      <th>noise level</th>\n      <th>waterfront</th>\n      <th>view</th>\n      <th>air quality level</th>\n      <th>aboveground space</th>\n      <th>...</th>\n      <th>building year</th>\n      <th>decoration year</th>\n      <th>district</th>\n      <th>city</th>\n      <th>zip code</th>\n      <th>region</th>\n      <th>exchange rate</th>\n      <th>unit price of residence space</th>\n      <th>unit price of building space</th>\n      <th>total cost</th>\n    </tr>\n  </thead>\n  <tbody>\n    <tr>\n      <th>0</th>\n      <td>2014/5/2 0:00</td>\n      <td>5</td>\n      <td>2.50</td>\n      <td>2820</td>\n      <td>67518</td>\n      <td>2.0</td>\n      <td>0</td>\n      <td>0</td>\n      <td>3</td>\n      <td>2820</td>\n      <td>...</td>\n      <td>1979</td>\n      <td>2014</td>\n      <td>23525 SE 32nd Way</td>\n      <td>Issaquah</td>\n      <td>WA 98029</td>\n      <td>USA</td>\n      <td>6.784830</td>\n      <td>11.886409</td>\n      <td>0.977028</td>\n      <td>675000.000105</td>\n    </tr>\n    <tr>\n      <th>1</th>\n      <td>2014/5/2 0:00</td>\n      <td>2</td>\n      <td>1.00</td>\n      <td>1210</td>\n      <td>9400</td>\n      <td>1.0</td>\n      <td>0</td>\n      <td>0</td>\n      <td>2</td>\n      <td>1210</td>\n      <td>...</td>\n      <td>1949</td>\n      <td>0</td>\n      <td>7542 21st Ave SW</td>\n      <td>Seattle</td>\n      <td>WA 98106</td>\n      <td>USA</td>\n      <td>6.243129</td>\n      <td>25.681414</td>\n      <td>0.698603</td>\n      <td>234999.999988</td>\n    </tr>\n    <tr>\n      <th>2</th>\n      <td>2014/5/2 0:00</td>\n      <td>4</td>\n      <td>2.50</td>\n      <td>2200</td>\n      <td>9397</td>\n      <td>2.0</td>\n      <td>0</td>\n      <td>0</td>\n      <td>3</td>\n      <td>2200</td>\n      <td>...</td>\n      <td>1987</td>\n      <td>2000</td>\n      <td>5214 S 292nd St</td>\n      <td>Auburn</td>\n      <td>WA 98001</td>\n      <td>USA</td>\n      <td>6.010127</td>\n      <td>16.921174</td>\n      <td>0.238882</td>\n      <td>237227.857125</td>\n    </tr>\n    <tr>\n      <th>3</th>\n      <td>2014/5/2 0:00</td>\n      <td>3</td>\n      <td>1.50</td>\n      <td>1200</td>\n      <td>9720</td>\n      <td>1.0</td>\n      <td>0</td>\n      <td>0</td>\n      <td>4</td>\n      <td>1200</td>\n      <td>...</td>\n      <td>1965</td>\n      <td>0</td>\n      <td>14034 SE 201st St</td>\n      <td>Kent</td>\n      <td>WA 98042</td>\n      <td>USA</td>\n      <td>7.560375</td>\n      <td>19.632230</td>\n      <td>0.876178</td>\n      <td>242499.999935</td>\n    </tr>\n    <tr>\n      <th>4</th>\n      <td>2014/5/2 0:00</td>\n      <td>3</td>\n      <td>1.75</td>\n      <td>1370</td>\n      <td>5858</td>\n      <td>1.0</td>\n      <td>0</td>\n      <td>0</td>\n      <td>3</td>\n      <td>1370</td>\n      <td>...</td>\n      <td>1987</td>\n      <td>2000</td>\n      <td>1605 S 245th Pl</td>\n      <td>Des Moines</td>\n      <td>WA 98198</td>\n      <td>USA</td>\n      <td>6.543941</td>\n      <td>28.205930</td>\n      <td>0.132472</td>\n      <td>257949.999962</td>\n    </tr>\n  </tbody>\n</table>\n<p>5 rows × 21 columns</p>\n</div>"
     },
     "execution_count": 8,
     "metadata": {},
     "output_type": "execute_result"
    }
   ],
   "source": [
    "df.head()"
   ],
   "metadata": {
    "collapsed": false
   }
  },
  {
   "cell_type": "code",
   "execution_count": 15,
   "outputs": [],
   "source": [
    "# df.to_csv('{}Train_Data_with_Cost.csv'.format(DATA_DIR), index=False)"
   ],
   "metadata": {
    "collapsed": false
   }
  },
  {
   "cell_type": "markdown",
   "source": [
    "# Drop unit prices"
   ],
   "metadata": {
    "collapsed": false
   }
  },
  {
   "cell_type": "code",
   "execution_count": 18,
   "outputs": [
    {
     "data": {
      "text/plain": "            date  number of rooms  security level of the community  \\\n0  2014/5/2 0:00                5                             2.50   \n1  2014/5/2 0:00                2                             1.00   \n2  2014/5/2 0:00                4                             2.50   \n3  2014/5/2 0:00                3                             1.50   \n4  2014/5/2 0:00                3                             1.75   \n\n   residence space  building space  noise level  waterfront  view  \\\n0             2820           67518          2.0           0     0   \n1             1210            9400          1.0           0     0   \n2             2200            9397          2.0           0     0   \n3             1200            9720          1.0           0     0   \n4             1370            5858          1.0           0     0   \n\n   air quality level  aboveground space   ...  building year  decoration year  \\\n0                  3                2820  ...           1979             2014   \n1                  2                1210  ...           1949                0   \n2                  3                2200  ...           1987             2000   \n3                  4                1200  ...           1965                0   \n4                  3                1370  ...           1987             2000   \n\n            district        city  zip code region exchange rate  \\\n0  23525 SE 32nd Way    Issaquah  WA 98029    USA      6.784830   \n1   7542 21st Ave SW     Seattle  WA 98106    USA      6.243129   \n2    5214 S 292nd St      Auburn  WA 98001    USA      6.010127   \n3  14034 SE 201st St        Kent  WA 98042    USA      7.560375   \n4    1605 S 245th Pl  Des Moines  WA 98198    USA      6.543941   \n\n   unit price of residence space  unit price of building space     total cost  \n0                      11.886409                      0.977028  675000.000105  \n1                      25.681414                      0.698603  234999.999988  \n2                      16.921174                      0.238882  237227.857125  \n3                      19.632230                      0.876178  242499.999935  \n4                      28.205930                      0.132472  257949.999962  \n\n[5 rows x 21 columns]",
      "text/html": "<div>\n<style scoped>\n    .dataframe tbody tr th:only-of-type {\n        vertical-align: middle;\n    }\n\n    .dataframe tbody tr th {\n        vertical-align: top;\n    }\n\n    .dataframe thead th {\n        text-align: right;\n    }\n</style>\n<table border=\"1\" class=\"dataframe\">\n  <thead>\n    <tr style=\"text-align: right;\">\n      <th></th>\n      <th>date</th>\n      <th>number of rooms</th>\n      <th>security level of the community</th>\n      <th>residence space</th>\n      <th>building space</th>\n      <th>noise level</th>\n      <th>waterfront</th>\n      <th>view</th>\n      <th>air quality level</th>\n      <th>aboveground space</th>\n      <th>...</th>\n      <th>building year</th>\n      <th>decoration year</th>\n      <th>district</th>\n      <th>city</th>\n      <th>zip code</th>\n      <th>region</th>\n      <th>exchange rate</th>\n      <th>unit price of residence space</th>\n      <th>unit price of building space</th>\n      <th>total cost</th>\n    </tr>\n  </thead>\n  <tbody>\n    <tr>\n      <th>0</th>\n      <td>2014/5/2 0:00</td>\n      <td>5</td>\n      <td>2.50</td>\n      <td>2820</td>\n      <td>67518</td>\n      <td>2.0</td>\n      <td>0</td>\n      <td>0</td>\n      <td>3</td>\n      <td>2820</td>\n      <td>...</td>\n      <td>1979</td>\n      <td>2014</td>\n      <td>23525 SE 32nd Way</td>\n      <td>Issaquah</td>\n      <td>WA 98029</td>\n      <td>USA</td>\n      <td>6.784830</td>\n      <td>11.886409</td>\n      <td>0.977028</td>\n      <td>675000.000105</td>\n    </tr>\n    <tr>\n      <th>1</th>\n      <td>2014/5/2 0:00</td>\n      <td>2</td>\n      <td>1.00</td>\n      <td>1210</td>\n      <td>9400</td>\n      <td>1.0</td>\n      <td>0</td>\n      <td>0</td>\n      <td>2</td>\n      <td>1210</td>\n      <td>...</td>\n      <td>1949</td>\n      <td>0</td>\n      <td>7542 21st Ave SW</td>\n      <td>Seattle</td>\n      <td>WA 98106</td>\n      <td>USA</td>\n      <td>6.243129</td>\n      <td>25.681414</td>\n      <td>0.698603</td>\n      <td>234999.999988</td>\n    </tr>\n    <tr>\n      <th>2</th>\n      <td>2014/5/2 0:00</td>\n      <td>4</td>\n      <td>2.50</td>\n      <td>2200</td>\n      <td>9397</td>\n      <td>2.0</td>\n      <td>0</td>\n      <td>0</td>\n      <td>3</td>\n      <td>2200</td>\n      <td>...</td>\n      <td>1987</td>\n      <td>2000</td>\n      <td>5214 S 292nd St</td>\n      <td>Auburn</td>\n      <td>WA 98001</td>\n      <td>USA</td>\n      <td>6.010127</td>\n      <td>16.921174</td>\n      <td>0.238882</td>\n      <td>237227.857125</td>\n    </tr>\n    <tr>\n      <th>3</th>\n      <td>2014/5/2 0:00</td>\n      <td>3</td>\n      <td>1.50</td>\n      <td>1200</td>\n      <td>9720</td>\n      <td>1.0</td>\n      <td>0</td>\n      <td>0</td>\n      <td>4</td>\n      <td>1200</td>\n      <td>...</td>\n      <td>1965</td>\n      <td>0</td>\n      <td>14034 SE 201st St</td>\n      <td>Kent</td>\n      <td>WA 98042</td>\n      <td>USA</td>\n      <td>7.560375</td>\n      <td>19.632230</td>\n      <td>0.876178</td>\n      <td>242499.999935</td>\n    </tr>\n    <tr>\n      <th>4</th>\n      <td>2014/5/2 0:00</td>\n      <td>3</td>\n      <td>1.75</td>\n      <td>1370</td>\n      <td>5858</td>\n      <td>1.0</td>\n      <td>0</td>\n      <td>0</td>\n      <td>3</td>\n      <td>1370</td>\n      <td>...</td>\n      <td>1987</td>\n      <td>2000</td>\n      <td>1605 S 245th Pl</td>\n      <td>Des Moines</td>\n      <td>WA 98198</td>\n      <td>USA</td>\n      <td>6.543941</td>\n      <td>28.205930</td>\n      <td>0.132472</td>\n      <td>257949.999962</td>\n    </tr>\n  </tbody>\n</table>\n<p>5 rows × 21 columns</p>\n</div>"
     },
     "execution_count": 18,
     "metadata": {},
     "output_type": "execute_result"
    }
   ],
   "source": [
    "data_with_cost = pd.read_csv('{}Train_Data_with_Cost.csv'.format(DATA_DIR))\n",
    "data_with_cost.head()"
   ],
   "metadata": {
    "collapsed": false
   }
  },
  {
   "cell_type": "code",
   "execution_count": 19,
   "outputs": [
    {
     "data": {
      "text/plain": "(4000, 21)"
     },
     "execution_count": 19,
     "metadata": {},
     "output_type": "execute_result"
    }
   ],
   "source": [
    "data_with_cost.shape"
   ],
   "metadata": {
    "collapsed": false
   }
  },
  {
   "cell_type": "code",
   "execution_count": 20,
   "outputs": [
    {
     "data": {
      "text/plain": "            date  number of rooms  security level of the community  \\\n0  2014/5/2 0:00                5                             2.50   \n1  2014/5/2 0:00                2                             1.00   \n2  2014/5/2 0:00                4                             2.50   \n3  2014/5/2 0:00                3                             1.50   \n4  2014/5/2 0:00                3                             1.75   \n\n   residence space  building space  noise level  waterfront  view  \\\n0             2820           67518          2.0           0     0   \n1             1210            9400          1.0           0     0   \n2             2200            9397          2.0           0     0   \n3             1200            9720          1.0           0     0   \n4             1370            5858          1.0           0     0   \n\n   air quality level  aboveground space   basement space  building year  \\\n0                  3                2820               0           1979   \n1                  2                1210               0           1949   \n2                  3                2200               0           1987   \n3                  4                1200               0           1965   \n4                  3                1370               0           1987   \n\n   decoration year           district        city  zip code region  \\\n0             2014  23525 SE 32nd Way    Issaquah  WA 98029    USA   \n1                0   7542 21st Ave SW     Seattle  WA 98106    USA   \n2             2000    5214 S 292nd St      Auburn  WA 98001    USA   \n3                0  14034 SE 201st St        Kent  WA 98042    USA   \n4             2000    1605 S 245th Pl  Des Moines  WA 98198    USA   \n\n   exchange rate     total cost  \n0       6.784830  675000.000105  \n1       6.243129  234999.999988  \n2       6.010127  237227.857125  \n3       7.560375  242499.999935  \n4       6.543941  257949.999962  ",
      "text/html": "<div>\n<style scoped>\n    .dataframe tbody tr th:only-of-type {\n        vertical-align: middle;\n    }\n\n    .dataframe tbody tr th {\n        vertical-align: top;\n    }\n\n    .dataframe thead th {\n        text-align: right;\n    }\n</style>\n<table border=\"1\" class=\"dataframe\">\n  <thead>\n    <tr style=\"text-align: right;\">\n      <th></th>\n      <th>date</th>\n      <th>number of rooms</th>\n      <th>security level of the community</th>\n      <th>residence space</th>\n      <th>building space</th>\n      <th>noise level</th>\n      <th>waterfront</th>\n      <th>view</th>\n      <th>air quality level</th>\n      <th>aboveground space</th>\n      <th>basement space</th>\n      <th>building year</th>\n      <th>decoration year</th>\n      <th>district</th>\n      <th>city</th>\n      <th>zip code</th>\n      <th>region</th>\n      <th>exchange rate</th>\n      <th>total cost</th>\n    </tr>\n  </thead>\n  <tbody>\n    <tr>\n      <th>0</th>\n      <td>2014/5/2 0:00</td>\n      <td>5</td>\n      <td>2.50</td>\n      <td>2820</td>\n      <td>67518</td>\n      <td>2.0</td>\n      <td>0</td>\n      <td>0</td>\n      <td>3</td>\n      <td>2820</td>\n      <td>0</td>\n      <td>1979</td>\n      <td>2014</td>\n      <td>23525 SE 32nd Way</td>\n      <td>Issaquah</td>\n      <td>WA 98029</td>\n      <td>USA</td>\n      <td>6.784830</td>\n      <td>675000.000105</td>\n    </tr>\n    <tr>\n      <th>1</th>\n      <td>2014/5/2 0:00</td>\n      <td>2</td>\n      <td>1.00</td>\n      <td>1210</td>\n      <td>9400</td>\n      <td>1.0</td>\n      <td>0</td>\n      <td>0</td>\n      <td>2</td>\n      <td>1210</td>\n      <td>0</td>\n      <td>1949</td>\n      <td>0</td>\n      <td>7542 21st Ave SW</td>\n      <td>Seattle</td>\n      <td>WA 98106</td>\n      <td>USA</td>\n      <td>6.243129</td>\n      <td>234999.999988</td>\n    </tr>\n    <tr>\n      <th>2</th>\n      <td>2014/5/2 0:00</td>\n      <td>4</td>\n      <td>2.50</td>\n      <td>2200</td>\n      <td>9397</td>\n      <td>2.0</td>\n      <td>0</td>\n      <td>0</td>\n      <td>3</td>\n      <td>2200</td>\n      <td>0</td>\n      <td>1987</td>\n      <td>2000</td>\n      <td>5214 S 292nd St</td>\n      <td>Auburn</td>\n      <td>WA 98001</td>\n      <td>USA</td>\n      <td>6.010127</td>\n      <td>237227.857125</td>\n    </tr>\n    <tr>\n      <th>3</th>\n      <td>2014/5/2 0:00</td>\n      <td>3</td>\n      <td>1.50</td>\n      <td>1200</td>\n      <td>9720</td>\n      <td>1.0</td>\n      <td>0</td>\n      <td>0</td>\n      <td>4</td>\n      <td>1200</td>\n      <td>0</td>\n      <td>1965</td>\n      <td>0</td>\n      <td>14034 SE 201st St</td>\n      <td>Kent</td>\n      <td>WA 98042</td>\n      <td>USA</td>\n      <td>7.560375</td>\n      <td>242499.999935</td>\n    </tr>\n    <tr>\n      <th>4</th>\n      <td>2014/5/2 0:00</td>\n      <td>3</td>\n      <td>1.75</td>\n      <td>1370</td>\n      <td>5858</td>\n      <td>1.0</td>\n      <td>0</td>\n      <td>0</td>\n      <td>3</td>\n      <td>1370</td>\n      <td>0</td>\n      <td>1987</td>\n      <td>2000</td>\n      <td>1605 S 245th Pl</td>\n      <td>Des Moines</td>\n      <td>WA 98198</td>\n      <td>USA</td>\n      <td>6.543941</td>\n      <td>257949.999962</td>\n    </tr>\n  </tbody>\n</table>\n</div>"
     },
     "execution_count": 20,
     "metadata": {},
     "output_type": "execute_result"
    }
   ],
   "source": [
    "data_dropped_two_columns = data_with_cost.drop(columns=['unit price of residence space', 'unit price of building space'])\n",
    "data_dropped_two_columns.head()"
   ],
   "metadata": {
    "collapsed": false
   }
  },
  {
   "cell_type": "code",
   "execution_count": 21,
   "outputs": [
    {
     "data": {
      "text/plain": "(4000, 19)"
     },
     "execution_count": 21,
     "metadata": {},
     "output_type": "execute_result"
    }
   ],
   "source": [
    "data_dropped_two_columns.shape"
   ],
   "metadata": {
    "collapsed": false
   }
  },
  {
   "cell_type": "code",
   "execution_count": 22,
   "outputs": [],
   "source": [
    "# data_dropped_two_columns.to_csv('{}Train_Data_without_Unit_Prices.csv'.format(DATA_DIR), index=False)"
   ],
   "metadata": {
    "collapsed": false
   }
  },
  {
   "cell_type": "code",
   "execution_count": 14,
   "outputs": [],
   "source": [],
   "metadata": {
    "collapsed": false
   }
  }
 ],
 "metadata": {
  "kernelspec": {
   "display_name": "Python 3",
   "language": "python",
   "name": "python3"
  },
  "language_info": {
   "codemirror_mode": {
    "name": "ipython",
    "version": 2
   },
   "file_extension": ".py",
   "mimetype": "text/x-python",
   "name": "python",
   "nbconvert_exporter": "python",
   "pygments_lexer": "ipython2",
   "version": "2.7.6"
  }
 },
 "nbformat": 4,
 "nbformat_minor": 0
}
