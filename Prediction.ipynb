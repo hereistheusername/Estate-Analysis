{
 "cells": [
  {
   "cell_type": "code",
   "execution_count": 50,
   "metadata": {
    "collapsed": true,
    "ExecuteTime": {
     "start_time": "2023-04-05T22:02:18.911605Z",
     "end_time": "2023-04-05T22:02:18.932651Z"
    }
   },
   "outputs": [],
   "source": [
    "import torch\n",
    "import torch.nn as nn\n",
    "import torch.nn.functional as F\n",
    "from torch.utils.data import DataLoader, random_split\n",
    "from typing import Tuple, Iterable\n",
    "import pandas as pd\n",
    "import numpy as np\n",
    "from sklearn.preprocessing import MinMaxScaler"
   ]
  },
  {
   "cell_type": "code",
   "execution_count": 51,
   "outputs": [],
   "source": [
    "BATCH_SIZE=32"
   ],
   "metadata": {
    "collapsed": false,
    "ExecuteTime": {
     "start_time": "2023-04-05T22:02:18.914531Z",
     "end_time": "2023-04-05T22:02:18.933024Z"
    }
   }
  },
  {
   "cell_type": "code",
   "execution_count": 52,
   "outputs": [],
   "source": [
    "# Let's define the class object of multilayer perceptrons\n",
    "class DNN(torch.nn.Module):\n",
    "    def __init__(self, width_vec: list = None):\n",
    "        super(DNN, self).__init__()\n",
    "        self.width_vec= width_vec\n",
    "\n",
    "        modules = []\n",
    "        if width_vec is None:\n",
    "            width_vec = [1,256,256,256,1]\n",
    "\n",
    "        # Network\n",
    "        for i in range(len(width_vec) - 2):\n",
    "            modules.append(nn.Linear(width_vec[i],width_vec[i+1]));\n",
    "            modules.append(nn.ReLU())\n",
    "\n",
    "        self.net = nn.Sequential(*modules,\n",
    "                                 nn.Linear(width_vec[-2],width_vec[-1])\n",
    "                                 )\n",
    "\n",
    "    def forward(self,x):\n",
    "        output = self.net(x)\n",
    "        return  output"
   ],
   "metadata": {
    "collapsed": false,
    "ExecuteTime": {
     "start_time": "2023-04-05T22:02:18.918847Z",
     "end_time": "2023-04-05T22:02:18.960622Z"
    }
   }
  },
  {
   "cell_type": "code",
   "execution_count": 53,
   "outputs": [],
   "source": [
    "class Dataset(torch.utils.data.Dataset):\n",
    "    'Characterizes a dataset for PyTorch'\n",
    "    def __init__(self, attributes, target):\n",
    "        self.attributes = attributes\n",
    "        self.target = target\n",
    "\n",
    "    def __len__(self):\n",
    "        'Denotes the total number of samples'\n",
    "        return len(self.attributes)\n",
    "\n",
    "    def __getitem__(self, index):\n",
    "        X = torch.tensor(self.attributes[index], dtype=torch.float)\n",
    "        y = torch.tensor(self.target[index], dtype=torch.float)\n",
    "\n",
    "        return X, y"
   ],
   "metadata": {
    "collapsed": false,
    "ExecuteTime": {
     "start_time": "2023-04-05T22:02:18.924029Z",
     "end_time": "2023-04-05T22:02:18.960791Z"
    }
   }
  },
  {
   "cell_type": "code",
   "execution_count": 53,
   "outputs": [],
   "source": [],
   "metadata": {
    "collapsed": false,
    "ExecuteTime": {
     "start_time": "2023-04-05T22:02:18.926479Z",
     "end_time": "2023-04-05T22:02:18.960853Z"
    }
   }
  },
  {
   "cell_type": "code",
   "execution_count": 54,
   "outputs": [
    {
     "data": {
      "text/plain": "   number of rooms  security level of the community  residence space  \\\n0                5                             2.50             2820   \n1                2                             1.00             1210   \n2                4                             2.50             2200   \n3                3                             1.50             1200   \n4                3                             1.75             1370   \n\n   building space  noise level  waterfront  view  air quality level  \\\n0           67518          2.0           0     0                  3   \n1            9400          1.0           0     0                  2   \n2            9397          2.0           0     0                  3   \n3            9720          1.0           0     0                  4   \n4            5858          1.0           0     0                  3   \n\n   aboveground space   basement space  building year  exchange rate  \\\n0                2820               0           1979       6.784830   \n1                1210               0           1949       6.243129   \n2                2200               0           1987       6.010127   \n3                1200               0           1965       7.560375   \n4                1370               0           1987       6.543941   \n\n         LAT         LNG   timestamp  transaction year  transaction month  \\\n0  47.557085 -122.007748  1398988800              2014                  5   \n1  47.544034 -122.349874  1398988800              2014                  5   \n2  47.310617 -122.263291  1398988800              2014                  5   \n3  47.367737 -122.117029  1398988800              2014                  5   \n4  47.391319 -122.314971  1398988800              2014                  5   \n\n   transaction day  filled decoration year          total  \n0                2                    2014  675000.000105  \n1                2                    1949  234999.999988  \n2                2                    2000  237227.857125  \n3                2                    1965  242499.999935  \n4                2                    2000  257949.999962  ",
      "text/html": "<div>\n<style scoped>\n    .dataframe tbody tr th:only-of-type {\n        vertical-align: middle;\n    }\n\n    .dataframe tbody tr th {\n        vertical-align: top;\n    }\n\n    .dataframe thead th {\n        text-align: right;\n    }\n</style>\n<table border=\"1\" class=\"dataframe\">\n  <thead>\n    <tr style=\"text-align: right;\">\n      <th></th>\n      <th>number of rooms</th>\n      <th>security level of the community</th>\n      <th>residence space</th>\n      <th>building space</th>\n      <th>noise level</th>\n      <th>waterfront</th>\n      <th>view</th>\n      <th>air quality level</th>\n      <th>aboveground space</th>\n      <th>basement space</th>\n      <th>building year</th>\n      <th>exchange rate</th>\n      <th>LAT</th>\n      <th>LNG</th>\n      <th>timestamp</th>\n      <th>transaction year</th>\n      <th>transaction month</th>\n      <th>transaction day</th>\n      <th>filled decoration year</th>\n      <th>total</th>\n    </tr>\n  </thead>\n  <tbody>\n    <tr>\n      <th>0</th>\n      <td>5</td>\n      <td>2.50</td>\n      <td>2820</td>\n      <td>67518</td>\n      <td>2.0</td>\n      <td>0</td>\n      <td>0</td>\n      <td>3</td>\n      <td>2820</td>\n      <td>0</td>\n      <td>1979</td>\n      <td>6.784830</td>\n      <td>47.557085</td>\n      <td>-122.007748</td>\n      <td>1398988800</td>\n      <td>2014</td>\n      <td>5</td>\n      <td>2</td>\n      <td>2014</td>\n      <td>675000.000105</td>\n    </tr>\n    <tr>\n      <th>1</th>\n      <td>2</td>\n      <td>1.00</td>\n      <td>1210</td>\n      <td>9400</td>\n      <td>1.0</td>\n      <td>0</td>\n      <td>0</td>\n      <td>2</td>\n      <td>1210</td>\n      <td>0</td>\n      <td>1949</td>\n      <td>6.243129</td>\n      <td>47.544034</td>\n      <td>-122.349874</td>\n      <td>1398988800</td>\n      <td>2014</td>\n      <td>5</td>\n      <td>2</td>\n      <td>1949</td>\n      <td>234999.999988</td>\n    </tr>\n    <tr>\n      <th>2</th>\n      <td>4</td>\n      <td>2.50</td>\n      <td>2200</td>\n      <td>9397</td>\n      <td>2.0</td>\n      <td>0</td>\n      <td>0</td>\n      <td>3</td>\n      <td>2200</td>\n      <td>0</td>\n      <td>1987</td>\n      <td>6.010127</td>\n      <td>47.310617</td>\n      <td>-122.263291</td>\n      <td>1398988800</td>\n      <td>2014</td>\n      <td>5</td>\n      <td>2</td>\n      <td>2000</td>\n      <td>237227.857125</td>\n    </tr>\n    <tr>\n      <th>3</th>\n      <td>3</td>\n      <td>1.50</td>\n      <td>1200</td>\n      <td>9720</td>\n      <td>1.0</td>\n      <td>0</td>\n      <td>0</td>\n      <td>4</td>\n      <td>1200</td>\n      <td>0</td>\n      <td>1965</td>\n      <td>7.560375</td>\n      <td>47.367737</td>\n      <td>-122.117029</td>\n      <td>1398988800</td>\n      <td>2014</td>\n      <td>5</td>\n      <td>2</td>\n      <td>1965</td>\n      <td>242499.999935</td>\n    </tr>\n    <tr>\n      <th>4</th>\n      <td>3</td>\n      <td>1.75</td>\n      <td>1370</td>\n      <td>5858</td>\n      <td>1.0</td>\n      <td>0</td>\n      <td>0</td>\n      <td>3</td>\n      <td>1370</td>\n      <td>0</td>\n      <td>1987</td>\n      <td>6.543941</td>\n      <td>47.391319</td>\n      <td>-122.314971</td>\n      <td>1398988800</td>\n      <td>2014</td>\n      <td>5</td>\n      <td>2</td>\n      <td>2000</td>\n      <td>257949.999962</td>\n    </tr>\n  </tbody>\n</table>\n</div>"
     },
     "execution_count": 54,
     "metadata": {},
     "output_type": "execute_result"
    }
   ],
   "source": [
    "df = pd.read_csv('data/Train_Data_Converted&Dropped.csv')\n",
    "df.head()"
   ],
   "metadata": {
    "collapsed": false,
    "ExecuteTime": {
     "start_time": "2023-04-05T22:02:18.928295Z",
     "end_time": "2023-04-05T22:02:18.961342Z"
    }
   }
  },
  {
   "cell_type": "code",
   "execution_count": 55,
   "outputs": [
    {
     "data": {
      "text/plain": "   number of rooms  security level of the community  residence space  \\\n0         0.555556                          0.31250         0.182304   \n1         0.222222                          0.12500         0.059497   \n2         0.444444                          0.31250         0.135011   \n3         0.333333                          0.18750         0.058734   \n4         0.333333                          0.21875         0.071701   \n\n   building space  noise level  waterfront  view  air quality level  \\\n0        0.217492          0.4         0.0   0.0               0.50   \n1        0.028185          0.0         0.0   0.0               0.25   \n2        0.028175          0.4         0.0   0.0               0.50   \n3        0.029228          0.0         0.0   0.0               0.75   \n4        0.016648          0.0         0.0   0.0               0.50   \n\n   aboveground space   basement space  building year  exchange rate       LAT  \\\n0            0.266147             0.0       0.692982       0.392235  0.625836   \n1            0.086860             0.0       0.429825       0.121247  0.601863   \n2            0.197105             0.0       0.763158       0.004686  0.173113   \n3            0.085746             0.0       0.570175       0.780206  0.278033   \n4            0.104677             0.0       0.763158       0.271729  0.321350   \n\n        LNG  timestamp  transaction year  transaction month  transaction day  \\\n0  0.389753        0.0               0.0                0.0         0.033333   \n1  0.103344        0.0               0.0                0.0         0.033333   \n2  0.175826        0.0               0.0                0.0         0.033333   \n3  0.298269        0.0               0.0                0.0         0.033333   \n4  0.132563        0.0               0.0                0.0         0.033333   \n\n   filled decoration year     total  \n0                1.000000  0.211895  \n1                0.424779  0.055199  \n2                0.876106  0.055993  \n3                0.566372  0.057870  \n4                0.876106  0.063373  ",
      "text/html": "<div>\n<style scoped>\n    .dataframe tbody tr th:only-of-type {\n        vertical-align: middle;\n    }\n\n    .dataframe tbody tr th {\n        vertical-align: top;\n    }\n\n    .dataframe thead th {\n        text-align: right;\n    }\n</style>\n<table border=\"1\" class=\"dataframe\">\n  <thead>\n    <tr style=\"text-align: right;\">\n      <th></th>\n      <th>number of rooms</th>\n      <th>security level of the community</th>\n      <th>residence space</th>\n      <th>building space</th>\n      <th>noise level</th>\n      <th>waterfront</th>\n      <th>view</th>\n      <th>air quality level</th>\n      <th>aboveground space</th>\n      <th>basement space</th>\n      <th>building year</th>\n      <th>exchange rate</th>\n      <th>LAT</th>\n      <th>LNG</th>\n      <th>timestamp</th>\n      <th>transaction year</th>\n      <th>transaction month</th>\n      <th>transaction day</th>\n      <th>filled decoration year</th>\n      <th>total</th>\n    </tr>\n  </thead>\n  <tbody>\n    <tr>\n      <th>0</th>\n      <td>0.555556</td>\n      <td>0.31250</td>\n      <td>0.182304</td>\n      <td>0.217492</td>\n      <td>0.4</td>\n      <td>0.0</td>\n      <td>0.0</td>\n      <td>0.50</td>\n      <td>0.266147</td>\n      <td>0.0</td>\n      <td>0.692982</td>\n      <td>0.392235</td>\n      <td>0.625836</td>\n      <td>0.389753</td>\n      <td>0.0</td>\n      <td>0.0</td>\n      <td>0.0</td>\n      <td>0.033333</td>\n      <td>1.000000</td>\n      <td>0.211895</td>\n    </tr>\n    <tr>\n      <th>1</th>\n      <td>0.222222</td>\n      <td>0.12500</td>\n      <td>0.059497</td>\n      <td>0.028185</td>\n      <td>0.0</td>\n      <td>0.0</td>\n      <td>0.0</td>\n      <td>0.25</td>\n      <td>0.086860</td>\n      <td>0.0</td>\n      <td>0.429825</td>\n      <td>0.121247</td>\n      <td>0.601863</td>\n      <td>0.103344</td>\n      <td>0.0</td>\n      <td>0.0</td>\n      <td>0.0</td>\n      <td>0.033333</td>\n      <td>0.424779</td>\n      <td>0.055199</td>\n    </tr>\n    <tr>\n      <th>2</th>\n      <td>0.444444</td>\n      <td>0.31250</td>\n      <td>0.135011</td>\n      <td>0.028175</td>\n      <td>0.4</td>\n      <td>0.0</td>\n      <td>0.0</td>\n      <td>0.50</td>\n      <td>0.197105</td>\n      <td>0.0</td>\n      <td>0.763158</td>\n      <td>0.004686</td>\n      <td>0.173113</td>\n      <td>0.175826</td>\n      <td>0.0</td>\n      <td>0.0</td>\n      <td>0.0</td>\n      <td>0.033333</td>\n      <td>0.876106</td>\n      <td>0.055993</td>\n    </tr>\n    <tr>\n      <th>3</th>\n      <td>0.333333</td>\n      <td>0.18750</td>\n      <td>0.058734</td>\n      <td>0.029228</td>\n      <td>0.0</td>\n      <td>0.0</td>\n      <td>0.0</td>\n      <td>0.75</td>\n      <td>0.085746</td>\n      <td>0.0</td>\n      <td>0.570175</td>\n      <td>0.780206</td>\n      <td>0.278033</td>\n      <td>0.298269</td>\n      <td>0.0</td>\n      <td>0.0</td>\n      <td>0.0</td>\n      <td>0.033333</td>\n      <td>0.566372</td>\n      <td>0.057870</td>\n    </tr>\n    <tr>\n      <th>4</th>\n      <td>0.333333</td>\n      <td>0.21875</td>\n      <td>0.071701</td>\n      <td>0.016648</td>\n      <td>0.0</td>\n      <td>0.0</td>\n      <td>0.0</td>\n      <td>0.50</td>\n      <td>0.104677</td>\n      <td>0.0</td>\n      <td>0.763158</td>\n      <td>0.271729</td>\n      <td>0.321350</td>\n      <td>0.132563</td>\n      <td>0.0</td>\n      <td>0.0</td>\n      <td>0.0</td>\n      <td>0.033333</td>\n      <td>0.876106</td>\n      <td>0.063373</td>\n    </tr>\n  </tbody>\n</table>\n</div>"
     },
     "execution_count": 55,
     "metadata": {},
     "output_type": "execute_result"
    }
   ],
   "source": [
    "attributes_scaler = MinMaxScaler()\n",
    "attributes_data = attributes_scaler.fit_transform(df.drop(['total'], axis=1))\n",
    "target_scaler = MinMaxScaler()\n",
    "target_data = target_scaler.fit_transform(df['total'].to_numpy().reshape(-1, 1))\n",
    "df = pd.concat([\n",
    "     pd.DataFrame(attributes_data, columns=df.columns[:-1]),\n",
    "     pd.DataFrame(target_data.squeeze(), columns=['total'])\n",
    " ], axis=1)\n",
    "df.head()"
   ],
   "metadata": {
    "collapsed": false,
    "ExecuteTime": {
     "start_time": "2023-04-05T22:02:18.946363Z",
     "end_time": "2023-04-05T22:02:18.961498Z"
    }
   }
  },
  {
   "cell_type": "code",
   "execution_count": 56,
   "outputs": [],
   "source": [
    "# generator = torch.random.manual_seed(42)\n",
    "# train, valid = random_split(df.values, [0.9, 0.1], generator)"
   ],
   "metadata": {
    "collapsed": false,
    "ExecuteTime": {
     "start_time": "2023-04-05T22:02:18.957111Z",
     "end_time": "2023-04-05T22:02:18.961554Z"
    }
   }
  },
  {
   "cell_type": "code",
   "execution_count": 57,
   "outputs": [],
   "source": [
    "# train = DataLoader(train, BATCH_SIZE, shuffle=True, num_workers=2)\n",
    "# valid = DataLoader(valid, BATCH_SIZE, shuffle=True, num_workers=1)"
   ],
   "metadata": {
    "collapsed": false,
    "ExecuteTime": {
     "start_time": "2023-04-05T22:02:18.959289Z",
     "end_time": "2023-04-05T22:02:18.961599Z"
    }
   }
  },
  {
   "cell_type": "code",
   "execution_count": 58,
   "outputs": [],
   "source": [
    "dataset = Dataset(df.drop(['total', 'transaction year', 'transaction month', 'transaction day', 'timestamp'], axis=1).values, df['total'].values)"
   ],
   "metadata": {
    "collapsed": false,
    "ExecuteTime": {
     "start_time": "2023-04-05T22:02:18.964517Z",
     "end_time": "2023-04-05T22:02:18.966298Z"
    }
   }
  },
  {
   "cell_type": "code",
   "execution_count": 59,
   "outputs": [
    {
     "data": {
      "text/plain": "(tensor([0.5556, 0.3125, 0.1823, 0.2175, 0.4000, 0.0000, 0.0000, 0.5000, 0.2661,\n         0.0000, 0.6930, 0.3922, 0.6258, 0.3898, 1.0000]),\n tensor(0.2119))"
     },
     "execution_count": 59,
     "metadata": {},
     "output_type": "execute_result"
    }
   ],
   "source": [
    "dataset[0]"
   ],
   "metadata": {
    "collapsed": false,
    "ExecuteTime": {
     "start_time": "2023-04-05T22:02:18.966864Z",
     "end_time": "2023-04-05T22:02:18.970905Z"
    }
   }
  },
  {
   "cell_type": "code",
   "execution_count": 60,
   "outputs": [],
   "source": [
    "generator = torch.random.manual_seed(42)\n",
    "train, valid = random_split(dataset, [0.9, 0.1], generator)"
   ],
   "metadata": {
    "collapsed": false,
    "ExecuteTime": {
     "start_time": "2023-04-05T22:02:18.971347Z",
     "end_time": "2023-04-05T22:02:18.973462Z"
    }
   }
  },
  {
   "cell_type": "code",
   "execution_count": 61,
   "outputs": [],
   "source": [
    "train_set = DataLoader(train, BATCH_SIZE, shuffle=True, )\n",
    "valid_set = DataLoader(valid, BATCH_SIZE, shuffle=True)"
   ],
   "metadata": {
    "collapsed": false,
    "ExecuteTime": {
     "start_time": "2023-04-05T22:02:18.974360Z",
     "end_time": "2023-04-05T22:02:18.975998Z"
    }
   }
  },
  {
   "cell_type": "code",
   "execution_count": 62,
   "outputs": [],
   "source": [
    "device = \"cuda\" if torch.cuda.is_available() else \"cpu\""
   ],
   "metadata": {
    "collapsed": false,
    "ExecuteTime": {
     "start_time": "2023-04-05T22:02:18.976928Z",
     "end_time": "2023-04-05T22:02:18.978338Z"
    }
   }
  },
  {
   "cell_type": "code",
   "execution_count": 63,
   "outputs": [],
   "source": [
    "i, (X, y) = next(enumerate(train_set))"
   ],
   "metadata": {
    "collapsed": false,
    "ExecuteTime": {
     "start_time": "2023-04-05T22:02:18.979274Z",
     "end_time": "2023-04-05T22:02:18.981387Z"
    }
   }
  },
  {
   "cell_type": "code",
   "execution_count": 64,
   "outputs": [
    {
     "data": {
      "text/plain": "torch.Size([32, 15])"
     },
     "execution_count": 64,
     "metadata": {},
     "output_type": "execute_result"
    }
   ],
   "source": [
    "X.shape"
   ],
   "metadata": {
    "collapsed": false,
    "ExecuteTime": {
     "start_time": "2023-04-05T22:02:18.982400Z",
     "end_time": "2023-04-05T22:02:18.985145Z"
    }
   }
  },
  {
   "cell_type": "code",
   "execution_count": 65,
   "outputs": [
    {
     "data": {
      "text/plain": "108"
     },
     "execution_count": 65,
     "metadata": {},
     "output_type": "execute_result"
    }
   ],
   "source": [
    "len(train_set)"
   ],
   "metadata": {
    "collapsed": false,
    "ExecuteTime": {
     "start_time": "2023-04-05T22:02:18.985276Z",
     "end_time": "2023-04-05T22:02:19.006151Z"
    }
   }
  },
  {
   "cell_type": "code",
   "execution_count": 66,
   "outputs": [],
   "source": [
    "def to_level(l: Iterable):\n",
    "    def tier(cost: float):\n",
    "        if 0 <= cost < 300000: return 1\n",
    "        elif 300000 <= cost < 500000: return 2\n",
    "        elif 500000 <= cost < 700000: return 3\n",
    "        elif 700000 <= cost: return 4\n",
    "    return np.array([tier(c) for c in l])\n",
    "\n"
   ],
   "metadata": {
    "collapsed": false,
    "ExecuteTime": {
     "start_time": "2023-04-05T22:02:18.988538Z",
     "end_time": "2023-04-05T22:02:19.006331Z"
    }
   }
  },
  {
   "cell_type": "code",
   "execution_count": 77,
   "outputs": [],
   "source": [
    "def trainer(dataloader: torch.utils.data.DataLoader,\n",
    "            model: torch.nn.Module,\n",
    "            optimizer,\n",
    "            loss_fn):\n",
    "    size = len(dataloader.dataset)\n",
    "    num_batches = len(dataloader)\n",
    "    acc = list()\n",
    "    train_loss = 0\n",
    "    model.train()\n",
    "    for batch, (X, y) in enumerate(dataloader):\n",
    "        shape_X = X.shape\n",
    "        X, y = X.reshape(shape_X[0], 1, shape_X[1]).to(device), y.to(device)\n",
    "        tiers = to_level(y)\n",
    "\n",
    "        # Compute prediction error\n",
    "        pred = model(X).squeeze()\n",
    "        # tiers_pred = to_level(pred)\n",
    "        loss = loss_fn(pred, y)\n",
    "        train_loss += loss.item()\n",
    "        acc.append((to_level(target_scaler.inverse_transform(pred.detach().numpy().reshape(-1, 1))) == to_level(target_scaler.inverse_transform(y.reshape(-1, 1)).squeeze())).sum()/len(y))\n",
    "        # Backpropagation\n",
    "        optimizer.zero_grad()\n",
    "        loss.backward()\n",
    "        optimizer.step()\n",
    "    train_loss /= num_batches\n",
    "    print(f\"Avg Train loss: {loss:>8f}, Avg accuracy: {np.mean(acc):8f}\")\n",
    "    return train_loss"
   ],
   "metadata": {
    "collapsed": false,
    "ExecuteTime": {
     "start_time": "2023-04-05T22:05:29.981594Z",
     "end_time": "2023-04-05T22:05:29.988818Z"
    }
   }
  },
  {
   "cell_type": "code",
   "execution_count": 120,
   "outputs": [],
   "source": [
    "def evaluator(dataloader, model, loss_fn):\n",
    "    size = len(dataloader.dataset)\n",
    "    num_batches = len(dataloader)\n",
    "    model.eval()\n",
    "    test_loss, correct = 0, 0\n",
    "    acc = list()\n",
    "    with torch.no_grad():\n",
    "        for X, y in dataloader:\n",
    "            shape_X = X.shape\n",
    "            X, y = X.reshape(shape_X[0], 1, shape_X[1]).to(device), y.to(device)\n",
    "            pred = model(X).squeeze()\n",
    "            test_loss += loss_fn(pred, y).item()\n",
    "            acc.append((to_level(target_scaler.inverse_transform(pred.detach().numpy().reshape(-1, 1))) == to_level(target_scaler.inverse_transform(y.reshape(-1, 1)).squeeze())).sum()/len(y))\n",
    "            # correct += (pred.argmax(1) == y).type(torch.float).sum().item()\n",
    "    test_loss /= num_batches\n",
    "    # correct /= size\n",
    "    # print(f\"Test Error: \\n Accuracy: {(100*correct):>0.1f}%, Avg loss: {test_loss:>8f} \\n\")\n",
    "    print('Avg loss: {:8f}, Avg evaluation accuracy: {:.8f}'.format(test_loss, np.mean(acc)))\n",
    "    return test_loss"
   ],
   "metadata": {
    "collapsed": false,
    "ExecuteTime": {
     "start_time": "2023-04-05T22:20:10.668659Z",
     "end_time": "2023-04-05T22:20:10.672466Z"
    }
   }
  },
  {
   "cell_type": "code",
   "execution_count": 69,
   "outputs": [],
   "source": [
    "# model = DNN([15, 256, 256, 256, 1]).to(device)"
   ],
   "metadata": {
    "collapsed": false,
    "ExecuteTime": {
     "start_time": "2023-04-05T22:02:18.999189Z",
     "end_time": "2023-04-05T22:02:19.043256Z"
    }
   }
  },
  {
   "cell_type": "code",
   "execution_count": 156,
   "outputs": [
    {
     "name": "stdout",
     "output_type": "stream",
     "text": [
      "Sequential(\n",
      "  (0): Conv1d(1, 8, kernel_size=(1,), stride=(1,))\n",
      "  (1): Conv1d(8, 32, kernel_size=(3,), stride=(1,))\n",
      "  (2): AvgPool1d(kernel_size=(3,), stride=(3,), padding=(0,))\n",
      "  (3): Flatten(start_dim=1, end_dim=-1)\n",
      "  (4): Linear(in_features=128, out_features=64, bias=True)\n",
      "  (5): ReLU()\n",
      "  (6): Linear(in_features=64, out_features=16, bias=True)\n",
      "  (7): ReLU()\n",
      "  (8): Dropout1d(p=0.0, inplace=False)\n",
      "  (9): Linear(in_features=16, out_features=1, bias=True)\n",
      ")\n"
     ]
    }
   ],
   "source": [
    "DROP_RATE = 0.\n",
    "model = torch.nn.Sequential(\n",
    "    nn.Conv1d(1, 8, 1),\n",
    "    nn.Conv1d(8, 32, 3),\n",
    "    nn.AvgPool1d(3),\n",
    "    nn.Flatten(),\n",
    "    nn.Linear(128, 64),\n",
    "    nn.ReLU(),\n",
    "    nn.Linear(64, 16),\n",
    "    nn.ReLU(),\n",
    "    nn.Dropout1d(DROP_RATE),\n",
    "    nn.Linear(16, 1)\n",
    ").to(device)\n",
    "print(model)"
   ],
   "metadata": {
    "collapsed": false,
    "ExecuteTime": {
     "start_time": "2023-04-05T22:33:19.834502Z",
     "end_time": "2023-04-05T22:33:19.839469Z"
    }
   }
  },
  {
   "cell_type": "code",
   "execution_count": 138,
   "outputs": [
    {
     "data": {
      "text/plain": "torch.Size([32, 1])"
     },
     "execution_count": 138,
     "metadata": {},
     "output_type": "execute_result"
    }
   ],
   "source": [
    "model(torch.randn((32, 1, 15))).shape"
   ],
   "metadata": {
    "collapsed": false,
    "ExecuteTime": {
     "start_time": "2023-04-05T22:25:42.619029Z",
     "end_time": "2023-04-05T22:25:42.624336Z"
    }
   }
  },
  {
   "cell_type": "code",
   "execution_count": 157,
   "outputs": [],
   "source": [
    "loss_fn = torch.nn.MSELoss(reduction='sum')\n",
    "lr = 5e-4\n",
    "optimizer = torch.optim.Adam(model.parameters(), lr)\n",
    "EPOCH = 200\n"
   ],
   "metadata": {
    "collapsed": false,
    "ExecuteTime": {
     "start_time": "2023-04-05T22:33:22.263405Z",
     "end_time": "2023-04-05T22:33:22.266837Z"
    }
   }
  },
  {
   "cell_type": "code",
   "execution_count": 158,
   "outputs": [
    {
     "name": "stdout",
     "output_type": "stream",
     "text": [
      "Avg Train loss: 0.144998, Avg accuracy: 0.318287\n",
      "Avg loss: 0.342422, Avg evaluation accuracy: 0.37690972\n",
      "Avg Train loss: 0.208344, Avg accuracy: 0.371817\n",
      "Avg loss: 0.211203, Avg evaluation accuracy: 0.43767361\n",
      "Avg Train loss: 0.066036, Avg accuracy: 0.492188\n",
      "Avg loss: 0.146305, Avg evaluation accuracy: 0.51822917\n",
      "Avg Train loss: 0.034876, Avg accuracy: 0.518229\n",
      "Avg loss: 0.149752, Avg evaluation accuracy: 0.55000000\n",
      "Avg Train loss: 0.050850, Avg accuracy: 0.551794\n",
      "Avg loss: 0.130959, Avg evaluation accuracy: 0.55434028\n",
      "Avg Train loss: 0.026692, Avg accuracy: 0.565394\n",
      "Avg loss: 0.126916, Avg evaluation accuracy: 0.55781250\n",
      "Avg Train loss: 0.046440, Avg accuracy: 0.555556\n",
      "Avg loss: 0.156953, Avg evaluation accuracy: 0.46302083\n",
      "Avg Train loss: 0.054391, Avg accuracy: 0.563657\n",
      "Avg loss: 0.131947, Avg evaluation accuracy: 0.54652778\n",
      "Avg Train loss: 0.025627, Avg accuracy: 0.563657\n",
      "Avg loss: 0.130047, Avg evaluation accuracy: 0.56979167\n",
      "Avg Train loss: 0.036631, Avg accuracy: 0.565972\n",
      "Avg loss: 0.127137, Avg evaluation accuracy: 0.57569444\n",
      "Avg Train loss: 0.065146, Avg accuracy: 0.578125\n",
      "Avg loss: 0.131240, Avg evaluation accuracy: 0.49913194\n",
      "Avg Train loss: 0.076050, Avg accuracy: 0.570891\n",
      "Avg loss: 0.121817, Avg evaluation accuracy: 0.59114583\n",
      "Avg Train loss: 0.025680, Avg accuracy: 0.581308\n",
      "Avg loss: 0.125952, Avg evaluation accuracy: 0.52569444\n",
      "Avg Train loss: 0.036376, Avg accuracy: 0.583912\n",
      "Avg loss: 0.121478, Avg evaluation accuracy: 0.58194444\n",
      "Avg Train loss: 0.039621, Avg accuracy: 0.588252\n",
      "Avg loss: 0.126401, Avg evaluation accuracy: 0.58107639\n",
      "Avg Train loss: 0.020587, Avg accuracy: 0.596644\n",
      "Avg loss: 0.126720, Avg evaluation accuracy: 0.59201389\n",
      "Avg Train loss: 0.056414, Avg accuracy: 0.594039\n",
      "Avg loss: 0.118933, Avg evaluation accuracy: 0.58420139\n",
      "Avg Train loss: 0.061728, Avg accuracy: 0.590567\n",
      "Avg loss: 0.123117, Avg evaluation accuracy: 0.53715278\n",
      "Avg Train loss: 0.033463, Avg accuracy: 0.599248\n",
      "Avg loss: 0.123906, Avg evaluation accuracy: 0.60208333\n",
      "Avg Train loss: 0.049778, Avg accuracy: 0.605613\n",
      "Avg loss: 0.115935, Avg evaluation accuracy: 0.59670139\n",
      "Avg Train loss: 0.106617, Avg accuracy: 0.603877\n",
      "Avg loss: 0.126492, Avg evaluation accuracy: 0.59322917\n",
      "Avg Train loss: 0.042127, Avg accuracy: 0.605035\n",
      "Avg loss: 0.109865, Avg evaluation accuracy: 0.58350694\n",
      "Avg Train loss: 0.028968, Avg accuracy: 0.608507\n",
      "Avg loss: 0.113653, Avg evaluation accuracy: 0.61232639\n",
      "Avg Train loss: 0.028776, Avg accuracy: 0.614005\n",
      "Avg loss: 0.117986, Avg evaluation accuracy: 0.61527778\n",
      "Avg Train loss: 0.015514, Avg accuracy: 0.618345\n",
      "Avg loss: 0.122876, Avg evaluation accuracy: 0.60746528\n",
      "Avg Train loss: 0.029041, Avg accuracy: 0.623843\n",
      "Avg loss: 0.107432, Avg evaluation accuracy: 0.63055556\n",
      "Avg Train loss: 0.016363, Avg accuracy: 0.627894\n",
      "Avg loss: 0.107640, Avg evaluation accuracy: 0.61302083\n",
      "Avg Train loss: 0.064472, Avg accuracy: 0.637153\n",
      "Avg loss: 0.103815, Avg evaluation accuracy: 0.64843750\n",
      "Avg Train loss: 0.010646, Avg accuracy: 0.638021\n",
      "Avg loss: 0.100574, Avg evaluation accuracy: 0.65451389\n",
      "Avg Train loss: 0.059288, Avg accuracy: 0.637731\n",
      "Avg loss: 0.105874, Avg evaluation accuracy: 0.65260417\n",
      "Avg Train loss: 0.078422, Avg accuracy: 0.633391\n",
      "Avg loss: 0.102533, Avg evaluation accuracy: 0.63159722\n",
      "Avg Train loss: 0.027326, Avg accuracy: 0.654514\n",
      "Avg loss: 0.098645, Avg evaluation accuracy: 0.63315972\n",
      "Avg Train loss: 0.017381, Avg accuracy: 0.652199\n",
      "Avg loss: 0.095225, Avg evaluation accuracy: 0.64149306\n",
      "Avg Train loss: 0.044091, Avg accuracy: 0.651910\n",
      "Avg loss: 0.086916, Avg evaluation accuracy: 0.64444444\n",
      "Avg Train loss: 0.017791, Avg accuracy: 0.654225\n",
      "Avg loss: 0.101380, Avg evaluation accuracy: 0.59895833\n",
      "Avg Train loss: 0.013655, Avg accuracy: 0.657118\n",
      "Avg loss: 0.101596, Avg evaluation accuracy: 0.66267361\n",
      "Avg Train loss: 0.014218, Avg accuracy: 0.654803\n",
      "Avg loss: 0.103044, Avg evaluation accuracy: 0.65208333\n",
      "Avg Train loss: 0.136225, Avg accuracy: 0.651910\n",
      "Avg loss: 0.093895, Avg evaluation accuracy: 0.64635417\n",
      "Avg Train loss: 0.044315, Avg accuracy: 0.654514\n",
      "Avg loss: 0.086477, Avg evaluation accuracy: 0.64409722\n",
      "Avg Train loss: 0.034744, Avg accuracy: 0.664931\n",
      "Avg loss: 0.087110, Avg evaluation accuracy: 0.65694444\n",
      "Avg Train loss: 0.018074, Avg accuracy: 0.654514\n",
      "Avg loss: 0.087270, Avg evaluation accuracy: 0.63281250\n",
      "Avg Train loss: 0.037465, Avg accuracy: 0.669850\n",
      "Avg loss: 0.086508, Avg evaluation accuracy: 0.68871528\n",
      "Avg Train loss: 0.148508, Avg accuracy: 0.679398\n",
      "Avg loss: 0.087388, Avg evaluation accuracy: 0.64427083\n",
      "Avg Train loss: 0.021392, Avg accuracy: 0.658854\n",
      "Avg loss: 0.083115, Avg evaluation accuracy: 0.64930556\n",
      "Avg Train loss: 0.019707, Avg accuracy: 0.681134\n",
      "Avg loss: 0.079588, Avg evaluation accuracy: 0.65954861\n",
      "Avg Train loss: 0.021076, Avg accuracy: 0.663484\n",
      "Avg loss: 0.085402, Avg evaluation accuracy: 0.69131944\n",
      "Avg Train loss: 0.022915, Avg accuracy: 0.664931\n",
      "Avg loss: 0.079681, Avg evaluation accuracy: 0.68315972\n",
      "Avg Train loss: 0.008989, Avg accuracy: 0.686921\n",
      "Avg loss: 0.079563, Avg evaluation accuracy: 0.68315972\n",
      "Avg Train loss: 0.038181, Avg accuracy: 0.682581\n",
      "Avg loss: 0.096399, Avg evaluation accuracy: 0.65677083\n",
      "Avg Train loss: 0.013091, Avg accuracy: 0.688947\n",
      "Avg loss: 0.082782, Avg evaluation accuracy: 0.69652778\n",
      "Avg Train loss: 0.011688, Avg accuracy: 0.697049\n",
      "Avg loss: 0.078710, Avg evaluation accuracy: 0.71215278\n",
      "Avg Train loss: 0.046222, Avg accuracy: 0.668981\n",
      "Avg loss: 0.089934, Avg evaluation accuracy: 0.67586806\n",
      "Avg Train loss: 0.011723, Avg accuracy: 0.675058\n",
      "Avg loss: 0.087942, Avg evaluation accuracy: 0.71475694\n",
      "Avg Train loss: 0.009535, Avg accuracy: 0.691262\n",
      "Avg loss: 0.079297, Avg evaluation accuracy: 0.69045139\n",
      "Avg Train loss: 0.022366, Avg accuracy: 0.694155\n",
      "Avg loss: 0.076905, Avg evaluation accuracy: 0.68298611\n",
      "Avg Train loss: 0.021087, Avg accuracy: 0.690683\n",
      "Avg loss: 0.080102, Avg evaluation accuracy: 0.70729167\n",
      "Avg Train loss: 0.073339, Avg accuracy: 0.694444\n",
      "Avg loss: 0.082130, Avg evaluation accuracy: 0.69357639\n",
      "Avg Train loss: 0.007019, Avg accuracy: 0.690104\n",
      "Avg loss: 0.082455, Avg evaluation accuracy: 0.71197917\n",
      "Avg Train loss: 0.014174, Avg accuracy: 0.697627\n",
      "Avg loss: 0.075350, Avg evaluation accuracy: 0.68315972\n",
      "Avg Train loss: 0.030309, Avg accuracy: 0.697049\n",
      "Avg loss: 0.087745, Avg evaluation accuracy: 0.69079861\n",
      "Avg Train loss: 0.018593, Avg accuracy: 0.689815\n",
      "Avg loss: 0.078750, Avg evaluation accuracy: 0.65173611\n",
      "Avg Train loss: 0.009521, Avg accuracy: 0.695891\n",
      "Avg loss: 0.078145, Avg evaluation accuracy: 0.68854167\n",
      "Avg Train loss: 0.017678, Avg accuracy: 0.694444\n",
      "Avg loss: 0.079941, Avg evaluation accuracy: 0.71475694\n",
      "Avg Train loss: 0.024899, Avg accuracy: 0.696470\n",
      "Avg loss: 0.088941, Avg evaluation accuracy: 0.73593750\n",
      "Avg Train loss: 0.032913, Avg accuracy: 0.697338\n",
      "Avg loss: 0.075381, Avg evaluation accuracy: 0.71232639\n",
      "Avg Train loss: 0.025387, Avg accuracy: 0.701678\n",
      "Avg loss: 0.080387, Avg evaluation accuracy: 0.72239583\n",
      "Avg Train loss: 0.008413, Avg accuracy: 0.702836\n",
      "Avg loss: 0.074561, Avg evaluation accuracy: 0.70434028\n",
      "Avg Train loss: 0.020860, Avg accuracy: 0.702546\n",
      "Avg loss: 0.074526, Avg evaluation accuracy: 0.69670139\n",
      "Avg Train loss: 0.042642, Avg accuracy: 0.697049\n",
      "Avg loss: 0.082606, Avg evaluation accuracy: 0.73802083\n",
      "Avg Train loss: 0.021508, Avg accuracy: 0.699942\n",
      "Avg loss: 0.080371, Avg evaluation accuracy: 0.72534722\n",
      "Avg Train loss: 0.010222, Avg accuracy: 0.703993\n",
      "Avg loss: 0.080717, Avg evaluation accuracy: 0.70677083\n",
      "Avg Train loss: 0.033469, Avg accuracy: 0.684028\n",
      "Avg loss: 0.076464, Avg evaluation accuracy: 0.71371528\n",
      "Avg Train loss: 0.014457, Avg accuracy: 0.702836\n",
      "Avg loss: 0.081017, Avg evaluation accuracy: 0.71753472\n",
      "Avg Train loss: 0.012801, Avg accuracy: 0.704282\n",
      "Avg loss: 0.075310, Avg evaluation accuracy: 0.72760417\n",
      "Avg Train loss: 0.020896, Avg accuracy: 0.691840\n",
      "Avg loss: 0.079673, Avg evaluation accuracy: 0.72239583\n",
      "Avg Train loss: 0.013519, Avg accuracy: 0.694734\n",
      "Avg loss: 0.077852, Avg evaluation accuracy: 0.72239583\n",
      "Avg Train loss: 0.017282, Avg accuracy: 0.697627\n",
      "Avg loss: 0.077847, Avg evaluation accuracy: 0.71250000\n",
      "Avg Train loss: 0.024826, Avg accuracy: 0.700231\n",
      "Avg loss: 0.077675, Avg evaluation accuracy: 0.70659722\n",
      "Avg Train loss: 0.007932, Avg accuracy: 0.711806\n",
      "Avg loss: 0.077094, Avg evaluation accuracy: 0.72291667\n",
      "Avg Train loss: 0.018966, Avg accuracy: 0.708623\n",
      "Avg loss: 0.082827, Avg evaluation accuracy: 0.68871528\n",
      "Avg Train loss: 0.020367, Avg accuracy: 0.698206\n",
      "Avg loss: 0.083493, Avg evaluation accuracy: 0.70156250\n",
      "Avg Train loss: 0.006216, Avg accuracy: 0.698785\n",
      "Avg loss: 0.074662, Avg evaluation accuracy: 0.73541667\n",
      "Avg Train loss: 0.047656, Avg accuracy: 0.708912\n",
      "Avg loss: 0.080515, Avg evaluation accuracy: 0.72760417\n",
      "Avg Train loss: 0.022774, Avg accuracy: 0.716435\n",
      "Avg loss: 0.080194, Avg evaluation accuracy: 0.73576389\n",
      "Avg Train loss: 0.020911, Avg accuracy: 0.712095\n",
      "Avg loss: 0.081730, Avg evaluation accuracy: 0.75364583\n",
      "Avg Train loss: 0.025168, Avg accuracy: 0.711516\n",
      "Avg loss: 0.081876, Avg evaluation accuracy: 0.73038194\n",
      "Avg Train loss: 0.048080, Avg accuracy: 0.710938\n",
      "Avg loss: 0.081708, Avg evaluation accuracy: 0.71961806\n",
      "Avg Train loss: 0.011168, Avg accuracy: 0.706597\n",
      "Avg loss: 0.079587, Avg evaluation accuracy: 0.72447917\n",
      "Avg Train loss: 0.009867, Avg accuracy: 0.717593\n",
      "Avg loss: 0.087887, Avg evaluation accuracy: 0.69635417\n",
      "Avg Train loss: 0.023127, Avg accuracy: 0.702836\n",
      "Avg loss: 0.081353, Avg evaluation accuracy: 0.67552083\n",
      "Avg Train loss: 0.022920, Avg accuracy: 0.691840\n",
      "Avg loss: 0.096337, Avg evaluation accuracy: 0.66475694\n",
      "Avg Train loss: 0.009597, Avg accuracy: 0.705729\n",
      "Avg loss: 0.078679, Avg evaluation accuracy: 0.73281250\n",
      "Avg Train loss: 0.010240, Avg accuracy: 0.714120\n",
      "Avg loss: 0.083432, Avg evaluation accuracy: 0.69340278\n",
      "Avg Train loss: 0.011860, Avg accuracy: 0.707465\n",
      "Avg loss: 0.080420, Avg evaluation accuracy: 0.73836806\n",
      "Avg Train loss: 0.024887, Avg accuracy: 0.723090\n",
      "Avg loss: 0.082448, Avg evaluation accuracy: 0.71979167\n",
      "Avg Train loss: 0.018136, Avg accuracy: 0.709780\n",
      "Avg loss: 0.079117, Avg evaluation accuracy: 0.69027778\n",
      "Avg Train loss: 0.007268, Avg accuracy: 0.722512\n",
      "Avg loss: 0.080442, Avg evaluation accuracy: 0.74930556\n",
      "Avg Train loss: 0.005594, Avg accuracy: 0.713252\n",
      "Avg loss: 0.084830, Avg evaluation accuracy: 0.74357639\n",
      "Avg Train loss: 0.024756, Avg accuracy: 0.714410\n",
      "Avg loss: 0.086591, Avg evaluation accuracy: 0.69947917\n",
      "Avg Train loss: 0.027947, Avg accuracy: 0.706019\n",
      "Avg loss: 0.079068, Avg evaluation accuracy: 0.75104167\n",
      "Avg Train loss: 0.016566, Avg accuracy: 0.710359\n",
      "Avg loss: 0.086137, Avg evaluation accuracy: 0.72743056\n",
      "Avg Train loss: 0.027872, Avg accuracy: 0.721354\n",
      "Avg loss: 0.092933, Avg evaluation accuracy: 0.69444444\n",
      "Avg Train loss: 0.041432, Avg accuracy: 0.720197\n",
      "Avg loss: 0.085619, Avg evaluation accuracy: 0.73559028\n",
      "Avg Train loss: 0.010377, Avg accuracy: 0.716435\n",
      "Avg loss: 0.096088, Avg evaluation accuracy: 0.71180556\n",
      "Avg Train loss: 0.010636, Avg accuracy: 0.708333\n",
      "Avg loss: 0.088751, Avg evaluation accuracy: 0.74600694\n",
      "Avg Train loss: 0.019601, Avg accuracy: 0.725694\n",
      "Avg loss: 0.083305, Avg evaluation accuracy: 0.73593750\n",
      "Avg Train loss: 0.037502, Avg accuracy: 0.717593\n",
      "Avg loss: 0.108449, Avg evaluation accuracy: 0.67847222\n",
      "Avg Train loss: 0.008506, Avg accuracy: 0.715567\n",
      "Avg loss: 0.095399, Avg evaluation accuracy: 0.74878472\n",
      "Avg Train loss: 0.039722, Avg accuracy: 0.709780\n",
      "Avg loss: 0.088738, Avg evaluation accuracy: 0.70121528\n",
      "Avg Train loss: 0.039131, Avg accuracy: 0.711227\n",
      "Avg loss: 0.090281, Avg evaluation accuracy: 0.71944444\n",
      "Avg Train loss: 0.080013, Avg accuracy: 0.726852\n",
      "Avg loss: 0.082538, Avg evaluation accuracy: 0.74878472\n",
      "Avg Train loss: 0.011281, Avg accuracy: 0.723958\n",
      "Avg loss: 0.086654, Avg evaluation accuracy: 0.70156250\n",
      "Avg Train loss: 0.074558, Avg accuracy: 0.706597\n",
      "Avg loss: 0.083292, Avg evaluation accuracy: 0.75920139\n",
      "Avg Train loss: 0.024890, Avg accuracy: 0.708623\n",
      "Avg loss: 0.078844, Avg evaluation accuracy: 0.72534722\n",
      "Avg Train loss: 0.009610, Avg accuracy: 0.716725\n",
      "Avg loss: 0.087871, Avg evaluation accuracy: 0.73263889\n",
      "Avg Train loss: 0.012808, Avg accuracy: 0.721065\n",
      "Avg loss: 0.092243, Avg evaluation accuracy: 0.71458333\n",
      "Avg Train loss: 0.017969, Avg accuracy: 0.717014\n",
      "Avg loss: 0.085169, Avg evaluation accuracy: 0.69652778\n",
      "Avg Train loss: 0.035716, Avg accuracy: 0.722801\n",
      "Avg loss: 0.083567, Avg evaluation accuracy: 0.74062500\n",
      "Avg Train loss: 0.013727, Avg accuracy: 0.719907\n",
      "Avg loss: 0.080512, Avg evaluation accuracy: 0.73802083\n",
      "Avg Train loss: 0.042162, Avg accuracy: 0.722512\n",
      "Avg loss: 0.086283, Avg evaluation accuracy: 0.70190972\n",
      "Avg Train loss: 0.060828, Avg accuracy: 0.722222\n",
      "Avg loss: 0.083714, Avg evaluation accuracy: 0.72569444\n",
      "Avg Train loss: 0.015212, Avg accuracy: 0.714120\n",
      "Avg loss: 0.083667, Avg evaluation accuracy: 0.74184028\n",
      "Avg Train loss: 0.025639, Avg accuracy: 0.717882\n",
      "Avg loss: 0.086218, Avg evaluation accuracy: 0.73055556\n",
      "Avg Train loss: 0.018571, Avg accuracy: 0.725405\n",
      "Avg loss: 0.087584, Avg evaluation accuracy: 0.74826389\n",
      "Avg Train loss: 0.018730, Avg accuracy: 0.726273\n",
      "Avg loss: 0.089609, Avg evaluation accuracy: 0.73576389\n",
      "Avg Train loss: 0.013198, Avg accuracy: 0.716725\n",
      "Avg loss: 0.083463, Avg evaluation accuracy: 0.75138889\n",
      "Avg Train loss: 0.017863, Avg accuracy: 0.725116\n",
      "Avg loss: 0.089690, Avg evaluation accuracy: 0.72239583\n",
      "Avg Train loss: 0.020083, Avg accuracy: 0.726562\n",
      "Avg loss: 0.080287, Avg evaluation accuracy: 0.75434028\n",
      "Avg Train loss: 0.029042, Avg accuracy: 0.724826\n",
      "Avg loss: 0.089770, Avg evaluation accuracy: 0.73055556\n",
      "Avg Train loss: 0.011237, Avg accuracy: 0.724826\n",
      "Avg loss: 0.081901, Avg evaluation accuracy: 0.74114583\n",
      "Avg Train loss: 0.061806, Avg accuracy: 0.728009\n",
      "Avg loss: 0.081745, Avg evaluation accuracy: 0.75156250\n",
      "Avg Train loss: 0.026429, Avg accuracy: 0.724248\n",
      "Avg loss: 0.077643, Avg evaluation accuracy: 0.75156250\n",
      "Avg Train loss: 0.022460, Avg accuracy: 0.713542\n",
      "Avg loss: 0.083810, Avg evaluation accuracy: 0.75364583\n",
      "Avg Train loss: 0.023891, Avg accuracy: 0.718461\n",
      "Avg loss: 0.081555, Avg evaluation accuracy: 0.73854167\n",
      "Avg Train loss: 0.021697, Avg accuracy: 0.718171\n",
      "Avg loss: 0.086449, Avg evaluation accuracy: 0.68385417\n",
      "Avg Train loss: 0.025290, Avg accuracy: 0.705440\n",
      "Avg loss: 0.082684, Avg evaluation accuracy: 0.76961806\n",
      "Avg Train loss: 0.015826, Avg accuracy: 0.720197\n",
      "Avg loss: 0.086236, Avg evaluation accuracy: 0.69201389\n",
      "Avg Train loss: 0.007087, Avg accuracy: 0.719907\n",
      "Avg loss: 0.081942, Avg evaluation accuracy: 0.72552083\n",
      "Avg Train loss: 0.007819, Avg accuracy: 0.718171\n",
      "Avg loss: 0.079290, Avg evaluation accuracy: 0.73263889\n",
      "Avg Train loss: 0.025796, Avg accuracy: 0.729167\n",
      "Avg loss: 0.081145, Avg evaluation accuracy: 0.72760417\n",
      "Avg Train loss: 0.010996, Avg accuracy: 0.710938\n",
      "Avg loss: 0.080357, Avg evaluation accuracy: 0.74618056\n",
      "Avg Train loss: 0.017826, Avg accuracy: 0.720775\n",
      "Avg loss: 0.085868, Avg evaluation accuracy: 0.76736111\n",
      "Avg Train loss: 0.039554, Avg accuracy: 0.725694\n",
      "Avg loss: 0.086289, Avg evaluation accuracy: 0.75034722\n",
      "Avg Train loss: 0.016563, Avg accuracy: 0.727431\n",
      "Avg loss: 0.084446, Avg evaluation accuracy: 0.73871528\n",
      "Avg Train loss: 0.018346, Avg accuracy: 0.730613\n",
      "Avg loss: 0.085611, Avg evaluation accuracy: 0.72430556\n",
      "Avg Train loss: 0.031667, Avg accuracy: 0.715278\n",
      "Avg loss: 0.083968, Avg evaluation accuracy: 0.72968750\n",
      "Avg Train loss: 0.010386, Avg accuracy: 0.725694\n",
      "Avg loss: 0.082038, Avg evaluation accuracy: 0.68871528\n",
      "Avg Train loss: 0.013804, Avg accuracy: 0.724826\n",
      "Avg loss: 0.076290, Avg evaluation accuracy: 0.73472222\n",
      "Avg Train loss: 0.018890, Avg accuracy: 0.722222\n",
      "Avg loss: 0.082139, Avg evaluation accuracy: 0.74600694\n",
      "Avg Train loss: 0.010179, Avg accuracy: 0.728588\n",
      "Avg loss: 0.086941, Avg evaluation accuracy: 0.72812500\n",
      "Avg Train loss: 0.018934, Avg accuracy: 0.714410\n",
      "Avg loss: 0.086898, Avg evaluation accuracy: 0.74114583\n",
      "Avg Train loss: 0.032574, Avg accuracy: 0.713831\n",
      "Avg loss: 0.093699, Avg evaluation accuracy: 0.64913194\n",
      "Avg Train loss: 0.030938, Avg accuracy: 0.712963\n",
      "Avg loss: 0.083657, Avg evaluation accuracy: 0.75104167\n",
      "Avg Train loss: 0.023465, Avg accuracy: 0.727720\n",
      "Avg loss: 0.080613, Avg evaluation accuracy: 0.72829861\n",
      "Avg Train loss: 0.019345, Avg accuracy: 0.712674\n",
      "Avg loss: 0.086573, Avg evaluation accuracy: 0.69982639\n",
      "Avg Train loss: 0.010212, Avg accuracy: 0.716146\n",
      "Avg loss: 0.078926, Avg evaluation accuracy: 0.73854167\n",
      "Avg Train loss: 0.017112, Avg accuracy: 0.708333\n",
      "Avg loss: 0.079300, Avg evaluation accuracy: 0.72465278\n",
      "Avg Train loss: 0.014166, Avg accuracy: 0.724248\n",
      "Avg loss: 0.079608, Avg evaluation accuracy: 0.75156250\n",
      "Avg Train loss: 0.015084, Avg accuracy: 0.726273\n",
      "Avg loss: 0.079314, Avg evaluation accuracy: 0.76684028\n",
      "Avg Train loss: 0.023865, Avg accuracy: 0.725116\n",
      "Avg loss: 0.085523, Avg evaluation accuracy: 0.73541667\n",
      "Avg Train loss: 0.021954, Avg accuracy: 0.729167\n",
      "Avg loss: 0.082388, Avg evaluation accuracy: 0.70399306\n",
      "Avg Train loss: 0.031919, Avg accuracy: 0.728009\n",
      "Avg loss: 0.079352, Avg evaluation accuracy: 0.74062500\n",
      "Avg Train loss: 0.009248, Avg accuracy: 0.716725\n",
      "Avg loss: 0.083306, Avg evaluation accuracy: 0.72534722\n",
      "Avg Train loss: 0.021522, Avg accuracy: 0.728009\n",
      "Avg loss: 0.081214, Avg evaluation accuracy: 0.69149306\n",
      "Avg Train loss: 0.014451, Avg accuracy: 0.719329\n",
      "Avg loss: 0.086228, Avg evaluation accuracy: 0.74131944\n",
      "Avg Train loss: 0.021350, Avg accuracy: 0.720486\n",
      "Avg loss: 0.077142, Avg evaluation accuracy: 0.75972222\n",
      "Avg Train loss: 0.019195, Avg accuracy: 0.725694\n",
      "Avg loss: 0.089206, Avg evaluation accuracy: 0.74618056\n",
      "Avg Train loss: 0.011131, Avg accuracy: 0.723380\n",
      "Avg loss: 0.077604, Avg evaluation accuracy: 0.76423611\n",
      "Avg Train loss: 0.022766, Avg accuracy: 0.720775\n",
      "Avg loss: 0.081461, Avg evaluation accuracy: 0.74079861\n",
      "Avg Train loss: 0.005088, Avg accuracy: 0.725405\n",
      "Avg loss: 0.082941, Avg evaluation accuracy: 0.75156250\n",
      "Avg Train loss: 0.016036, Avg accuracy: 0.723380\n",
      "Avg loss: 0.076441, Avg evaluation accuracy: 0.75642361\n",
      "Avg Train loss: 0.013205, Avg accuracy: 0.720197\n",
      "Avg loss: 0.082000, Avg evaluation accuracy: 0.75104167\n",
      "Avg Train loss: 0.020007, Avg accuracy: 0.726562\n",
      "Avg loss: 0.077293, Avg evaluation accuracy: 0.73315972\n",
      "Avg Train loss: 0.044519, Avg accuracy: 0.724248\n",
      "Avg loss: 0.078901, Avg evaluation accuracy: 0.74409722\n",
      "Avg Train loss: 0.029363, Avg accuracy: 0.731771\n",
      "Avg loss: 0.079760, Avg evaluation accuracy: 0.73819444\n",
      "Avg Train loss: 0.035125, Avg accuracy: 0.731192\n",
      "Avg loss: 0.075492, Avg evaluation accuracy: 0.75659722\n",
      "Avg Train loss: 0.005607, Avg accuracy: 0.723090\n",
      "Avg loss: 0.071510, Avg evaluation accuracy: 0.73836806\n",
      "Avg Train loss: 0.021032, Avg accuracy: 0.721354\n",
      "Avg loss: 0.082608, Avg evaluation accuracy: 0.72500000\n",
      "Avg Train loss: 0.015823, Avg accuracy: 0.718750\n",
      "Avg loss: 0.086932, Avg evaluation accuracy: 0.73506944\n",
      "Avg Train loss: 0.016338, Avg accuracy: 0.724537\n",
      "Avg loss: 0.081203, Avg evaluation accuracy: 0.71388889\n",
      "Avg Train loss: 0.006837, Avg accuracy: 0.727141\n",
      "Avg loss: 0.081192, Avg evaluation accuracy: 0.71180556\n",
      "Avg Train loss: 0.023739, Avg accuracy: 0.719329\n",
      "Avg loss: 0.083993, Avg evaluation accuracy: 0.70138889\n",
      "Avg Train loss: 0.028551, Avg accuracy: 0.721933\n",
      "Avg loss: 0.075287, Avg evaluation accuracy: 0.69878472\n",
      "Avg Train loss: 0.010493, Avg accuracy: 0.728009\n",
      "Avg loss: 0.072534, Avg evaluation accuracy: 0.74895833\n",
      "Avg Train loss: 0.017435, Avg accuracy: 0.708912\n",
      "Avg loss: 0.076062, Avg evaluation accuracy: 0.71736111\n",
      "Avg Train loss: 0.017665, Avg accuracy: 0.730035\n",
      "Avg loss: 0.083232, Avg evaluation accuracy: 0.74427083\n",
      "Avg Train loss: 0.018372, Avg accuracy: 0.730324\n",
      "Avg loss: 0.072971, Avg evaluation accuracy: 0.74652778\n",
      "Avg Train loss: 0.011874, Avg accuracy: 0.719618\n",
      "Avg loss: 0.078091, Avg evaluation accuracy: 0.73819444\n",
      "Avg Train loss: 0.022164, Avg accuracy: 0.719039\n",
      "Avg loss: 0.075111, Avg evaluation accuracy: 0.73003472\n",
      "Avg Train loss: 0.009320, Avg accuracy: 0.728009\n",
      "Avg loss: 0.075811, Avg evaluation accuracy: 0.76250000\n",
      "Avg Train loss: 0.012489, Avg accuracy: 0.717593\n",
      "Avg loss: 0.075039, Avg evaluation accuracy: 0.69930556\n",
      "Avg Train loss: 0.023262, Avg accuracy: 0.733796\n",
      "Avg loss: 0.073871, Avg evaluation accuracy: 0.73263889\n",
      "Avg Train loss: 0.010428, Avg accuracy: 0.732060\n",
      "Avg loss: 0.072723, Avg evaluation accuracy: 0.71475694\n",
      "Avg Train loss: 0.008999, Avg accuracy: 0.717303\n",
      "Avg loss: 0.079254, Avg evaluation accuracy: 0.73524306\n",
      "Avg Train loss: 0.013410, Avg accuracy: 0.720486\n",
      "Avg loss: 0.075203, Avg evaluation accuracy: 0.72500000\n",
      "Avg Train loss: 0.011458, Avg accuracy: 0.724248\n",
      "Avg loss: 0.083175, Avg evaluation accuracy: 0.76996528\n",
      "Avg Train loss: 0.031637, Avg accuracy: 0.734086\n",
      "Avg loss: 0.075906, Avg evaluation accuracy: 0.77569444\n",
      "Avg Train loss: 0.027481, Avg accuracy: 0.729456\n",
      "Avg loss: 0.076199, Avg evaluation accuracy: 0.75815972\n",
      "Avg Train loss: 0.014141, Avg accuracy: 0.729167\n",
      "Avg loss: 0.087722, Avg evaluation accuracy: 0.71180556\n",
      "Avg Train loss: 0.007052, Avg accuracy: 0.723958\n",
      "Avg loss: 0.074879, Avg evaluation accuracy: 0.76684028\n"
     ]
    },
    {
     "data": {
      "text/plain": "<AxesSubplot: >"
     },
     "execution_count": 158,
     "metadata": {},
     "output_type": "execute_result"
    },
    {
     "data": {
      "text/plain": "<Figure size 640x480 with 1 Axes>",
      "image/png": "[encoded data removed]"
     },
     "metadata": {},
     "output_type": "display_data"
    }
   ],
   "source": [
    "train_loss = list()\n",
    "valid_loss = list()\n",
    "for e in range(EPOCH):\n",
    "    train_loss.append(trainer(train_set, model, optimizer, loss_fn))\n",
    "    valid_loss.append(evaluator(valid_set, model, loss_fn))\n",
    "\n",
    "output_df = pd.DataFrame({'train loss': train_loss,\n",
    "              'valid loss': valid_loss})\n",
    "output_df.plot()"
   ],
   "metadata": {
    "collapsed": false,
    "ExecuteTime": {
     "start_time": "2023-04-05T22:33:23.549454Z",
     "end_time": "2023-04-05T22:34:25.684080Z"
    }
   }
  },
  {
   "cell_type": "code",
   "execution_count": 266,
   "outputs": [
    {
     "data": {
      "text/plain": "tensor([[0.2034],\n        [0.1641],\n        [0.2331],\n        [0.2429],\n        [0.0686],\n        [0.1286],\n        [0.0673],\n        [0.1184],\n        [0.1261],\n        [0.2171],\n        [0.0847],\n        [0.2048],\n        [0.1806],\n        [0.2484],\n        [0.0849],\n        [0.0535],\n        [0.2340],\n        [0.2383],\n        [0.2134],\n        [0.1178],\n        [0.2232],\n        [0.1314],\n        [0.0507],\n        [0.0809],\n        [0.2087],\n        [0.0690],\n        [0.1071],\n        [0.1092],\n        [0.1466],\n        [0.0731],\n        [0.2001],\n        [0.1122]], grad_fn=<AddmmBackward0>)"
     },
     "execution_count": 266,
     "metadata": {},
     "output_type": "execute_result"
    }
   ],
   "source": [
    "i, (X, y) = next(enumerate(train_set))\n",
    "pred = model(X)\n",
    "pred"
   ],
   "metadata": {
    "collapsed": false
   }
  },
  {
   "cell_type": "code",
   "execution_count": 267,
   "outputs": [
    {
     "data": {
      "text/plain": "tensor([0.2155, 0.1374, 0.2070, 0.3009, 0.0677, 0.1229, 0.0659, 0.0833, 0.1335,\n        0.2244, 0.0616, 0.2137, 0.1702, 0.3009, 0.0675, 0.0267, 0.2178, 0.2119,\n        0.2099, 0.1131, 0.1774, 0.1051, 0.0427, 0.0759, 0.2030, 0.0641, 0.0570,\n        0.0805, 0.1531, 0.0694, 0.1713, 0.1318])"
     },
     "execution_count": 267,
     "metadata": {},
     "output_type": "execute_result"
    }
   ],
   "source": [
    "y"
   ],
   "metadata": {
    "collapsed": false
   }
  },
  {
   "cell_type": "code",
   "execution_count": 274,
   "outputs": [
    {
     "data": {
      "text/plain": "0.65625"
     },
     "execution_count": 274,
     "metadata": {},
     "output_type": "execute_result"
    }
   ],
   "source": [
    "(to_level(target_scaler.inverse_transform(pred.detach().numpy())) == to_level(target_scaler.inverse_transform(y.reshape(-1, 1)).squeeze())).sum()/len(y)"
   ],
   "metadata": {
    "collapsed": false
   }
  },
  {
   "cell_type": "code",
   "execution_count": 156,
   "outputs": [
    {
     "data": {
      "text/plain": "0.25"
     },
     "execution_count": 156,
     "metadata": {},
     "output_type": "execute_result"
    }
   ],
   "source": [
    "(to_level(model(X)) == to_level(y)).sum()/len(y)"
   ],
   "metadata": {
    "collapsed": false
   }
  }
 ],
 "metadata": {
  "kernelspec": {
   "display_name": "Python 3",
   "language": "python",
   "name": "python3"
  },
  "language_info": {
   "codemirror_mode": {
    "name": "ipython",
    "version": 2
   },
   "file_extension": ".py",
   "mimetype": "text/x-python",
   "name": "python",
   "nbconvert_exporter": "python",
   "pygments_lexer": "ipython2",
   "version": "2.7.6"
  }
 },
 "nbformat": 4,
 "nbformat_minor": 0
}
