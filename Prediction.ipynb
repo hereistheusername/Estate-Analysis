{
 "cells": [
  {
   "cell_type": "code",
   "execution_count": 203,
   "metadata": {
    "collapsed": true
   },
   "outputs": [],
   "source": [
    "import torch\n",
    "import torch.nn as nn\n",
    "import torch.nn.functional as F\n",
    "from torch.utils.data import DataLoader, random_split\n",
    "from typing import Tuple, Iterable\n",
    "import pandas as pd\n",
    "import numpy as np\n",
    "from sklearn.preprocessing import MinMaxScaler"
   ]
  },
  {
   "cell_type": "code",
   "execution_count": 3,
   "outputs": [],
   "source": [
    "BATCH_SIZE=32"
   ],
   "metadata": {
    "collapsed": false
   }
  },
  {
   "cell_type": "code",
   "execution_count": 171,
   "outputs": [],
   "source": [
    "# Let's define the class object of multilayer perceptrons\n",
    "class DNN(torch.nn.Module):\n",
    "    def __init__(self, width_vec: list = None):\n",
    "        super(DNN, self).__init__()\n",
    "        self.width_vec= width_vec\n",
    "\n",
    "        modules = []\n",
    "        if width_vec is None:\n",
    "            width_vec = [1,256,256,256,1]\n",
    "\n",
    "        # Network\n",
    "        for i in range(len(width_vec) - 2):\n",
    "            modules.append(nn.Linear(width_vec[i],width_vec[i+1]));\n",
    "            modules.append(nn.ReLU())\n",
    "\n",
    "        self.net = nn.Sequential(*modules,\n",
    "                                 nn.Linear(width_vec[-2],width_vec[-1])\n",
    "                                 )\n",
    "\n",
    "    def forward(self,x):\n",
    "        output = self.net(x)\n",
    "        return  output"
   ],
   "metadata": {
    "collapsed": false
   }
  },
  {
   "cell_type": "code",
   "execution_count": 42,
   "outputs": [],
   "source": [
    "class Dataset(torch.utils.data.Dataset):\n",
    "    'Characterizes a dataset for PyTorch'\n",
    "    def __init__(self, attributes, target):\n",
    "        self.attributes = attributes\n",
    "        self.target = target\n",
    "\n",
    "    def __len__(self):\n",
    "        'Denotes the total number of samples'\n",
    "        return len(self.attributes)\n",
    "\n",
    "    def __getitem__(self, index):\n",
    "        X = torch.tensor(self.attributes[index], dtype=torch.float)\n",
    "        y = torch.tensor(self.target[index], dtype=torch.float)\n",
    "\n",
    "        return X, y"
   ],
   "metadata": {
    "collapsed": false
   }
  },
  {
   "cell_type": "code",
   "execution_count": null,
   "outputs": [],
   "source": [],
   "metadata": {
    "collapsed": false
   }
  },
  {
   "cell_type": "code",
   "execution_count": 241,
   "outputs": [
    {
     "data": {
      "text/plain": "   number of rooms  security level of the community  residence space  \\\n0                5                             2.50             2820   \n1                2                             1.00             1210   \n2                4                             2.50             2200   \n3                3                             1.50             1200   \n4                3                             1.75             1370   \n\n   building space  noise level  waterfront  view  air quality level  \\\n0           67518          2.0           0     0                  3   \n1            9400          1.0           0     0                  2   \n2            9397          2.0           0     0                  3   \n3            9720          1.0           0     0                  4   \n4            5858          1.0           0     0                  3   \n\n   aboveground space   basement space  building year  exchange rate  \\\n0                2820               0           1979       6.784830   \n1                1210               0           1949       6.243129   \n2                2200               0           1987       6.010127   \n3                1200               0           1965       7.560375   \n4                1370               0           1987       6.543941   \n\n         LAT         LNG   timestamp  transaction year  transaction month  \\\n0  47.557085 -122.007748  1398988800              2014                  5   \n1  47.544034 -122.349874  1398988800              2014                  5   \n2  47.310617 -122.263291  1398988800              2014                  5   \n3  47.367737 -122.117029  1398988800              2014                  5   \n4  47.391319 -122.314971  1398988800              2014                  5   \n\n   transaction day  filled decoration year          total  \n0                2                    2014  675000.000105  \n1                2                    1949  234999.999988  \n2                2                    2000  237227.857125  \n3                2                    1965  242499.999935  \n4                2                    2000  257949.999962  ",
      "text/html": "<div>\n<style scoped>\n    .dataframe tbody tr th:only-of-type {\n        vertical-align: middle;\n    }\n\n    .dataframe tbody tr th {\n        vertical-align: top;\n    }\n\n    .dataframe thead th {\n        text-align: right;\n    }\n</style>\n<table border=\"1\" class=\"dataframe\">\n  <thead>\n    <tr style=\"text-align: right;\">\n      <th></th>\n      <th>number of rooms</th>\n      <th>security level of the community</th>\n      <th>residence space</th>\n      <th>building space</th>\n      <th>noise level</th>\n      <th>waterfront</th>\n      <th>view</th>\n      <th>air quality level</th>\n      <th>aboveground space</th>\n      <th>basement space</th>\n      <th>building year</th>\n      <th>exchange rate</th>\n      <th>LAT</th>\n      <th>LNG</th>\n      <th>timestamp</th>\n      <th>transaction year</th>\n      <th>transaction month</th>\n      <th>transaction day</th>\n      <th>filled decoration year</th>\n      <th>total</th>\n    </tr>\n  </thead>\n  <tbody>\n    <tr>\n      <th>0</th>\n      <td>5</td>\n      <td>2.50</td>\n      <td>2820</td>\n      <td>67518</td>\n      <td>2.0</td>\n      <td>0</td>\n      <td>0</td>\n      <td>3</td>\n      <td>2820</td>\n      <td>0</td>\n      <td>1979</td>\n      <td>6.784830</td>\n      <td>47.557085</td>\n      <td>-122.007748</td>\n      <td>1398988800</td>\n      <td>2014</td>\n      <td>5</td>\n      <td>2</td>\n      <td>2014</td>\n      <td>675000.000105</td>\n    </tr>\n    <tr>\n      <th>1</th>\n      <td>2</td>\n      <td>1.00</td>\n      <td>1210</td>\n      <td>9400</td>\n      <td>1.0</td>\n      <td>0</td>\n      <td>0</td>\n      <td>2</td>\n      <td>1210</td>\n      <td>0</td>\n      <td>1949</td>\n      <td>6.243129</td>\n      <td>47.544034</td>\n      <td>-122.349874</td>\n      <td>1398988800</td>\n      <td>2014</td>\n      <td>5</td>\n      <td>2</td>\n      <td>1949</td>\n      <td>234999.999988</td>\n    </tr>\n    <tr>\n      <th>2</th>\n      <td>4</td>\n      <td>2.50</td>\n      <td>2200</td>\n      <td>9397</td>\n      <td>2.0</td>\n      <td>0</td>\n      <td>0</td>\n      <td>3</td>\n      <td>2200</td>\n      <td>0</td>\n      <td>1987</td>\n      <td>6.010127</td>\n      <td>47.310617</td>\n      <td>-122.263291</td>\n      <td>1398988800</td>\n      <td>2014</td>\n      <td>5</td>\n      <td>2</td>\n      <td>2000</td>\n      <td>237227.857125</td>\n    </tr>\n    <tr>\n      <th>3</th>\n      <td>3</td>\n      <td>1.50</td>\n      <td>1200</td>\n      <td>9720</td>\n      <td>1.0</td>\n      <td>0</td>\n      <td>0</td>\n      <td>4</td>\n      <td>1200</td>\n      <td>0</td>\n      <td>1965</td>\n      <td>7.560375</td>\n      <td>47.367737</td>\n      <td>-122.117029</td>\n      <td>1398988800</td>\n      <td>2014</td>\n      <td>5</td>\n      <td>2</td>\n      <td>1965</td>\n      <td>242499.999935</td>\n    </tr>\n    <tr>\n      <th>4</th>\n      <td>3</td>\n      <td>1.75</td>\n      <td>1370</td>\n      <td>5858</td>\n      <td>1.0</td>\n      <td>0</td>\n      <td>0</td>\n      <td>3</td>\n      <td>1370</td>\n      <td>0</td>\n      <td>1987</td>\n      <td>6.543941</td>\n      <td>47.391319</td>\n      <td>-122.314971</td>\n      <td>1398988800</td>\n      <td>2014</td>\n      <td>5</td>\n      <td>2</td>\n      <td>2000</td>\n      <td>257949.999962</td>\n    </tr>\n  </tbody>\n</table>\n</div>"
     },
     "execution_count": 241,
     "metadata": {},
     "output_type": "execute_result"
    }
   ],
   "source": [
    "df = pd.read_csv('data/Train_Data_Converted&Dropped.csv')\n",
    "df.head()"
   ],
   "metadata": {
    "collapsed": false
   }
  },
  {
   "cell_type": "code",
   "execution_count": 256,
   "outputs": [
    {
     "data": {
      "text/plain": "   number of rooms  security level of the community  residence space  \\\n0         0.555556                          0.31250         0.182304   \n1         0.222222                          0.12500         0.059497   \n2         0.444444                          0.31250         0.135011   \n3         0.333333                          0.18750         0.058734   \n4         0.333333                          0.21875         0.071701   \n\n   building space  noise level  waterfront  view  air quality level  \\\n0        0.217492          0.4         0.0   0.0               0.50   \n1        0.028185          0.0         0.0   0.0               0.25   \n2        0.028175          0.4         0.0   0.0               0.50   \n3        0.029228          0.0         0.0   0.0               0.75   \n4        0.016648          0.0         0.0   0.0               0.50   \n\n   aboveground space   basement space  building year  exchange rate       LAT  \\\n0            0.266147             0.0       0.692982       0.392235  0.625836   \n1            0.086860             0.0       0.429825       0.121247  0.601863   \n2            0.197105             0.0       0.763158       0.004686  0.173113   \n3            0.085746             0.0       0.570175       0.780206  0.278033   \n4            0.104677             0.0       0.763158       0.271729  0.321350   \n\n        LNG  timestamp  transaction year  transaction month  transaction day  \\\n0  0.389753        0.0               0.0                0.0         0.033333   \n1  0.103344        0.0               0.0                0.0         0.033333   \n2  0.175826        0.0               0.0                0.0         0.033333   \n3  0.298269        0.0               0.0                0.0         0.033333   \n4  0.132563        0.0               0.0                0.0         0.033333   \n\n   filled decoration year     total  \n0                1.000000  0.211895  \n1                0.424779  0.055199  \n2                0.876106  0.055993  \n3                0.566372  0.057870  \n4                0.876106  0.063373  ",
      "text/html": "<div>\n<style scoped>\n    .dataframe tbody tr th:only-of-type {\n        vertical-align: middle;\n    }\n\n    .dataframe tbody tr th {\n        vertical-align: top;\n    }\n\n    .dataframe thead th {\n        text-align: right;\n    }\n</style>\n<table border=\"1\" class=\"dataframe\">\n  <thead>\n    <tr style=\"text-align: right;\">\n      <th></th>\n      <th>number of rooms</th>\n      <th>security level of the community</th>\n      <th>residence space</th>\n      <th>building space</th>\n      <th>noise level</th>\n      <th>waterfront</th>\n      <th>view</th>\n      <th>air quality level</th>\n      <th>aboveground space</th>\n      <th>basement space</th>\n      <th>building year</th>\n      <th>exchange rate</th>\n      <th>LAT</th>\n      <th>LNG</th>\n      <th>timestamp</th>\n      <th>transaction year</th>\n      <th>transaction month</th>\n      <th>transaction day</th>\n      <th>filled decoration year</th>\n      <th>total</th>\n    </tr>\n  </thead>\n  <tbody>\n    <tr>\n      <th>0</th>\n      <td>0.555556</td>\n      <td>0.31250</td>\n      <td>0.182304</td>\n      <td>0.217492</td>\n      <td>0.4</td>\n      <td>0.0</td>\n      <td>0.0</td>\n      <td>0.50</td>\n      <td>0.266147</td>\n      <td>0.0</td>\n      <td>0.692982</td>\n      <td>0.392235</td>\n      <td>0.625836</td>\n      <td>0.389753</td>\n      <td>0.0</td>\n      <td>0.0</td>\n      <td>0.0</td>\n      <td>0.033333</td>\n      <td>1.000000</td>\n      <td>0.211895</td>\n    </tr>\n    <tr>\n      <th>1</th>\n      <td>0.222222</td>\n      <td>0.12500</td>\n      <td>0.059497</td>\n      <td>0.028185</td>\n      <td>0.0</td>\n      <td>0.0</td>\n      <td>0.0</td>\n      <td>0.25</td>\n      <td>0.086860</td>\n      <td>0.0</td>\n      <td>0.429825</td>\n      <td>0.121247</td>\n      <td>0.601863</td>\n      <td>0.103344</td>\n      <td>0.0</td>\n      <td>0.0</td>\n      <td>0.0</td>\n      <td>0.033333</td>\n      <td>0.424779</td>\n      <td>0.055199</td>\n    </tr>\n    <tr>\n      <th>2</th>\n      <td>0.444444</td>\n      <td>0.31250</td>\n      <td>0.135011</td>\n      <td>0.028175</td>\n      <td>0.4</td>\n      <td>0.0</td>\n      <td>0.0</td>\n      <td>0.50</td>\n      <td>0.197105</td>\n      <td>0.0</td>\n      <td>0.763158</td>\n      <td>0.004686</td>\n      <td>0.173113</td>\n      <td>0.175826</td>\n      <td>0.0</td>\n      <td>0.0</td>\n      <td>0.0</td>\n      <td>0.033333</td>\n      <td>0.876106</td>\n      <td>0.055993</td>\n    </tr>\n    <tr>\n      <th>3</th>\n      <td>0.333333</td>\n      <td>0.18750</td>\n      <td>0.058734</td>\n      <td>0.029228</td>\n      <td>0.0</td>\n      <td>0.0</td>\n      <td>0.0</td>\n      <td>0.75</td>\n      <td>0.085746</td>\n      <td>0.0</td>\n      <td>0.570175</td>\n      <td>0.780206</td>\n      <td>0.278033</td>\n      <td>0.298269</td>\n      <td>0.0</td>\n      <td>0.0</td>\n      <td>0.0</td>\n      <td>0.033333</td>\n      <td>0.566372</td>\n      <td>0.057870</td>\n    </tr>\n    <tr>\n      <th>4</th>\n      <td>0.333333</td>\n      <td>0.21875</td>\n      <td>0.071701</td>\n      <td>0.016648</td>\n      <td>0.0</td>\n      <td>0.0</td>\n      <td>0.0</td>\n      <td>0.50</td>\n      <td>0.104677</td>\n      <td>0.0</td>\n      <td>0.763158</td>\n      <td>0.271729</td>\n      <td>0.321350</td>\n      <td>0.132563</td>\n      <td>0.0</td>\n      <td>0.0</td>\n      <td>0.0</td>\n      <td>0.033333</td>\n      <td>0.876106</td>\n      <td>0.063373</td>\n    </tr>\n  </tbody>\n</table>\n</div>"
     },
     "execution_count": 256,
     "metadata": {},
     "output_type": "execute_result"
    }
   ],
   "source": [
    "attributes_scaler = MinMaxScaler()\n",
    "attributes_data = attributes_scaler.fit_transform(df.drop(['total'], axis=1))\n",
    "target_scaler = MinMaxScaler()\n",
    "target_data = target_scaler.fit_transform(df['total'].to_numpy().reshape(-1, 1))\n",
    "df = pd.concat([\n",
    "     pd.DataFrame(attributes_data, columns=df.columns[:-1]),\n",
    "     pd.DataFrame(target_data.squeeze(), columns=['total'])\n",
    " ], axis=1)\n",
    "df.head()"
   ],
   "metadata": {
    "collapsed": false
   }
  },
  {
   "cell_type": "code",
   "execution_count": 15,
   "outputs": [],
   "source": [
    "# generator = torch.random.manual_seed(42)\n",
    "# train, valid = random_split(df.values, [0.9, 0.1], generator)"
   ],
   "metadata": {
    "collapsed": false
   }
  },
  {
   "cell_type": "code",
   "execution_count": 7,
   "outputs": [],
   "source": [
    "# train = DataLoader(train, BATCH_SIZE, shuffle=True, num_workers=2)\n",
    "# valid = DataLoader(valid, BATCH_SIZE, shuffle=True, num_workers=1)"
   ],
   "metadata": {
    "collapsed": false
   }
  },
  {
   "cell_type": "code",
   "execution_count": 283,
   "outputs": [],
   "source": [
    "dataset = Dataset(df.drop(['total', 'transaction year', 'transaction month', 'transaction day', 'timestamp'], axis=1).values, df['total'].values)"
   ],
   "metadata": {
    "collapsed": false
   }
  },
  {
   "cell_type": "code",
   "execution_count": 284,
   "outputs": [
    {
     "data": {
      "text/plain": "(tensor([0.5556, 0.3125, 0.1823, 0.2175, 0.4000, 0.0000, 0.0000, 0.5000, 0.2661,\n         0.0000, 0.6930, 0.3922, 0.6258, 0.3898, 1.0000]),\n tensor(0.2119))"
     },
     "execution_count": 284,
     "metadata": {},
     "output_type": "execute_result"
    }
   ],
   "source": [
    "dataset[0]"
   ],
   "metadata": {
    "collapsed": false
   }
  },
  {
   "cell_type": "code",
   "execution_count": 285,
   "outputs": [],
   "source": [
    "generator = torch.random.manual_seed(42)\n",
    "train, valid = random_split(dataset, [0.9, 0.1], generator)"
   ],
   "metadata": {
    "collapsed": false
   }
  },
  {
   "cell_type": "code",
   "execution_count": 286,
   "outputs": [],
   "source": [
    "train_set = DataLoader(train, BATCH_SIZE, shuffle=True, )\n",
    "valid_set = DataLoader(valid, BATCH_SIZE, shuffle=True)"
   ],
   "metadata": {
    "collapsed": false
   }
  },
  {
   "cell_type": "code",
   "execution_count": 70,
   "outputs": [],
   "source": [
    "device = \"cuda\" if torch.cuda.is_available() else \"cpu\""
   ],
   "metadata": {
    "collapsed": false
   }
  },
  {
   "cell_type": "code",
   "execution_count": 261,
   "outputs": [],
   "source": [
    "i, (X, y) = next(enumerate(train_set))"
   ],
   "metadata": {
    "collapsed": false
   }
  },
  {
   "cell_type": "code",
   "execution_count": 262,
   "outputs": [
    {
     "data": {
      "text/plain": "torch.Size([32, 16])"
     },
     "execution_count": 262,
     "metadata": {},
     "output_type": "execute_result"
    }
   ],
   "source": [
    "X.shape"
   ],
   "metadata": {
    "collapsed": false
   }
  },
  {
   "cell_type": "code",
   "execution_count": 217,
   "outputs": [
    {
     "data": {
      "text/plain": "108"
     },
     "execution_count": 217,
     "metadata": {},
     "output_type": "execute_result"
    }
   ],
   "source": [
    "len(train_set)"
   ],
   "metadata": {
    "collapsed": false
   }
  },
  {
   "cell_type": "code",
   "execution_count": 158,
   "outputs": [],
   "source": [
    "def to_level(l: Iterable):\n",
    "    def tier(cost: float):\n",
    "        if 0 <= cost < 300000: return 1\n",
    "        elif 300000 <= cost < 500000: return 2\n",
    "        elif 500000 <= cost < 700000: return 3\n",
    "        elif 700000 <= cost: return 4\n",
    "    return np.array([tier(c) for c in l])\n",
    "\n"
   ],
   "metadata": {
    "collapsed": false
   }
  },
  {
   "cell_type": "code",
   "execution_count": 281,
   "outputs": [],
   "source": [
    "def trainer(dataloader: torch.utils.data.DataLoader,\n",
    "            model: torch.nn.Module,\n",
    "            optimizer,\n",
    "            loss_fn):\n",
    "    size = len(dataloader.dataset)\n",
    "    num_batches = len(dataloader)\n",
    "    acc = list()\n",
    "    train_loss = 0\n",
    "    model.train()\n",
    "    for batch, (X, y) in enumerate(dataloader):\n",
    "        X, y = X.to(device), y.to(device)\n",
    "        tiers = to_level(y)\n",
    "\n",
    "        # Compute prediction error\n",
    "        pred = model(X).squeeze()\n",
    "        # tiers_pred = to_level(pred)\n",
    "        loss = loss_fn(pred, y)\n",
    "        train_loss += loss.item()\n",
    "        acc.append((to_level(target_scaler.inverse_transform(pred.detach().numpy().reshape(-1, 1))) == to_level(target_scaler.inverse_transform(y.reshape(-1, 1)).squeeze())).sum()/len(y))\n",
    "        # Backpropagation\n",
    "        optimizer.zero_grad()\n",
    "        loss.backward()\n",
    "        optimizer.step()\n",
    "    train_loss /= num_batches\n",
    "    print(f\"Avg Train loss: {loss:>8f}, Avg accuracy: {np.mean(acc):8f}\")\n",
    "    return train_loss"
   ],
   "metadata": {
    "collapsed": false
   }
  },
  {
   "cell_type": "code",
   "execution_count": 225,
   "outputs": [],
   "source": [
    "def evaluator(dataloader, model, loss_fn):\n",
    "    size = len(dataloader.dataset)\n",
    "    num_batches = len(dataloader)\n",
    "    model.eval()\n",
    "    test_loss, correct = 0, 0\n",
    "    with torch.no_grad():\n",
    "        for X, y in dataloader:\n",
    "            X, y = X.to(device), y.to(device)\n",
    "            pred = model(X).squeeze()\n",
    "            test_loss += loss_fn(pred, y).item()\n",
    "            # correct += (pred.argmax(1) == y).type(torch.float).sum().item()\n",
    "    test_loss /= num_batches\n",
    "    # correct /= size\n",
    "    # print(f\"Test Error: \\n Accuracy: {(100*correct):>0.1f}%, Avg loss: {test_loss:>8f} \\n\")\n",
    "    print('Avg loss: {:8f}'.format(test_loss))\n",
    "    return test_loss"
   ],
   "metadata": {
    "collapsed": false
   }
  },
  {
   "cell_type": "code",
   "execution_count": 296,
   "outputs": [],
   "source": [
    "model = DNN([15, 256, 256, 256, 1]).to(device)\n",
    "loss_fn = torch.nn.L1Loss()\n",
    "lr = 1e-3\n",
    "optimizer = torch.optim.Adam(model.parameters())\n",
    "EPOCH = 100\n"
   ],
   "metadata": {
    "collapsed": false
   }
  },
  {
   "cell_type": "code",
   "execution_count": 290,
   "outputs": [
    {
     "data": {
      "text/plain": "DNN(\n  (net): Sequential(\n    (0): Linear(in_features=15, out_features=256, bias=True)\n    (1): ReLU()\n    (2): Linear(in_features=256, out_features=256, bias=True)\n    (3): ReLU()\n    (4): Linear(in_features=256, out_features=256, bias=True)\n    (5): ReLU()\n    (6): Linear(in_features=256, out_features=1, bias=True)\n  )\n)"
     },
     "execution_count": 290,
     "metadata": {},
     "output_type": "execute_result"
    }
   ],
   "source": [
    "model"
   ],
   "metadata": {
    "collapsed": false
   }
  },
  {
   "cell_type": "code",
   "execution_count": 297,
   "outputs": [
    {
     "name": "stdout",
     "output_type": "stream",
     "text": [
      "Avg Train loss: 0.044402, Avg accuracy: 0.511863\n",
      "Avg loss: 0.037582\n",
      "Avg Train loss: 0.049198, Avg accuracy: 0.636863\n",
      "Avg loss: 0.034478\n",
      "Avg Train loss: 0.033393, Avg accuracy: 0.630787\n",
      "Avg loss: 0.031798\n",
      "Avg Train loss: 0.034064, Avg accuracy: 0.646412\n",
      "Avg loss: 0.030380\n",
      "Avg Train loss: 0.036944, Avg accuracy: 0.677373\n",
      "Avg loss: 0.029464\n",
      "Avg Train loss: 0.029406, Avg accuracy: 0.684606\n",
      "Avg loss: 0.028087\n",
      "Avg Train loss: 0.022581, Avg accuracy: 0.704861\n",
      "Avg loss: 0.037880\n",
      "Avg Train loss: 0.029174, Avg accuracy: 0.704861\n",
      "Avg loss: 0.027567\n",
      "Avg Train loss: 0.036879, Avg accuracy: 0.705150\n",
      "Avg loss: 0.026649\n",
      "Avg Train loss: 0.021422, Avg accuracy: 0.723669\n",
      "Avg loss: 0.025435\n",
      "Avg Train loss: 0.037678, Avg accuracy: 0.727141\n",
      "Avg loss: 0.025725\n",
      "Avg Train loss: 0.032888, Avg accuracy: 0.707755\n",
      "Avg loss: 0.032004\n",
      "Avg Train loss: 0.020777, Avg accuracy: 0.729745\n",
      "Avg loss: 0.030861\n",
      "Avg Train loss: 0.017876, Avg accuracy: 0.730903\n",
      "Avg loss: 0.027336\n",
      "Avg Train loss: 0.029179, Avg accuracy: 0.735243\n",
      "Avg loss: 0.028631\n",
      "Avg Train loss: 0.023578, Avg accuracy: 0.714699\n",
      "Avg loss: 0.025477\n",
      "Avg Train loss: 0.022544, Avg accuracy: 0.745370\n",
      "Avg loss: 0.027129\n",
      "Avg Train loss: 0.039916, Avg accuracy: 0.734664\n",
      "Avg loss: 0.026806\n",
      "Avg Train loss: 0.012432, Avg accuracy: 0.745081\n",
      "Avg loss: 0.025150\n",
      "Avg Train loss: 0.028090, Avg accuracy: 0.754340\n",
      "Avg loss: 0.024977\n",
      "Avg Train loss: 0.024282, Avg accuracy: 0.744792\n",
      "Avg loss: 0.024587\n",
      "Avg Train loss: 0.049086, Avg accuracy: 0.752604\n",
      "Avg loss: 0.026733\n",
      "Avg Train loss: 0.019023, Avg accuracy: 0.751447\n",
      "Avg loss: 0.027767\n",
      "Avg Train loss: 0.019760, Avg accuracy: 0.756366\n",
      "Avg loss: 0.026664\n",
      "Avg Train loss: 0.019882, Avg accuracy: 0.765625\n",
      "Avg loss: 0.024685\n",
      "Avg Train loss: 0.028423, Avg accuracy: 0.752894\n",
      "Avg loss: 0.025573\n",
      "Avg Train loss: 0.028586, Avg accuracy: 0.758970\n",
      "Avg loss: 0.027514\n",
      "Avg Train loss: 0.025574, Avg accuracy: 0.758681\n",
      "Avg loss: 0.023930\n",
      "Avg Train loss: 0.023898, Avg accuracy: 0.761285\n",
      "Avg loss: 0.024379\n",
      "Avg Train loss: 0.026190, Avg accuracy: 0.760417\n",
      "Avg loss: 0.025509\n",
      "Avg Train loss: 0.017829, Avg accuracy: 0.765046\n",
      "Avg loss: 0.024371\n",
      "Avg Train loss: 0.025082, Avg accuracy: 0.765336\n",
      "Avg loss: 0.024715\n",
      "Avg Train loss: 0.030521, Avg accuracy: 0.768519\n",
      "Avg loss: 0.024564\n",
      "Avg Train loss: 0.014978, Avg accuracy: 0.762153\n",
      "Avg loss: 0.025788\n",
      "Avg Train loss: 0.035599, Avg accuracy: 0.754340\n",
      "Avg loss: 0.024139\n",
      "Avg Train loss: 0.014328, Avg accuracy: 0.771991\n",
      "Avg loss: 0.026219\n",
      "Avg Train loss: 0.028836, Avg accuracy: 0.770255\n",
      "Avg loss: 0.025957\n",
      "Avg Train loss: 0.016949, Avg accuracy: 0.761285\n",
      "Avg loss: 0.026734\n",
      "Avg Train loss: 0.031298, Avg accuracy: 0.774884\n",
      "Avg loss: 0.024295\n",
      "Avg Train loss: 0.010352, Avg accuracy: 0.775174\n",
      "Avg loss: 0.023979\n",
      "Avg Train loss: 0.020310, Avg accuracy: 0.767072\n",
      "Avg loss: 0.024522\n",
      "Avg Train loss: 0.026355, Avg accuracy: 0.768808\n",
      "Avg loss: 0.026559\n",
      "Avg Train loss: 0.034395, Avg accuracy: 0.779514\n",
      "Avg loss: 0.025320\n",
      "Avg Train loss: 0.031779, Avg accuracy: 0.776042\n",
      "Avg loss: 0.024880\n",
      "Avg Train loss: 0.021404, Avg accuracy: 0.778356\n",
      "Avg loss: 0.028538\n",
      "Avg Train loss: 0.027026, Avg accuracy: 0.776910\n",
      "Avg loss: 0.024817\n",
      "Avg Train loss: 0.018496, Avg accuracy: 0.785301\n",
      "Avg loss: 0.026331\n",
      "Avg Train loss: 0.016418, Avg accuracy: 0.780093\n",
      "Avg loss: 0.026320\n",
      "Avg Train loss: 0.014543, Avg accuracy: 0.780961\n",
      "Avg loss: 0.027059\n",
      "Avg Train loss: 0.020295, Avg accuracy: 0.784144\n",
      "Avg loss: 0.024415\n",
      "Avg Train loss: 0.028773, Avg accuracy: 0.775463\n",
      "Avg loss: 0.025617\n",
      "Avg Train loss: 0.017949, Avg accuracy: 0.785012\n",
      "Avg loss: 0.026244\n",
      "Avg Train loss: 0.015727, Avg accuracy: 0.785880\n",
      "Avg loss: 0.025798\n",
      "Avg Train loss: 0.011569, Avg accuracy: 0.787905\n",
      "Avg loss: 0.025370\n",
      "Avg Train loss: 0.020565, Avg accuracy: 0.777778\n",
      "Avg loss: 0.024577\n",
      "Avg Train loss: 0.021604, Avg accuracy: 0.794271\n",
      "Avg loss: 0.025039\n",
      "Avg Train loss: 0.037114, Avg accuracy: 0.788194\n",
      "Avg loss: 0.025564\n",
      "Avg Train loss: 0.022191, Avg accuracy: 0.792824\n",
      "Avg loss: 0.024951\n",
      "Avg Train loss: 0.024168, Avg accuracy: 0.788773\n",
      "Avg loss: 0.026023\n",
      "Avg Train loss: 0.009455, Avg accuracy: 0.788194\n",
      "Avg loss: 0.025568\n",
      "Avg Train loss: 0.022980, Avg accuracy: 0.791377\n",
      "Avg loss: 0.026331\n",
      "Avg Train loss: 0.018032, Avg accuracy: 0.794271\n",
      "Avg loss: 0.024156\n",
      "Avg Train loss: 0.014187, Avg accuracy: 0.796586\n",
      "Avg loss: 0.025316\n",
      "Avg Train loss: 0.016626, Avg accuracy: 0.792824\n",
      "Avg loss: 0.024936\n",
      "Avg Train loss: 0.027035, Avg accuracy: 0.796875\n",
      "Avg loss: 0.024953\n",
      "Avg Train loss: 0.024723, Avg accuracy: 0.795139\n",
      "Avg loss: 0.027913\n",
      "Avg Train loss: 0.021463, Avg accuracy: 0.791088\n",
      "Avg loss: 0.025216\n",
      "Avg Train loss: 0.029535, Avg accuracy: 0.798322\n",
      "Avg loss: 0.028516\n",
      "Avg Train loss: 0.015749, Avg accuracy: 0.801794\n",
      "Avg loss: 0.026069\n",
      "Avg Train loss: 0.030390, Avg accuracy: 0.808738\n",
      "Avg loss: 0.026042\n",
      "Avg Train loss: 0.021990, Avg accuracy: 0.807002\n",
      "Avg loss: 0.024982\n",
      "Avg Train loss: 0.015695, Avg accuracy: 0.804398\n",
      "Avg loss: 0.025057\n",
      "Avg Train loss: 0.018271, Avg accuracy: 0.805556\n",
      "Avg loss: 0.024557\n",
      "Avg Train loss: 0.021302, Avg accuracy: 0.806424\n",
      "Avg loss: 0.027621\n",
      "Avg Train loss: 0.024307, Avg accuracy: 0.805266\n",
      "Avg loss: 0.027846\n",
      "Avg Train loss: 0.016006, Avg accuracy: 0.806424\n",
      "Avg loss: 0.024139\n",
      "Avg Train loss: 0.010562, Avg accuracy: 0.811343\n",
      "Avg loss: 0.027436\n",
      "Avg Train loss: 0.025876, Avg accuracy: 0.819734\n",
      "Avg loss: 0.024916\n",
      "Avg Train loss: 0.012636, Avg accuracy: 0.816840\n",
      "Avg loss: 0.024626\n",
      "Avg Train loss: 0.019597, Avg accuracy: 0.814525\n",
      "Avg loss: 0.026064\n",
      "Avg Train loss: 0.022153, Avg accuracy: 0.820312\n",
      "Avg loss: 0.024948\n",
      "Avg Train loss: 0.016643, Avg accuracy: 0.826389\n",
      "Avg loss: 0.025706\n",
      "Avg Train loss: 0.014362, Avg accuracy: 0.810475\n",
      "Avg loss: 0.025717\n",
      "Avg Train loss: 0.022918, Avg accuracy: 0.822049\n",
      "Avg loss: 0.024723\n",
      "Avg Train loss: 0.012640, Avg accuracy: 0.819155\n",
      "Avg loss: 0.026469\n",
      "Avg Train loss: 0.023690, Avg accuracy: 0.821470\n",
      "Avg loss: 0.024813\n",
      "Avg Train loss: 0.018934, Avg accuracy: 0.820312\n",
      "Avg loss: 0.025446\n",
      "Avg Train loss: 0.018610, Avg accuracy: 0.817998\n",
      "Avg loss: 0.025268\n",
      "Avg Train loss: 0.014809, Avg accuracy: 0.819155\n",
      "Avg loss: 0.024150\n",
      "Avg Train loss: 0.009751, Avg accuracy: 0.824942\n",
      "Avg loss: 0.024878\n",
      "Avg Train loss: 0.011363, Avg accuracy: 0.826100\n",
      "Avg loss: 0.026190\n",
      "Avg Train loss: 0.011882, Avg accuracy: 0.828704\n",
      "Avg loss: 0.027956\n",
      "Avg Train loss: 0.016513, Avg accuracy: 0.840856\n",
      "Avg loss: 0.024143\n",
      "Avg Train loss: 0.017068, Avg accuracy: 0.824942\n",
      "Avg loss: 0.026815\n",
      "Avg Train loss: 0.032873, Avg accuracy: 0.827546\n",
      "Avg loss: 0.025229\n",
      "Avg Train loss: 0.012741, Avg accuracy: 0.822627\n",
      "Avg loss: 0.026638\n",
      "Avg Train loss: 0.013058, Avg accuracy: 0.824653\n",
      "Avg loss: 0.026727\n",
      "Avg Train loss: 0.015223, Avg accuracy: 0.833623\n",
      "Avg loss: 0.026124\n",
      "Avg Train loss: 0.017886, Avg accuracy: 0.829572\n",
      "Avg loss: 0.026490\n",
      "Avg Train loss: 0.019289, Avg accuracy: 0.834780\n",
      "Avg loss: 0.024619\n"
     ]
    },
    {
     "data": {
      "text/plain": "<AxesSubplot: >"
     },
     "execution_count": 297,
     "metadata": {},
     "output_type": "execute_result"
    },
    {
     "data": {
      "text/plain": "<Figure size 640x480 with 1 Axes>",
      "image/png": "[encoded data removed]"
     },
     "metadata": {},
     "output_type": "display_data"
    }
   ],
   "source": [
    "train_loss = list()\n",
    "valid_loss = list()\n",
    "for e in range(EPOCH):\n",
    "    train_loss.append(trainer(train_set, model, optimizer, loss_fn))\n",
    "    valid_loss.append(evaluator(valid_set, model, loss_fn))\n",
    "\n",
    "output_df = pd.DataFrame({'train loss': train_loss,\n",
    "              'valid loss': valid_loss})\n",
    "output_df.plot()"
   ],
   "metadata": {
    "collapsed": false
   }
  },
  {
   "cell_type": "code",
   "execution_count": 266,
   "outputs": [
    {
     "data": {
      "text/plain": "tensor([[0.2034],\n        [0.1641],\n        [0.2331],\n        [0.2429],\n        [0.0686],\n        [0.1286],\n        [0.0673],\n        [0.1184],\n        [0.1261],\n        [0.2171],\n        [0.0847],\n        [0.2048],\n        [0.1806],\n        [0.2484],\n        [0.0849],\n        [0.0535],\n        [0.2340],\n        [0.2383],\n        [0.2134],\n        [0.1178],\n        [0.2232],\n        [0.1314],\n        [0.0507],\n        [0.0809],\n        [0.2087],\n        [0.0690],\n        [0.1071],\n        [0.1092],\n        [0.1466],\n        [0.0731],\n        [0.2001],\n        [0.1122]], grad_fn=<AddmmBackward0>)"
     },
     "execution_count": 266,
     "metadata": {},
     "output_type": "execute_result"
    }
   ],
   "source": [
    "i, (X, y) = next(enumerate(train_set))\n",
    "pred = model(X)\n",
    "pred"
   ],
   "metadata": {
    "collapsed": false
   }
  },
  {
   "cell_type": "code",
   "execution_count": 267,
   "outputs": [
    {
     "data": {
      "text/plain": "tensor([0.2155, 0.1374, 0.2070, 0.3009, 0.0677, 0.1229, 0.0659, 0.0833, 0.1335,\n        0.2244, 0.0616, 0.2137, 0.1702, 0.3009, 0.0675, 0.0267, 0.2178, 0.2119,\n        0.2099, 0.1131, 0.1774, 0.1051, 0.0427, 0.0759, 0.2030, 0.0641, 0.0570,\n        0.0805, 0.1531, 0.0694, 0.1713, 0.1318])"
     },
     "execution_count": 267,
     "metadata": {},
     "output_type": "execute_result"
    }
   ],
   "source": [
    "y"
   ],
   "metadata": {
    "collapsed": false
   }
  },
  {
   "cell_type": "code",
   "execution_count": 274,
   "outputs": [
    {
     "data": {
      "text/plain": "0.65625"
     },
     "execution_count": 274,
     "metadata": {},
     "output_type": "execute_result"
    }
   ],
   "source": [
    "(to_level(target_scaler.inverse_transform(pred.detach().numpy())) == to_level(target_scaler.inverse_transform(y.reshape(-1, 1)).squeeze())).sum()/len(y)"
   ],
   "metadata": {
    "collapsed": false
   }
  },
  {
   "cell_type": "code",
   "execution_count": 156,
   "outputs": [
    {
     "data": {
      "text/plain": "0.25"
     },
     "execution_count": 156,
     "metadata": {},
     "output_type": "execute_result"
    }
   ],
   "source": [
    "(to_level(model(X)) == to_level(y)).sum()/len(y)"
   ],
   "metadata": {
    "collapsed": false
   }
  }
 ],
 "metadata": {
  "kernelspec": {
   "display_name": "Python 3",
   "language": "python",
   "name": "python3"
  },
  "language_info": {
   "codemirror_mode": {
    "name": "ipython",
    "version": 2
   },
   "file_extension": ".py",
   "mimetype": "text/x-python",
   "name": "python",
   "nbconvert_exporter": "python",
   "pygments_lexer": "ipython2",
   "version": "2.7.6"
  }
 },
 "nbformat": 4,
 "nbformat_minor": 0
}
