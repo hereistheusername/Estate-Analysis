{
 "cells": [
  {
   "cell_type": "code",
   "execution_count": 1,
   "outputs": [],
   "source": [
    "import torch\n",
    "import torch.nn as nn\n",
    "import torch.nn.functional as F\n",
    "from torch.utils.data import DataLoader, random_split\n",
    "from typing import Tuple, Iterable\n",
    "import pandas as pd\n",
    "import numpy as np\n",
    "from sklearn.preprocessing import MinMaxScaler\n",
    "\n",
    "from tempfile import TemporaryDirectory\n",
    "import os"
   ],
   "metadata": {
    "collapsed": false,
    "ExecuteTime": {
     "start_time": "2023-04-09T16:37:55.359193Z",
     "end_time": "2023-04-09T16:37:56.816208Z"
    }
   }
  },
  {
   "cell_type": "code",
   "execution_count": 2,
   "outputs": [],
   "source": [
    "BATCH_SIZE=64"
   ],
   "metadata": {
    "collapsed": false,
    "ExecuteTime": {
     "start_time": "2023-04-09T16:37:56.816053Z",
     "end_time": "2023-04-09T16:37:56.820049Z"
    }
   }
  },
  {
   "cell_type": "code",
   "execution_count": 3,
   "outputs": [],
   "source": [
    "# Let's define the class object of multilayer perceptrons\n",
    "class DNN(torch.nn.Module):\n",
    "    def __init__(self, width_vec: list = None):\n",
    "        super(DNN, self).__init__()\n",
    "        self.width_vec= width_vec\n",
    "\n",
    "        modules = []\n",
    "        if width_vec is None:\n",
    "            width_vec = [1,256,256,256,1]\n",
    "\n",
    "        # Network\n",
    "        for i in range(len(width_vec) - 2):\n",
    "            modules.append(nn.Linear(width_vec[i],width_vec[i+1]));\n",
    "            modules.append(nn.ReLU())\n",
    "\n",
    "        self.net = nn.Sequential(*modules,\n",
    "                                 nn.Linear(width_vec[-2],width_vec[-1])\n",
    "                                 )\n",
    "\n",
    "    def forward(self,x):\n",
    "        output = self.net(x)\n",
    "        return  output"
   ],
   "metadata": {
    "collapsed": false,
    "ExecuteTime": {
     "start_time": "2023-04-09T16:37:56.819632Z",
     "end_time": "2023-04-09T16:37:56.822500Z"
    }
   }
  },
  {
   "cell_type": "code",
   "execution_count": 4,
   "outputs": [],
   "source": [
    "class Dataset(torch.utils.data.Dataset):\n",
    "    'Characterizes a dataset for PyTorch'\n",
    "    def __init__(self, attributes, target):\n",
    "        self.attributes = attributes\n",
    "        self.target = target\n",
    "\n",
    "    def __len__(self):\n",
    "        'Denotes the total number of samples'\n",
    "        return len(self.attributes)\n",
    "\n",
    "    def __getitem__(self, index):\n",
    "        X = torch.tensor(self.attributes[index], dtype=torch.float)\n",
    "        y = torch.tensor(self.target[index], dtype=torch.float)\n",
    "\n",
    "        return X, y\n"
   ],
   "metadata": {
    "collapsed": false,
    "ExecuteTime": {
     "start_time": "2023-04-09T16:37:56.822270Z",
     "end_time": "2023-04-09T16:37:56.825277Z"
    }
   }
  },
  {
   "cell_type": "code",
   "execution_count": 44,
   "outputs": [],
   "source": [],
   "metadata": {
    "collapsed": false,
    "ExecuteTime": {
     "start_time": "2023-04-09T16:56:23.579792Z",
     "end_time": "2023-04-09T16:56:23.587946Z"
    }
   }
  },
  {
   "cell_type": "code",
   "execution_count": 5,
   "outputs": [
    {
     "data": {
      "text/plain": "   number of rooms  security level of the community  residence space  \\\n0                5                             2.50             2820   \n1                2                             1.00             1210   \n2                4                             2.50             2200   \n3                3                             1.50             1200   \n4                3                             1.75             1370   \n\n   building space  noise level  waterfront  view  air quality level  \\\n0           67518          2.0           0     0                  3   \n1            9400          1.0           0     0                  2   \n2            9397          2.0           0     0                  3   \n3            9720          1.0           0     0                  4   \n4            5858          1.0           0     0                  3   \n\n   aboveground space   basement space  building year  exchange rate  \\\n0                2820               0           1979       6.784830   \n1                1210               0           1949       6.243129   \n2                2200               0           1987       6.010127   \n3                1200               0           1965       7.560375   \n4                1370               0           1987       6.543941   \n\n         LAT         LNG   timestamp  transaction year  transaction month  \\\n0  47.557085 -122.007748  1398988800              2014                  5   \n1  47.544034 -122.349874  1398988800              2014                  5   \n2  47.310617 -122.263291  1398988800              2014                  5   \n3  47.367737 -122.117029  1398988800              2014                  5   \n4  47.391319 -122.314971  1398988800              2014                  5   \n\n   transaction day  filled decoration year          total  \n0                2                    2014  675000.000105  \n1                2                    1949  234999.999988  \n2                2                    2000  237227.857125  \n3                2                    1965  242499.999935  \n4                2                    2000  257949.999962  ",
      "text/html": "<div>\n<style scoped>\n    .dataframe tbody tr th:only-of-type {\n        vertical-align: middle;\n    }\n\n    .dataframe tbody tr th {\n        vertical-align: top;\n    }\n\n    .dataframe thead th {\n        text-align: right;\n    }\n</style>\n<table border=\"1\" class=\"dataframe\">\n  <thead>\n    <tr style=\"text-align: right;\">\n      <th></th>\n      <th>number of rooms</th>\n      <th>security level of the community</th>\n      <th>residence space</th>\n      <th>building space</th>\n      <th>noise level</th>\n      <th>waterfront</th>\n      <th>view</th>\n      <th>air quality level</th>\n      <th>aboveground space</th>\n      <th>basement space</th>\n      <th>building year</th>\n      <th>exchange rate</th>\n      <th>LAT</th>\n      <th>LNG</th>\n      <th>timestamp</th>\n      <th>transaction year</th>\n      <th>transaction month</th>\n      <th>transaction day</th>\n      <th>filled decoration year</th>\n      <th>total</th>\n    </tr>\n  </thead>\n  <tbody>\n    <tr>\n      <th>0</th>\n      <td>5</td>\n      <td>2.50</td>\n      <td>2820</td>\n      <td>67518</td>\n      <td>2.0</td>\n      <td>0</td>\n      <td>0</td>\n      <td>3</td>\n      <td>2820</td>\n      <td>0</td>\n      <td>1979</td>\n      <td>6.784830</td>\n      <td>47.557085</td>\n      <td>-122.007748</td>\n      <td>1398988800</td>\n      <td>2014</td>\n      <td>5</td>\n      <td>2</td>\n      <td>2014</td>\n      <td>675000.000105</td>\n    </tr>\n    <tr>\n      <th>1</th>\n      <td>2</td>\n      <td>1.00</td>\n      <td>1210</td>\n      <td>9400</td>\n      <td>1.0</td>\n      <td>0</td>\n      <td>0</td>\n      <td>2</td>\n      <td>1210</td>\n      <td>0</td>\n      <td>1949</td>\n      <td>6.243129</td>\n      <td>47.544034</td>\n      <td>-122.349874</td>\n      <td>1398988800</td>\n      <td>2014</td>\n      <td>5</td>\n      <td>2</td>\n      <td>1949</td>\n      <td>234999.999988</td>\n    </tr>\n    <tr>\n      <th>2</th>\n      <td>4</td>\n      <td>2.50</td>\n      <td>2200</td>\n      <td>9397</td>\n      <td>2.0</td>\n      <td>0</td>\n      <td>0</td>\n      <td>3</td>\n      <td>2200</td>\n      <td>0</td>\n      <td>1987</td>\n      <td>6.010127</td>\n      <td>47.310617</td>\n      <td>-122.263291</td>\n      <td>1398988800</td>\n      <td>2014</td>\n      <td>5</td>\n      <td>2</td>\n      <td>2000</td>\n      <td>237227.857125</td>\n    </tr>\n    <tr>\n      <th>3</th>\n      <td>3</td>\n      <td>1.50</td>\n      <td>1200</td>\n      <td>9720</td>\n      <td>1.0</td>\n      <td>0</td>\n      <td>0</td>\n      <td>4</td>\n      <td>1200</td>\n      <td>0</td>\n      <td>1965</td>\n      <td>7.560375</td>\n      <td>47.367737</td>\n      <td>-122.117029</td>\n      <td>1398988800</td>\n      <td>2014</td>\n      <td>5</td>\n      <td>2</td>\n      <td>1965</td>\n      <td>242499.999935</td>\n    </tr>\n    <tr>\n      <th>4</th>\n      <td>3</td>\n      <td>1.75</td>\n      <td>1370</td>\n      <td>5858</td>\n      <td>1.0</td>\n      <td>0</td>\n      <td>0</td>\n      <td>3</td>\n      <td>1370</td>\n      <td>0</td>\n      <td>1987</td>\n      <td>6.543941</td>\n      <td>47.391319</td>\n      <td>-122.314971</td>\n      <td>1398988800</td>\n      <td>2014</td>\n      <td>5</td>\n      <td>2</td>\n      <td>2000</td>\n      <td>257949.999962</td>\n    </tr>\n  </tbody>\n</table>\n</div>"
     },
     "execution_count": 5,
     "metadata": {},
     "output_type": "execute_result"
    }
   ],
   "source": [
    "df = pd.read_csv('data/Train_Data_Converted&Dropped.csv')\n",
    "df.head()"
   ],
   "metadata": {
    "collapsed": false,
    "ExecuteTime": {
     "start_time": "2023-04-09T16:37:56.827332Z",
     "end_time": "2023-04-09T16:37:56.855332Z"
    }
   }
  },
  {
   "cell_type": "code",
   "execution_count": 6,
   "outputs": [
    {
     "data": {
      "text/plain": "   number of rooms  security level of the community  residence space  \\\n0         0.555556                          0.31250         0.182304   \n1         0.222222                          0.12500         0.059497   \n2         0.444444                          0.31250         0.135011   \n3         0.333333                          0.18750         0.058734   \n4         0.333333                          0.21875         0.071701   \n\n   building space  noise level  waterfront  view  air quality level  \\\n0        0.217492          0.4         0.0   0.0               0.50   \n1        0.028185          0.0         0.0   0.0               0.25   \n2        0.028175          0.4         0.0   0.0               0.50   \n3        0.029228          0.0         0.0   0.0               0.75   \n4        0.016648          0.0         0.0   0.0               0.50   \n\n   aboveground space   basement space  building year  exchange rate       LAT  \\\n0            0.266147             0.0       0.692982       0.392235  0.625836   \n1            0.086860             0.0       0.429825       0.121247  0.601863   \n2            0.197105             0.0       0.763158       0.004686  0.173113   \n3            0.085746             0.0       0.570175       0.780206  0.278033   \n4            0.104677             0.0       0.763158       0.271729  0.321350   \n\n        LNG  timestamp  transaction year  transaction month  transaction day  \\\n0  0.389753        0.0               0.0                0.0         0.033333   \n1  0.103344        0.0               0.0                0.0         0.033333   \n2  0.175826        0.0               0.0                0.0         0.033333   \n3  0.298269        0.0               0.0                0.0         0.033333   \n4  0.132563        0.0               0.0                0.0         0.033333   \n\n   filled decoration year     total  \n0                1.000000  0.211895  \n1                0.424779  0.055199  \n2                0.876106  0.055993  \n3                0.566372  0.057870  \n4                0.876106  0.063373  ",
      "text/html": "<div>\n<style scoped>\n    .dataframe tbody tr th:only-of-type {\n        vertical-align: middle;\n    }\n\n    .dataframe tbody tr th {\n        vertical-align: top;\n    }\n\n    .dataframe thead th {\n        text-align: right;\n    }\n</style>\n<table border=\"1\" class=\"dataframe\">\n  <thead>\n    <tr style=\"text-align: right;\">\n      <th></th>\n      <th>number of rooms</th>\n      <th>security level of the community</th>\n      <th>residence space</th>\n      <th>building space</th>\n      <th>noise level</th>\n      <th>waterfront</th>\n      <th>view</th>\n      <th>air quality level</th>\n      <th>aboveground space</th>\n      <th>basement space</th>\n      <th>building year</th>\n      <th>exchange rate</th>\n      <th>LAT</th>\n      <th>LNG</th>\n      <th>timestamp</th>\n      <th>transaction year</th>\n      <th>transaction month</th>\n      <th>transaction day</th>\n      <th>filled decoration year</th>\n      <th>total</th>\n    </tr>\n  </thead>\n  <tbody>\n    <tr>\n      <th>0</th>\n      <td>0.555556</td>\n      <td>0.31250</td>\n      <td>0.182304</td>\n      <td>0.217492</td>\n      <td>0.4</td>\n      <td>0.0</td>\n      <td>0.0</td>\n      <td>0.50</td>\n      <td>0.266147</td>\n      <td>0.0</td>\n      <td>0.692982</td>\n      <td>0.392235</td>\n      <td>0.625836</td>\n      <td>0.389753</td>\n      <td>0.0</td>\n      <td>0.0</td>\n      <td>0.0</td>\n      <td>0.033333</td>\n      <td>1.000000</td>\n      <td>0.211895</td>\n    </tr>\n    <tr>\n      <th>1</th>\n      <td>0.222222</td>\n      <td>0.12500</td>\n      <td>0.059497</td>\n      <td>0.028185</td>\n      <td>0.0</td>\n      <td>0.0</td>\n      <td>0.0</td>\n      <td>0.25</td>\n      <td>0.086860</td>\n      <td>0.0</td>\n      <td>0.429825</td>\n      <td>0.121247</td>\n      <td>0.601863</td>\n      <td>0.103344</td>\n      <td>0.0</td>\n      <td>0.0</td>\n      <td>0.0</td>\n      <td>0.033333</td>\n      <td>0.424779</td>\n      <td>0.055199</td>\n    </tr>\n    <tr>\n      <th>2</th>\n      <td>0.444444</td>\n      <td>0.31250</td>\n      <td>0.135011</td>\n      <td>0.028175</td>\n      <td>0.4</td>\n      <td>0.0</td>\n      <td>0.0</td>\n      <td>0.50</td>\n      <td>0.197105</td>\n      <td>0.0</td>\n      <td>0.763158</td>\n      <td>0.004686</td>\n      <td>0.173113</td>\n      <td>0.175826</td>\n      <td>0.0</td>\n      <td>0.0</td>\n      <td>0.0</td>\n      <td>0.033333</td>\n      <td>0.876106</td>\n      <td>0.055993</td>\n    </tr>\n    <tr>\n      <th>3</th>\n      <td>0.333333</td>\n      <td>0.18750</td>\n      <td>0.058734</td>\n      <td>0.029228</td>\n      <td>0.0</td>\n      <td>0.0</td>\n      <td>0.0</td>\n      <td>0.75</td>\n      <td>0.085746</td>\n      <td>0.0</td>\n      <td>0.570175</td>\n      <td>0.780206</td>\n      <td>0.278033</td>\n      <td>0.298269</td>\n      <td>0.0</td>\n      <td>0.0</td>\n      <td>0.0</td>\n      <td>0.033333</td>\n      <td>0.566372</td>\n      <td>0.057870</td>\n    </tr>\n    <tr>\n      <th>4</th>\n      <td>0.333333</td>\n      <td>0.21875</td>\n      <td>0.071701</td>\n      <td>0.016648</td>\n      <td>0.0</td>\n      <td>0.0</td>\n      <td>0.0</td>\n      <td>0.50</td>\n      <td>0.104677</td>\n      <td>0.0</td>\n      <td>0.763158</td>\n      <td>0.271729</td>\n      <td>0.321350</td>\n      <td>0.132563</td>\n      <td>0.0</td>\n      <td>0.0</td>\n      <td>0.0</td>\n      <td>0.033333</td>\n      <td>0.876106</td>\n      <td>0.063373</td>\n    </tr>\n  </tbody>\n</table>\n</div>"
     },
     "execution_count": 6,
     "metadata": {},
     "output_type": "execute_result"
    }
   ],
   "source": [
    "attributes_scaler = MinMaxScaler()\n",
    "attributes_data = attributes_scaler.fit_transform(df.drop(['total'], axis=1))\n",
    "target_scaler = MinMaxScaler()\n",
    "target_data = target_scaler.fit_transform(df['total'].to_numpy().reshape(-1, 1))\n",
    "df = pd.concat([\n",
    "     pd.DataFrame(attributes_data, columns=df.columns[:-1]),\n",
    "     pd.DataFrame(target_data.squeeze(), columns=['total'])\n",
    " ], axis=1)\n",
    "df.head()"
   ],
   "metadata": {
    "collapsed": false,
    "ExecuteTime": {
     "start_time": "2023-04-09T16:37:56.842731Z",
     "end_time": "2023-04-09T16:37:56.855965Z"
    }
   }
  },
  {
   "cell_type": "code",
   "execution_count": 7,
   "outputs": [],
   "source": [
    "# generator = torch.random.manual_seed(42)\n",
    "# train, valid = random_split(df.values, [0.9, 0.1], generator)"
   ],
   "metadata": {
    "collapsed": false,
    "ExecuteTime": {
     "start_time": "2023-04-09T16:37:56.852990Z",
     "end_time": "2023-04-09T16:37:56.856031Z"
    }
   }
  },
  {
   "cell_type": "code",
   "execution_count": 8,
   "outputs": [],
   "source": [
    "# train = DataLoader(train, BATCH_SIZE, shuffle=True, num_workers=2)\n",
    "# valid = DataLoader(valid, BATCH_SIZE, shuffle=True, num_workers=1)"
   ],
   "metadata": {
    "collapsed": false,
    "ExecuteTime": {
     "start_time": "2023-04-09T16:37:56.855160Z",
     "end_time": "2023-04-09T16:37:56.878788Z"
    }
   }
  },
  {
   "cell_type": "code",
   "execution_count": 9,
   "outputs": [],
   "source": [
    "dataset = Dataset(df.drop(['total', 'transaction year', 'transaction month', 'transaction day', 'timestamp'], axis=1).values, df['total'].values)"
   ],
   "metadata": {
    "collapsed": false,
    "ExecuteTime": {
     "start_time": "2023-04-09T16:37:56.858420Z",
     "end_time": "2023-04-09T16:37:56.896058Z"
    }
   }
  },
  {
   "cell_type": "code",
   "execution_count": 10,
   "outputs": [
    {
     "data": {
      "text/plain": "(tensor([0.5556, 0.3125, 0.1823, 0.2175, 0.4000, 0.0000, 0.0000, 0.5000, 0.2661,\n         0.0000, 0.6930, 0.3922, 0.6258, 0.3898, 1.0000]),\n tensor(0.2119))"
     },
     "execution_count": 10,
     "metadata": {},
     "output_type": "execute_result"
    }
   ],
   "source": [
    "dataset[0]"
   ],
   "metadata": {
    "collapsed": false,
    "ExecuteTime": {
     "start_time": "2023-04-09T16:37:56.860888Z",
     "end_time": "2023-04-09T16:37:56.910530Z"
    }
   }
  },
  {
   "cell_type": "code",
   "execution_count": 11,
   "outputs": [],
   "source": [
    "generator = torch.random.manual_seed(42)\n",
    "train, valid = random_split(dataset, [0.9, 0.1], generator)"
   ],
   "metadata": {
    "collapsed": false,
    "ExecuteTime": {
     "start_time": "2023-04-09T16:37:56.865196Z",
     "end_time": "2023-04-09T16:37:56.927722Z"
    }
   }
  },
  {
   "cell_type": "code",
   "execution_count": 12,
   "outputs": [],
   "source": [
    "train_set = DataLoader(train, BATCH_SIZE, shuffle=True, )\n",
    "valid_set = DataLoader(valid, BATCH_SIZE, shuffle=True)"
   ],
   "metadata": {
    "collapsed": false,
    "ExecuteTime": {
     "start_time": "2023-04-09T16:37:56.873486Z",
     "end_time": "2023-04-09T16:37:56.927881Z"
    }
   }
  },
  {
   "cell_type": "code",
   "execution_count": 13,
   "outputs": [],
   "source": [
    "device = \"cuda\" if torch.cuda.is_available() else \"cpu\""
   ],
   "metadata": {
    "collapsed": false,
    "ExecuteTime": {
     "start_time": "2023-04-09T16:37:56.875062Z",
     "end_time": "2023-04-09T16:37:56.957030Z"
    }
   }
  },
  {
   "cell_type": "code",
   "execution_count": 14,
   "outputs": [],
   "source": [
    "i, (X, y) = next(enumerate(train_set))"
   ],
   "metadata": {
    "collapsed": false,
    "ExecuteTime": {
     "start_time": "2023-04-09T16:37:56.877019Z",
     "end_time": "2023-04-09T16:37:56.957203Z"
    }
   }
  },
  {
   "cell_type": "code",
   "execution_count": 15,
   "outputs": [
    {
     "data": {
      "text/plain": "torch.Size([64, 15])"
     },
     "execution_count": 15,
     "metadata": {},
     "output_type": "execute_result"
    }
   ],
   "source": [
    "X.shape"
   ],
   "metadata": {
    "collapsed": false,
    "ExecuteTime": {
     "start_time": "2023-04-09T16:37:56.882091Z",
     "end_time": "2023-04-09T16:37:56.957378Z"
    }
   }
  },
  {
   "cell_type": "code",
   "execution_count": 16,
   "outputs": [
    {
     "data": {
      "text/plain": "54"
     },
     "execution_count": 16,
     "metadata": {},
     "output_type": "execute_result"
    }
   ],
   "source": [
    "len(train_set)"
   ],
   "metadata": {
    "collapsed": false,
    "ExecuteTime": {
     "start_time": "2023-04-09T16:37:56.885755Z",
     "end_time": "2023-04-09T16:37:56.957482Z"
    }
   }
  },
  {
   "cell_type": "code",
   "execution_count": 17,
   "outputs": [],
   "source": [
    "def to_level(l: Iterable):\n",
    "    def tier(cost: float):\n",
    "        if 0 <= cost < 300000: return 1\n",
    "        elif 300000 <= cost < 500000: return 2\n",
    "        elif 500000 <= cost < 700000: return 3\n",
    "        elif 700000 <= cost: return 4\n",
    "    return np.array([tier(c) for c in l])\n",
    "\n"
   ],
   "metadata": {
    "collapsed": false,
    "ExecuteTime": {
     "start_time": "2023-04-09T16:37:56.888890Z",
     "end_time": "2023-04-09T16:37:56.957536Z"
    }
   }
  },
  {
   "cell_type": "code",
   "execution_count": 18,
   "outputs": [],
   "source": [
    "def evaluator(dataloader, model, loss_fn):\n",
    "    size = len(dataloader.dataset)\n",
    "    num_batches = len(dataloader)\n",
    "    model.eval()\n",
    "    test_loss, correct = 0, 0\n",
    "    acc = list()\n",
    "    with torch.no_grad():\n",
    "        for X, y in dataloader:\n",
    "            shape_X = X.shape\n",
    "            X, y = X.reshape(shape_X[0], 1, shape_X[1]).to(device), y.to(device)\n",
    "            pred = model(X).squeeze()\n",
    "            test_loss += loss_fn(pred, y).item()\n",
    "            acc.append((to_level(target_scaler.inverse_transform(pred.detach().numpy().reshape(-1, 1))) == to_level(target_scaler.inverse_transform(y.reshape(-1, 1)).squeeze())).sum()/len(y))\n",
    "            # correct += (pred.argmax(1) == y).type(torch.float).sum().item()\n",
    "    test_loss /= num_batches\n",
    "    # correct /= size\n",
    "    # print(f\"Test Error: \\n Accuracy: {(100*correct):>0.1f}%, Avg loss: {test_loss:>8f} \\n\")\n",
    "    avg_acc = np.mean(acc)\n",
    "    print('Avg loss: {:8f}, Avg evaluation accuracy: {:.8f}'.format(test_loss, avg_acc))\n",
    "    return test_loss, avg_acc"
   ],
   "metadata": {
    "collapsed": false,
    "ExecuteTime": {
     "start_time": "2023-04-09T16:37:56.893111Z",
     "end_time": "2023-04-09T16:37:56.957587Z"
    }
   }
  },
  {
   "cell_type": "code",
   "execution_count": 19,
   "outputs": [],
   "source": [
    "# model = DNN([15, 256, 256, 256, 1]).to(device)"
   ],
   "metadata": {
    "collapsed": false,
    "ExecuteTime": {
     "start_time": "2023-04-09T16:37:56.895364Z",
     "end_time": "2023-04-09T16:37:56.957650Z"
    }
   }
  },
  {
   "cell_type": "code",
   "execution_count": 20,
   "outputs": [
    {
     "name": "stdout",
     "output_type": "stream",
     "text": [
      "Sequential(\n",
      "  (0): Conv1d(1, 8, kernel_size=(1,), stride=(1,))\n",
      "  (1): Conv1d(8, 32, kernel_size=(3,), stride=(1,))\n",
      "  (2): AvgPool1d(kernel_size=(3,), stride=(3,), padding=(0,))\n",
      "  (3): Flatten(start_dim=1, end_dim=-1)\n",
      "  (4): Linear(in_features=128, out_features=64, bias=True)\n",
      "  (5): ReLU()\n",
      "  (6): Linear(in_features=64, out_features=16, bias=True)\n",
      "  (7): ReLU()\n",
      "  (8): Dropout1d(p=0.0, inplace=False)\n",
      "  (9): Linear(in_features=16, out_features=1, bias=True)\n",
      ")\n"
     ]
    }
   ],
   "source": [
    "DROP_RATE = 0.\n",
    "model = torch.nn.Sequential(\n",
    "    nn.Conv1d(1, 8, 1),\n",
    "    nn.Conv1d(8, 32, 3),\n",
    "    nn.AvgPool1d(3),\n",
    "    nn.Flatten(),\n",
    "    nn.Linear(128, 64),\n",
    "    nn.ReLU(),\n",
    "    nn.Linear(64, 16),\n",
    "    nn.ReLU(),\n",
    "    nn.Dropout1d(DROP_RATE),\n",
    "    nn.Linear(16, 1)\n",
    ").to(device)\n",
    "print(model)"
   ],
   "metadata": {
    "collapsed": false,
    "ExecuteTime": {
     "start_time": "2023-04-09T16:37:56.898637Z",
     "end_time": "2023-04-09T16:37:56.958545Z"
    }
   }
  },
  {
   "cell_type": "code",
   "execution_count": 21,
   "outputs": [
    {
     "data": {
      "text/plain": "torch.Size([32, 1])"
     },
     "execution_count": 21,
     "metadata": {},
     "output_type": "execute_result"
    }
   ],
   "source": [
    "model(torch.randn((32, 1, 15))).shape"
   ],
   "metadata": {
    "collapsed": false,
    "ExecuteTime": {
     "start_time": "2023-04-09T16:37:56.902257Z",
     "end_time": "2023-04-09T16:37:56.958769Z"
    }
   }
  },
  {
   "cell_type": "code",
   "execution_count": 22,
   "outputs": [
    {
     "name": "stdout",
     "output_type": "stream",
     "text": [
      "Adjusting learning rate of group 0 to 5.0000e-03.\n"
     ]
    }
   ],
   "source": [
    "loss_fn = torch.nn.MSELoss(reduction='sum')\n",
    "lr = 5e-3\n",
    "optimizer = torch.optim.Adam(model.parameters(), lr)\n",
    "scheduler = torch.optim.lr_scheduler.StepLR(optimizer, step_size=50, gamma=0.5, verbose=True)\n",
    "EPOCH = 200\n"
   ],
   "metadata": {
    "collapsed": false,
    "ExecuteTime": {
     "start_time": "2023-04-09T16:37:56.907612Z",
     "end_time": "2023-04-09T16:37:56.958902Z"
    }
   }
  },
  {
   "cell_type": "code",
   "execution_count": 23,
   "outputs": [],
   "source": [
    "def trainer(dataloader: torch.utils.data.DataLoader,\n",
    "            model: torch.nn.Module,\n",
    "            optimizer,\n",
    "            loss_fn):\n",
    "    size = len(dataloader.dataset)\n",
    "    num_batches = len(dataloader)\n",
    "    acc = list()\n",
    "    train_loss = 0\n",
    "    model.train()\n",
    "    for batch, (X, y) in enumerate(dataloader):\n",
    "        shape_X = X.shape\n",
    "        X, y = X.reshape(shape_X[0], 1, shape_X[1]).to(device), y.to(device)\n",
    "        tiers = to_level(y)\n",
    "\n",
    "        # Compute prediction error\n",
    "        pred = model(X).squeeze()\n",
    "        # tiers_pred = to_level(pred)\n",
    "        loss = loss_fn(pred, y)\n",
    "        train_loss += loss.item()\n",
    "        acc.append((to_level(target_scaler.inverse_transform(pred.detach().numpy().reshape(-1, 1))) == to_level(target_scaler.inverse_transform(y.reshape(-1, 1)).squeeze())).sum()/len(y))\n",
    "        # Backpropagation\n",
    "        optimizer.zero_grad()\n",
    "        loss.backward()\n",
    "        optimizer.step()\n",
    "    train_loss /= num_batches\n",
    "    avg_acc = np.mean(acc)\n",
    "    print(f\"Avg Train loss: {loss:>8f}, Avg accuracy: {avg_acc:8f}\")\n",
    "    return train_loss, avg_acc"
   ],
   "metadata": {
    "collapsed": false,
    "ExecuteTime": {
     "start_time": "2023-04-09T16:37:56.912403Z",
     "end_time": "2023-04-09T16:37:56.958978Z"
    }
   }
  },
  {
   "cell_type": "code",
   "execution_count": 24,
   "outputs": [],
   "source": [
    "def evaluator(dataloader, model, loss_fn):\n",
    "    size = len(dataloader.dataset)\n",
    "    num_batches = len(dataloader)\n",
    "    model.eval()\n",
    "    test_loss, correct = 0, 0\n",
    "    acc = list()\n",
    "    with torch.no_grad():\n",
    "        for X, y in dataloader:\n",
    "            shape_X = X.shape\n",
    "            X, y = X.reshape(shape_X[0], 1, shape_X[1]).to(device), y.to(device)\n",
    "            pred = model(X).squeeze()\n",
    "            test_loss += loss_fn(pred, y).item()\n",
    "            acc.append((to_level(target_scaler.inverse_transform(pred.detach().numpy().reshape(-1, 1))) == to_level(target_scaler.inverse_transform(y.reshape(-1, 1)).squeeze())).sum()/len(y))\n",
    "            # correct += (pred.argmax(1) == y).type(torch.float).sum().item()\n",
    "    test_loss /= num_batches\n",
    "    # correct /= size\n",
    "    # print(f\"Test Error: \\n Accuracy: {(100*correct):>0.1f}%, Avg loss: {test_loss:>8f} \\n\")\n",
    "    avg_acc = np.mean(acc)\n",
    "    print('Avg loss: {:8f}, Avg evaluation accuracy: {:.8f}'.format(test_loss, avg_acc))\n",
    "    return test_loss, avg_acc"
   ],
   "metadata": {
    "collapsed": false,
    "ExecuteTime": {
     "start_time": "2023-04-09T16:37:56.916203Z",
     "end_time": "2023-04-09T16:37:56.959030Z"
    }
   }
  },
  {
   "cell_type": "code",
   "execution_count": 25,
   "outputs": [
    {
     "name": "stdout",
     "output_type": "stream",
     "text": [
      "Avg Train loss: 0.311357, Avg accuracy: 0.289641\n",
      "Avg loss: 0.483184, Avg evaluation accuracy: 0.33232527\n",
      "Adjusting learning rate of group 0 to 5.0000e-03.\n",
      "Avg Train loss: 0.102452, Avg accuracy: 0.467496\n",
      "Avg loss: 0.289110, Avg evaluation accuracy: 0.53141801\n",
      "Adjusting learning rate of group 0 to 5.0000e-03.\n",
      "Avg Train loss: 0.207275, Avg accuracy: 0.514082\n",
      "Avg loss: 0.258056, Avg evaluation accuracy: 0.56779234\n",
      "Adjusting learning rate of group 0 to 5.0000e-03.\n",
      "Avg Train loss: 0.227610, Avg accuracy: 0.544753\n",
      "Avg loss: 0.268956, Avg evaluation accuracy: 0.56535618\n",
      "Adjusting learning rate of group 0 to 5.0000e-03.\n",
      "Avg Train loss: 0.144709, Avg accuracy: 0.545910\n",
      "Avg loss: 0.332868, Avg evaluation accuracy: 0.54208669\n",
      "Adjusting learning rate of group 0 to 5.0000e-03.\n",
      "Avg Train loss: 0.076225, Avg accuracy: 0.554109\n",
      "Avg loss: 0.314804, Avg evaluation accuracy: 0.44254032\n",
      "Adjusting learning rate of group 0 to 5.0000e-03.\n",
      "Avg Train loss: 0.125910, Avg accuracy: 0.563754\n",
      "Avg loss: 0.255892, Avg evaluation accuracy: 0.52923387\n",
      "Adjusting learning rate of group 0 to 5.0000e-03.\n",
      "Avg Train loss: 0.117150, Avg accuracy: 0.561728\n",
      "Avg loss: 0.335818, Avg evaluation accuracy: 0.54947917\n",
      "Adjusting learning rate of group 0 to 5.0000e-03.\n",
      "Avg Train loss: 0.062381, Avg accuracy: 0.544174\n",
      "Avg loss: 0.294917, Avg evaluation accuracy: 0.44993280\n",
      "Adjusting learning rate of group 0 to 5.0000e-03.\n",
      "Avg Train loss: 0.114347, Avg accuracy: 0.548515\n",
      "Avg loss: 0.261601, Avg evaluation accuracy: 0.55468750\n",
      "Adjusting learning rate of group 0 to 5.0000e-03.\n",
      "Avg Train loss: 0.183970, Avg accuracy: 0.566937\n",
      "Avg loss: 0.303848, Avg evaluation accuracy: 0.56048387\n",
      "Adjusting learning rate of group 0 to 5.0000e-03.\n",
      "Avg Train loss: 0.129031, Avg accuracy: 0.559992\n",
      "Avg loss: 0.265815, Avg evaluation accuracy: 0.58921371\n",
      "Adjusting learning rate of group 0 to 5.0000e-03.\n",
      "Avg Train loss: 0.116842, Avg accuracy: 0.552276\n",
      "Avg loss: 0.312977, Avg evaluation accuracy: 0.43976815\n",
      "Adjusting learning rate of group 0 to 5.0000e-03.\n",
      "Avg Train loss: 0.257952, Avg accuracy: 0.541474\n",
      "Avg loss: 0.273130, Avg evaluation accuracy: 0.54956317\n",
      "Adjusting learning rate of group 0 to 5.0000e-03.\n",
      "Avg Train loss: 0.171280, Avg accuracy: 0.574363\n",
      "Avg loss: 0.255148, Avg evaluation accuracy: 0.60206653\n",
      "Adjusting learning rate of group 0 to 5.0000e-03.\n",
      "Avg Train loss: 0.126908, Avg accuracy: 0.576775\n",
      "Avg loss: 0.346559, Avg evaluation accuracy: 0.56527218\n",
      "Adjusting learning rate of group 0 to 5.0000e-03.\n",
      "Avg Train loss: 0.135953, Avg accuracy: 0.567998\n",
      "Avg loss: 0.248014, Avg evaluation accuracy: 0.54981519\n",
      "Adjusting learning rate of group 0 to 5.0000e-03.\n",
      "Avg Train loss: 0.146279, Avg accuracy: 0.569830\n",
      "Avg loss: 0.256278, Avg evaluation accuracy: 0.52898185\n",
      "Adjusting learning rate of group 0 to 5.0000e-03.\n",
      "Avg Train loss: 0.169618, Avg accuracy: 0.532890\n",
      "Avg loss: 0.274308, Avg evaluation accuracy: 0.46849798\n",
      "Adjusting learning rate of group 0 to 5.0000e-03.\n",
      "Avg Train loss: 0.202011, Avg accuracy: 0.567033\n",
      "Avg loss: 0.248299, Avg evaluation accuracy: 0.53662634\n",
      "Adjusting learning rate of group 0 to 5.0000e-03.\n",
      "Avg Train loss: 0.100831, Avg accuracy: 0.576775\n",
      "Avg loss: 0.280112, Avg evaluation accuracy: 0.58308132\n",
      "Adjusting learning rate of group 0 to 5.0000e-03.\n",
      "Avg Train loss: 0.090599, Avg accuracy: 0.570891\n",
      "Avg loss: 0.330351, Avg evaluation accuracy: 0.52116935\n",
      "Adjusting learning rate of group 0 to 5.0000e-03.\n",
      "Avg Train loss: 0.154688, Avg accuracy: 0.585166\n",
      "Avg loss: 0.224731, Avg evaluation accuracy: 0.61508737\n",
      "Adjusting learning rate of group 0 to 5.0000e-03.\n",
      "Avg Train loss: 0.102842, Avg accuracy: 0.592110\n",
      "Avg loss: 0.279955, Avg evaluation accuracy: 0.57602487\n",
      "Adjusting learning rate of group 0 to 5.0000e-03.\n",
      "Avg Train loss: 0.090512, Avg accuracy: 0.570409\n",
      "Avg loss: 0.235815, Avg evaluation accuracy: 0.61029906\n",
      "Adjusting learning rate of group 0 to 5.0000e-03.\n",
      "Avg Train loss: 0.207443, Avg accuracy: 0.594618\n",
      "Avg loss: 0.256772, Avg evaluation accuracy: 0.60761089\n",
      "Adjusting learning rate of group 0 to 5.0000e-03.\n",
      "Avg Train loss: 0.170865, Avg accuracy: 0.613233\n",
      "Avg loss: 0.221541, Avg evaluation accuracy: 0.61743952\n",
      "Adjusting learning rate of group 0 to 5.0000e-03.\n",
      "Avg Train loss: 0.138773, Avg accuracy: 0.595775\n",
      "Avg loss: 0.245411, Avg evaluation accuracy: 0.62121976\n",
      "Adjusting learning rate of group 0 to 5.0000e-03.\n",
      "Avg Train loss: 0.195496, Avg accuracy: 0.613426\n",
      "Avg loss: 0.224129, Avg evaluation accuracy: 0.61323925\n",
      "Adjusting learning rate of group 0 to 5.0000e-03.\n",
      "Avg Train loss: 0.129200, Avg accuracy: 0.599248\n",
      "Avg loss: 0.368977, Avg evaluation accuracy: 0.53990255\n",
      "Adjusting learning rate of group 0 to 5.0000e-03.\n",
      "Avg Train loss: 0.091790, Avg accuracy: 0.593750\n",
      "Avg loss: 0.251368, Avg evaluation accuracy: 0.59929435\n",
      "Adjusting learning rate of group 0 to 5.0000e-03.\n",
      "Avg Train loss: 0.117184, Avg accuracy: 0.621335\n",
      "Avg loss: 0.211787, Avg evaluation accuracy: 0.65709005\n",
      "Adjusting learning rate of group 0 to 5.0000e-03.\n",
      "Avg Train loss: 0.158177, Avg accuracy: 0.616705\n",
      "Avg loss: 0.263057, Avg evaluation accuracy: 0.60458669\n",
      "Adjusting learning rate of group 0 to 5.0000e-03.\n",
      "Avg Train loss: 0.216222, Avg accuracy: 0.614873\n",
      "Avg loss: 0.216207, Avg evaluation accuracy: 0.66775874\n",
      "Adjusting learning rate of group 0 to 5.0000e-03.\n",
      "Avg Train loss: 0.150571, Avg accuracy: 0.601659\n",
      "Avg loss: 0.215436, Avg evaluation accuracy: 0.58123320\n",
      "Adjusting learning rate of group 0 to 5.0000e-03.\n",
      "Avg Train loss: 0.084930, Avg accuracy: 0.619695\n",
      "Avg loss: 0.223445, Avg evaluation accuracy: 0.64692540\n",
      "Adjusting learning rate of group 0 to 5.0000e-03.\n",
      "Avg Train loss: 0.176942, Avg accuracy: 0.616030\n",
      "Avg loss: 0.212497, Avg evaluation accuracy: 0.63835685\n",
      "Adjusting learning rate of group 0 to 5.0000e-03.\n",
      "Avg Train loss: 0.147829, Avg accuracy: 0.625289\n",
      "Avg loss: 0.213854, Avg evaluation accuracy: 0.62903226\n",
      "Adjusting learning rate of group 0 to 5.0000e-03.\n",
      "Avg Train loss: 0.094440, Avg accuracy: 0.644579\n",
      "Avg loss: 0.214792, Avg evaluation accuracy: 0.57106855\n",
      "Adjusting learning rate of group 0 to 5.0000e-03.\n",
      "Avg Train loss: 0.139346, Avg accuracy: 0.652103\n",
      "Avg loss: 0.210282, Avg evaluation accuracy: 0.63314852\n",
      "Adjusting learning rate of group 0 to 5.0000e-03.\n",
      "Avg Train loss: 0.193998, Avg accuracy: 0.608796\n",
      "Avg loss: 0.178221, Avg evaluation accuracy: 0.67271505\n",
      "Adjusting learning rate of group 0 to 5.0000e-03.\n",
      "Avg Train loss: 0.179986, Avg accuracy: 0.639757\n",
      "Avg loss: 0.241561, Avg evaluation accuracy: 0.65171371\n",
      "Adjusting learning rate of group 0 to 5.0000e-03.\n",
      "Avg Train loss: 0.113959, Avg accuracy: 0.641686\n",
      "Avg loss: 0.196980, Avg evaluation accuracy: 0.71463374\n",
      "Adjusting learning rate of group 0 to 5.0000e-03.\n",
      "Avg Train loss: 0.101476, Avg accuracy: 0.637828\n",
      "Avg loss: 0.243716, Avg evaluation accuracy: 0.50235215\n",
      "Adjusting learning rate of group 0 to 5.0000e-03.\n",
      "Avg Train loss: 0.116091, Avg accuracy: 0.617573\n",
      "Avg loss: 0.209818, Avg evaluation accuracy: 0.68598790\n",
      "Adjusting learning rate of group 0 to 5.0000e-03.\n",
      "Avg Train loss: 0.095064, Avg accuracy: 0.651910\n",
      "Avg loss: 0.187369, Avg evaluation accuracy: 0.66473454\n",
      "Adjusting learning rate of group 0 to 5.0000e-03.\n",
      "Avg Train loss: 0.156084, Avg accuracy: 0.669367\n",
      "Avg loss: 0.196170, Avg evaluation accuracy: 0.68363575\n",
      "Adjusting learning rate of group 0 to 5.0000e-03.\n",
      "Avg Train loss: 0.134968, Avg accuracy: 0.646316\n",
      "Avg loss: 0.177257, Avg evaluation accuracy: 0.68371976\n",
      "Adjusting learning rate of group 0 to 5.0000e-03.\n",
      "Avg Train loss: 0.083234, Avg accuracy: 0.644869\n",
      "Avg loss: 0.189866, Avg evaluation accuracy: 0.65751008\n",
      "Adjusting learning rate of group 0 to 5.0000e-03.\n",
      "Avg Train loss: 0.180635, Avg accuracy: 0.656057\n",
      "Avg loss: 0.278504, Avg evaluation accuracy: 0.61777554\n",
      "Adjusting learning rate of group 0 to 2.5000e-03.\n",
      "Avg Train loss: 0.065272, Avg accuracy: 0.678916\n",
      "Avg loss: 0.159607, Avg evaluation accuracy: 0.71463374\n",
      "Adjusting learning rate of group 0 to 2.5000e-03.\n",
      "Avg Train loss: 0.121987, Avg accuracy: 0.682099\n",
      "Avg loss: 0.164916, Avg evaluation accuracy: 0.69144825\n",
      "Adjusting learning rate of group 0 to 2.5000e-03.\n",
      "Avg Train loss: 0.065832, Avg accuracy: 0.685378\n",
      "Avg loss: 0.164812, Avg evaluation accuracy: 0.70732527\n",
      "Adjusting learning rate of group 0 to 2.5000e-03.\n",
      "Avg Train loss: 0.133870, Avg accuracy: 0.683931\n",
      "Avg loss: 0.174140, Avg evaluation accuracy: 0.69648858\n",
      "Adjusting learning rate of group 0 to 2.5000e-03.\n",
      "Avg Train loss: 0.137156, Avg accuracy: 0.676022\n",
      "Avg loss: 0.170417, Avg evaluation accuracy: 0.62777218\n",
      "Adjusting learning rate of group 0 to 2.5000e-03.\n",
      "Avg Train loss: 0.108583, Avg accuracy: 0.682002\n",
      "Avg loss: 0.167160, Avg evaluation accuracy: 0.69867272\n",
      "Adjusting learning rate of group 0 to 2.5000e-03.\n",
      "Avg Train loss: 0.053946, Avg accuracy: 0.685282\n",
      "Avg loss: 0.173592, Avg evaluation accuracy: 0.67800739\n",
      "Adjusting learning rate of group 0 to 2.5000e-03.\n",
      "Avg Train loss: 0.108754, Avg accuracy: 0.687693\n",
      "Avg loss: 0.192599, Avg evaluation accuracy: 0.68859207\n",
      "Adjusting learning rate of group 0 to 2.5000e-03.\n",
      "Avg Train loss: 0.072795, Avg accuracy: 0.675637\n",
      "Avg loss: 0.168400, Avg evaluation accuracy: 0.70102487\n",
      "Adjusting learning rate of group 0 to 2.5000e-03.\n",
      "Avg Train loss: 0.103094, Avg accuracy: 0.686150\n",
      "Avg loss: 0.171244, Avg evaluation accuracy: 0.71228159\n",
      "Adjusting learning rate of group 0 to 2.5000e-03.\n",
      "Avg Train loss: 0.105986, Avg accuracy: 0.691262\n",
      "Avg loss: 0.175436, Avg evaluation accuracy: 0.66011425\n",
      "Adjusting learning rate of group 0 to 2.5000e-03.\n",
      "Avg Train loss: 0.122275, Avg accuracy: 0.694637\n",
      "Avg loss: 0.186456, Avg evaluation accuracy: 0.69648858\n",
      "Adjusting learning rate of group 0 to 2.5000e-03.\n",
      "Avg Train loss: 0.109933, Avg accuracy: 0.692033\n",
      "Avg loss: 0.176308, Avg evaluation accuracy: 0.71959005\n",
      "Adjusting learning rate of group 0 to 2.5000e-03.\n",
      "Avg Train loss: 0.085722, Avg accuracy: 0.679880\n",
      "Avg loss: 0.157075, Avg evaluation accuracy: 0.70455309\n",
      "Adjusting learning rate of group 0 to 2.5000e-03.\n",
      "Avg Train loss: 0.103055, Avg accuracy: 0.695312\n",
      "Avg loss: 0.174025, Avg evaluation accuracy: 0.69682460\n",
      "Adjusting learning rate of group 0 to 2.5000e-03.\n",
      "Avg Train loss: 0.069017, Avg accuracy: 0.699653\n",
      "Avg loss: 0.176060, Avg evaluation accuracy: 0.67540323\n",
      "Adjusting learning rate of group 0 to 2.5000e-03.\n",
      "Avg Train loss: 0.139165, Avg accuracy: 0.687307\n",
      "Avg loss: 0.175936, Avg evaluation accuracy: 0.67851142\n",
      "Adjusting learning rate of group 0 to 2.5000e-03.\n",
      "Avg Train loss: 0.050694, Avg accuracy: 0.679205\n",
      "Avg loss: 0.172153, Avg evaluation accuracy: 0.72790659\n",
      "Adjusting learning rate of group 0 to 2.5000e-03.\n",
      "Avg Train loss: 0.072127, Avg accuracy: 0.705343\n",
      "Avg loss: 0.157744, Avg evaluation accuracy: 0.73857527\n",
      "Adjusting learning rate of group 0 to 2.5000e-03.\n",
      "Avg Train loss: 0.108874, Avg accuracy: 0.690683\n",
      "Avg loss: 0.158194, Avg evaluation accuracy: 0.67531922\n",
      "Adjusting learning rate of group 0 to 2.5000e-03.\n",
      "Avg Train loss: 0.052302, Avg accuracy: 0.702643\n",
      "Avg loss: 0.159121, Avg evaluation accuracy: 0.74059140\n",
      "Adjusting learning rate of group 0 to 2.5000e-03.\n",
      "Avg Train loss: 0.036754, Avg accuracy: 0.707272\n",
      "Avg loss: 0.175680, Avg evaluation accuracy: 0.69892473\n",
      "Adjusting learning rate of group 0 to 2.5000e-03.\n",
      "Avg Train loss: 0.053890, Avg accuracy: 0.698978\n",
      "Avg loss: 0.156093, Avg evaluation accuracy: 0.75949261\n",
      "Adjusting learning rate of group 0 to 2.5000e-03.\n",
      "Avg Train loss: 0.118081, Avg accuracy: 0.693191\n",
      "Avg loss: 0.157295, Avg evaluation accuracy: 0.73000672\n",
      "Adjusting learning rate of group 0 to 2.5000e-03.\n",
      "Avg Train loss: 0.102157, Avg accuracy: 0.675829\n",
      "Avg loss: 0.191570, Avg evaluation accuracy: 0.69900874\n",
      "Adjusting learning rate of group 0 to 2.5000e-03.\n",
      "Avg Train loss: 0.108219, Avg accuracy: 0.705826\n",
      "Avg loss: 0.196519, Avg evaluation accuracy: 0.70178091\n",
      "Adjusting learning rate of group 0 to 2.5000e-03.\n",
      "Avg Train loss: 0.106701, Avg accuracy: 0.694348\n",
      "Avg loss: 0.170044, Avg evaluation accuracy: 0.74109543\n",
      "Adjusting learning rate of group 0 to 2.5000e-03.\n",
      "Avg Train loss: 0.075673, Avg accuracy: 0.700714\n",
      "Avg loss: 0.150103, Avg evaluation accuracy: 0.71950605\n",
      "Adjusting learning rate of group 0 to 2.5000e-03.\n",
      "Avg Train loss: 0.068337, Avg accuracy: 0.685475\n",
      "Avg loss: 0.185812, Avg evaluation accuracy: 0.62071573\n",
      "Adjusting learning rate of group 0 to 2.5000e-03.\n",
      "Avg Train loss: 0.087926, Avg accuracy: 0.692805\n",
      "Avg loss: 0.196038, Avg evaluation accuracy: 0.64129704\n",
      "Adjusting learning rate of group 0 to 2.5000e-03.\n",
      "Avg Train loss: 0.051547, Avg accuracy: 0.704958\n",
      "Avg loss: 0.183680, Avg evaluation accuracy: 0.72269825\n",
      "Adjusting learning rate of group 0 to 2.5000e-03.\n",
      "Avg Train loss: 0.057159, Avg accuracy: 0.700231\n",
      "Avg loss: 0.169087, Avg evaluation accuracy: 0.71446573\n",
      "Adjusting learning rate of group 0 to 2.5000e-03.\n",
      "Avg Train loss: 0.105927, Avg accuracy: 0.700039\n",
      "Avg loss: 0.168616, Avg evaluation accuracy: 0.74369960\n",
      "Adjusting learning rate of group 0 to 2.5000e-03.\n",
      "Avg Train loss: 0.035176, Avg accuracy: 0.707369\n",
      "Avg loss: 0.160702, Avg evaluation accuracy: 0.72505040\n",
      "Adjusting learning rate of group 0 to 2.5000e-03.\n",
      "Avg Train loss: 0.071538, Avg accuracy: 0.699942\n",
      "Avg loss: 0.185694, Avg evaluation accuracy: 0.73571909\n",
      "Adjusting learning rate of group 0 to 2.5000e-03.\n",
      "Avg Train loss: 0.049379, Avg accuracy: 0.719811\n",
      "Avg loss: 0.165294, Avg evaluation accuracy: 0.67044691\n",
      "Adjusting learning rate of group 0 to 2.5000e-03.\n",
      "Avg Train loss: 0.048384, Avg accuracy: 0.704958\n",
      "Avg loss: 0.164734, Avg evaluation accuracy: 0.72253024\n",
      "Adjusting learning rate of group 0 to 2.5000e-03.\n",
      "Avg Train loss: 0.100383, Avg accuracy: 0.707658\n",
      "Avg loss: 0.171315, Avg evaluation accuracy: 0.73303091\n",
      "Adjusting learning rate of group 0 to 2.5000e-03.\n",
      "Avg Train loss: 0.088138, Avg accuracy: 0.702353\n",
      "Avg loss: 0.166434, Avg evaluation accuracy: 0.69119624\n",
      "Adjusting learning rate of group 0 to 2.5000e-03.\n",
      "Avg Train loss: 0.076255, Avg accuracy: 0.706404\n",
      "Avg loss: 0.167547, Avg evaluation accuracy: 0.71471774\n",
      "Adjusting learning rate of group 0 to 2.5000e-03.\n",
      "Avg Train loss: 0.057584, Avg accuracy: 0.692033\n",
      "Avg loss: 0.171265, Avg evaluation accuracy: 0.74025538\n",
      "Adjusting learning rate of group 0 to 2.5000e-03.\n",
      "Avg Train loss: 0.207635, Avg accuracy: 0.709201\n",
      "Avg loss: 0.170839, Avg evaluation accuracy: 0.70656922\n",
      "Adjusting learning rate of group 0 to 2.5000e-03.\n",
      "Avg Train loss: 0.051559, Avg accuracy: 0.714796\n",
      "Avg loss: 0.180294, Avg evaluation accuracy: 0.74605175\n",
      "Adjusting learning rate of group 0 to 2.5000e-03.\n",
      "Avg Train loss: 0.051402, Avg accuracy: 0.704475\n",
      "Avg loss: 0.168580, Avg evaluation accuracy: 0.75369624\n",
      "Adjusting learning rate of group 0 to 2.5000e-03.\n",
      "Avg Train loss: 0.073682, Avg accuracy: 0.700328\n",
      "Avg loss: 0.164972, Avg evaluation accuracy: 0.73563508\n",
      "Adjusting learning rate of group 0 to 2.5000e-03.\n",
      "Avg Train loss: 0.092883, Avg accuracy: 0.699556\n",
      "Avg loss: 0.148881, Avg evaluation accuracy: 0.72001008\n",
      "Adjusting learning rate of group 0 to 2.5000e-03.\n",
      "Avg Train loss: 0.042205, Avg accuracy: 0.706211\n",
      "Avg loss: 0.171720, Avg evaluation accuracy: 0.71748992\n",
      "Adjusting learning rate of group 0 to 2.5000e-03.\n",
      "Avg Train loss: 0.108708, Avg accuracy: 0.706694\n",
      "Avg loss: 0.165211, Avg evaluation accuracy: 0.71774194\n",
      "Adjusting learning rate of group 0 to 2.5000e-03.\n",
      "Avg Train loss: 0.069140, Avg accuracy: 0.707658\n",
      "Avg loss: 0.181172, Avg evaluation accuracy: 0.71992608\n",
      "Adjusting learning rate of group 0 to 2.5000e-03.\n",
      "Avg Train loss: 0.087831, Avg accuracy: 0.701196\n",
      "Avg loss: 0.171200, Avg evaluation accuracy: 0.75646841\n",
      "Adjusting learning rate of group 0 to 1.2500e-03.\n",
      "Avg Train loss: 0.055245, Avg accuracy: 0.725984\n",
      "Avg loss: 0.146617, Avg evaluation accuracy: 0.77242944\n",
      "Adjusting learning rate of group 0 to 1.2500e-03.\n",
      "Avg Train loss: 0.069532, Avg accuracy: 0.730806\n",
      "Avg loss: 0.163651, Avg evaluation accuracy: 0.73840726\n",
      "Adjusting learning rate of group 0 to 1.2500e-03.\n",
      "Avg Train loss: 0.069665, Avg accuracy: 0.729745\n",
      "Avg loss: 0.158686, Avg evaluation accuracy: 0.73025874\n",
      "Adjusting learning rate of group 0 to 1.2500e-03.\n",
      "Avg Train loss: 0.031853, Avg accuracy: 0.723669\n",
      "Avg loss: 0.153934, Avg evaluation accuracy: 0.75932460\n",
      "Adjusting learning rate of group 0 to 1.2500e-03.\n",
      "Avg Train loss: 0.082765, Avg accuracy: 0.734664\n",
      "Avg loss: 0.173517, Avg evaluation accuracy: 0.75084005\n",
      "Adjusting learning rate of group 0 to 1.2500e-03.\n",
      "Avg Train loss: 0.047953, Avg accuracy: 0.732735\n",
      "Avg loss: 0.161830, Avg evaluation accuracy: 0.74395161\n",
      "Adjusting learning rate of group 0 to 1.2500e-03.\n",
      "Avg Train loss: 0.061111, Avg accuracy: 0.731481\n",
      "Avg loss: 0.158199, Avg evaluation accuracy: 0.73798723\n",
      "Adjusting learning rate of group 0 to 1.2500e-03.\n",
      "Avg Train loss: 0.072575, Avg accuracy: 0.725598\n",
      "Avg loss: 0.163227, Avg evaluation accuracy: 0.74596774\n",
      "Adjusting learning rate of group 0 to 1.2500e-03.\n",
      "Avg Train loss: 0.047727, Avg accuracy: 0.729552\n",
      "Avg loss: 0.170722, Avg evaluation accuracy: 0.72748656\n",
      "Adjusting learning rate of group 0 to 1.2500e-03.\n",
      "Avg Train loss: 0.089845, Avg accuracy: 0.729649\n",
      "Avg loss: 0.161992, Avg evaluation accuracy: 0.73571909\n",
      "Adjusting learning rate of group 0 to 1.2500e-03.\n",
      "Avg Train loss: 0.082856, Avg accuracy: 0.727431\n",
      "Avg loss: 0.160773, Avg evaluation accuracy: 0.67825941\n",
      "Adjusting learning rate of group 0 to 1.2500e-03.\n",
      "Avg Train loss: 0.049813, Avg accuracy: 0.732639\n",
      "Avg loss: 0.173038, Avg evaluation accuracy: 0.74361559\n",
      "Adjusting learning rate of group 0 to 1.2500e-03.\n",
      "Avg Train loss: 0.075187, Avg accuracy: 0.732832\n",
      "Avg loss: 0.190872, Avg evaluation accuracy: 0.69606855\n",
      "Adjusting learning rate of group 0 to 1.2500e-03.\n",
      "Avg Train loss: 0.105820, Avg accuracy: 0.731481\n",
      "Avg loss: 0.165956, Avg evaluation accuracy: 0.72782258\n",
      "Adjusting learning rate of group 0 to 1.2500e-03.\n",
      "Avg Train loss: 0.082983, Avg accuracy: 0.726177\n",
      "Avg loss: 0.173853, Avg evaluation accuracy: 0.74420363\n",
      "Adjusting learning rate of group 0 to 1.2500e-03.\n",
      "Avg Train loss: 0.080360, Avg accuracy: 0.738329\n",
      "Avg loss: 0.171952, Avg evaluation accuracy: 0.74075941\n",
      "Adjusting learning rate of group 0 to 1.2500e-03.\n",
      "Avg Train loss: 0.047445, Avg accuracy: 0.728106\n",
      "Avg loss: 0.167492, Avg evaluation accuracy: 0.74050739\n",
      "Adjusting learning rate of group 0 to 1.2500e-03.\n",
      "Avg Train loss: 0.064447, Avg accuracy: 0.737269\n",
      "Avg loss: 0.172323, Avg evaluation accuracy: 0.78251008\n",
      "Adjusting learning rate of group 0 to 1.2500e-03.\n",
      "Avg Train loss: 0.037486, Avg accuracy: 0.726562\n",
      "Avg loss: 0.180476, Avg evaluation accuracy: 0.75630040\n",
      "Adjusting learning rate of group 0 to 1.2500e-03.\n",
      "Avg Train loss: 0.056029, Avg accuracy: 0.736883\n",
      "Avg loss: 0.160497, Avg evaluation accuracy: 0.73815524\n",
      "Adjusting learning rate of group 0 to 1.2500e-03.\n",
      "Avg Train loss: 0.022123, Avg accuracy: 0.729938\n",
      "Avg loss: 0.170485, Avg evaluation accuracy: 0.72026210\n",
      "Adjusting learning rate of group 0 to 1.2500e-03.\n",
      "Avg Train loss: 0.061631, Avg accuracy: 0.732928\n",
      "Avg loss: 0.164574, Avg evaluation accuracy: 0.75613239\n",
      "Adjusting learning rate of group 0 to 1.2500e-03.\n",
      "Avg Train loss: 0.080769, Avg accuracy: 0.734857\n",
      "Avg loss: 0.168396, Avg evaluation accuracy: 0.71186156\n",
      "Adjusting learning rate of group 0 to 1.2500e-03.\n",
      "Avg Train loss: 0.031916, Avg accuracy: 0.731385\n",
      "Avg loss: 0.158346, Avg evaluation accuracy: 0.74882392\n",
      "Adjusting learning rate of group 0 to 1.2500e-03.\n",
      "Avg Train loss: 0.045951, Avg accuracy: 0.738040\n",
      "Avg loss: 0.151013, Avg evaluation accuracy: 0.73034274\n",
      "Adjusting learning rate of group 0 to 1.2500e-03.\n",
      "Avg Train loss: 0.049562, Avg accuracy: 0.727045\n",
      "Avg loss: 0.174820, Avg evaluation accuracy: 0.75848454\n",
      "Adjusting learning rate of group 0 to 1.2500e-03.\n",
      "Avg Train loss: 0.056167, Avg accuracy: 0.728395\n",
      "Avg loss: 0.167646, Avg evaluation accuracy: 0.74344758\n",
      "Adjusting learning rate of group 0 to 1.2500e-03.\n",
      "Avg Train loss: 0.057909, Avg accuracy: 0.729456\n",
      "Avg loss: 0.177126, Avg evaluation accuracy: 0.74084341\n",
      "Adjusting learning rate of group 0 to 1.2500e-03.\n",
      "Avg Train loss: 0.121660, Avg accuracy: 0.740934\n",
      "Avg loss: 0.149934, Avg evaluation accuracy: 0.73798723\n",
      "Adjusting learning rate of group 0 to 1.2500e-03.\n",
      "Avg Train loss: 0.048689, Avg accuracy: 0.726466\n",
      "Avg loss: 0.155602, Avg evaluation accuracy: 0.74344758\n",
      "Adjusting learning rate of group 0 to 1.2500e-03.\n",
      "Avg Train loss: 0.029875, Avg accuracy: 0.736497\n",
      "Avg loss: 0.163133, Avg evaluation accuracy: 0.73546707\n",
      "Adjusting learning rate of group 0 to 1.2500e-03.\n",
      "Avg Train loss: 0.086387, Avg accuracy: 0.723476\n",
      "Avg loss: 0.165154, Avg evaluation accuracy: 0.74033938\n",
      "Adjusting learning rate of group 0 to 1.2500e-03.\n",
      "Avg Train loss: 0.058986, Avg accuracy: 0.731674\n",
      "Avg loss: 0.151264, Avg evaluation accuracy: 0.75403226\n",
      "Adjusting learning rate of group 0 to 1.2500e-03.\n",
      "Avg Train loss: 0.056766, Avg accuracy: 0.736786\n",
      "Avg loss: 0.159574, Avg evaluation accuracy: 0.75142809\n",
      "Adjusting learning rate of group 0 to 1.2500e-03.\n",
      "Avg Train loss: 0.039812, Avg accuracy: 0.729263\n",
      "Avg loss: 0.175463, Avg evaluation accuracy: 0.74621976\n",
      "Adjusting learning rate of group 0 to 1.2500e-03.\n",
      "Avg Train loss: 0.088123, Avg accuracy: 0.721258\n",
      "Avg loss: 0.185353, Avg evaluation accuracy: 0.71496976\n",
      "Adjusting learning rate of group 0 to 1.2500e-03.\n",
      "Avg Train loss: 0.054725, Avg accuracy: 0.734471\n",
      "Avg loss: 0.182189, Avg evaluation accuracy: 0.69128024\n",
      "Adjusting learning rate of group 0 to 1.2500e-03.\n",
      "Avg Train loss: 0.039470, Avg accuracy: 0.736111\n",
      "Avg loss: 0.170853, Avg evaluation accuracy: 0.73345094\n",
      "Adjusting learning rate of group 0 to 1.2500e-03.\n",
      "Avg Train loss: 0.057410, Avg accuracy: 0.734568\n",
      "Avg loss: 0.163750, Avg evaluation accuracy: 0.72773858\n",
      "Adjusting learning rate of group 0 to 1.2500e-03.\n",
      "Avg Train loss: 0.068626, Avg accuracy: 0.724826\n",
      "Avg loss: 0.168893, Avg evaluation accuracy: 0.74353159\n",
      "Adjusting learning rate of group 0 to 1.2500e-03.\n",
      "Avg Train loss: 0.067338, Avg accuracy: 0.737365\n",
      "Avg loss: 0.163179, Avg evaluation accuracy: 0.72295027\n",
      "Adjusting learning rate of group 0 to 1.2500e-03.\n",
      "Avg Train loss: 0.036538, Avg accuracy: 0.737751\n",
      "Avg loss: 0.164842, Avg evaluation accuracy: 0.74571573\n",
      "Adjusting learning rate of group 0 to 1.2500e-03.\n",
      "Avg Train loss: 0.053514, Avg accuracy: 0.733121\n",
      "Avg loss: 0.178220, Avg evaluation accuracy: 0.75394825\n",
      "Adjusting learning rate of group 0 to 1.2500e-03.\n",
      "Avg Train loss: 0.044516, Avg accuracy: 0.718171\n",
      "Avg loss: 0.158027, Avg evaluation accuracy: 0.75411626\n",
      "Adjusting learning rate of group 0 to 1.2500e-03.\n",
      "Avg Train loss: 0.041656, Avg accuracy: 0.727141\n",
      "Avg loss: 0.166112, Avg evaluation accuracy: 0.74621976\n",
      "Adjusting learning rate of group 0 to 1.2500e-03.\n",
      "Avg Train loss: 0.059519, Avg accuracy: 0.728202\n",
      "Avg loss: 0.174282, Avg evaluation accuracy: 0.74344758\n",
      "Adjusting learning rate of group 0 to 1.2500e-03.\n",
      "Avg Train loss: 0.056125, Avg accuracy: 0.717014\n",
      "Avg loss: 0.160854, Avg evaluation accuracy: 0.71228159\n",
      "Adjusting learning rate of group 0 to 1.2500e-03.\n",
      "Avg Train loss: 0.063119, Avg accuracy: 0.735340\n",
      "Avg loss: 0.164478, Avg evaluation accuracy: 0.76159274\n",
      "Adjusting learning rate of group 0 to 1.2500e-03.\n",
      "Avg Train loss: 0.059168, Avg accuracy: 0.733796\n",
      "Avg loss: 0.161360, Avg evaluation accuracy: 0.75957661\n",
      "Adjusting learning rate of group 0 to 1.2500e-03.\n",
      "Avg Train loss: 0.061948, Avg accuracy: 0.741030\n",
      "Avg loss: 0.157798, Avg evaluation accuracy: 0.74596774\n",
      "Adjusting learning rate of group 0 to 6.2500e-04.\n",
      "Avg Train loss: 0.054537, Avg accuracy: 0.749228\n",
      "Avg loss: 0.151716, Avg evaluation accuracy: 0.72807460\n",
      "Adjusting learning rate of group 0 to 6.2500e-04.\n",
      "Avg Train loss: 0.055792, Avg accuracy: 0.740644\n",
      "Avg loss: 0.155623, Avg evaluation accuracy: 0.74361559\n",
      "Adjusting learning rate of group 0 to 6.2500e-04.\n",
      "Avg Train loss: 0.047889, Avg accuracy: 0.741416\n",
      "Avg loss: 0.160354, Avg evaluation accuracy: 0.74848790\n",
      "Adjusting learning rate of group 0 to 6.2500e-04.\n",
      "Avg Train loss: 0.073743, Avg accuracy: 0.746046\n",
      "Avg loss: 0.159230, Avg evaluation accuracy: 0.74865591\n",
      "Adjusting learning rate of group 0 to 6.2500e-04.\n",
      "Avg Train loss: 0.045743, Avg accuracy: 0.745949\n",
      "Avg loss: 0.165835, Avg evaluation accuracy: 0.75142809\n",
      "Adjusting learning rate of group 0 to 6.2500e-04.\n",
      "Avg Train loss: 0.046749, Avg accuracy: 0.747396\n",
      "Avg loss: 0.159353, Avg evaluation accuracy: 0.75386425\n",
      "Adjusting learning rate of group 0 to 6.2500e-04.\n",
      "Avg Train loss: 0.096202, Avg accuracy: 0.744792\n",
      "Avg loss: 0.159700, Avg evaluation accuracy: 0.74319556\n",
      "Adjusting learning rate of group 0 to 6.2500e-04.\n",
      "Avg Train loss: 0.061913, Avg accuracy: 0.743248\n",
      "Avg loss: 0.160655, Avg evaluation accuracy: 0.75428427\n",
      "Adjusting learning rate of group 0 to 6.2500e-04.\n",
      "Avg Train loss: 0.036221, Avg accuracy: 0.750482\n",
      "Avg loss: 0.164371, Avg evaluation accuracy: 0.72731855\n",
      "Adjusting learning rate of group 0 to 6.2500e-04.\n",
      "Avg Train loss: 0.064614, Avg accuracy: 0.745177\n",
      "Avg loss: 0.160118, Avg evaluation accuracy: 0.74798387\n",
      "Adjusting learning rate of group 0 to 6.2500e-04.\n",
      "Avg Train loss: 0.045321, Avg accuracy: 0.746142\n",
      "Avg loss: 0.162728, Avg evaluation accuracy: 0.72479839\n",
      "Adjusting learning rate of group 0 to 6.2500e-04.\n",
      "Avg Train loss: 0.035574, Avg accuracy: 0.739005\n",
      "Avg loss: 0.168693, Avg evaluation accuracy: 0.73244288\n",
      "Adjusting learning rate of group 0 to 6.2500e-04.\n",
      "Avg Train loss: 0.056986, Avg accuracy: 0.743924\n",
      "Avg loss: 0.161768, Avg evaluation accuracy: 0.71446573\n",
      "Adjusting learning rate of group 0 to 6.2500e-04.\n",
      "Avg Train loss: 0.054829, Avg accuracy: 0.741127\n",
      "Avg loss: 0.168904, Avg evaluation accuracy: 0.73840726\n",
      "Adjusting learning rate of group 0 to 6.2500e-04.\n",
      "Avg Train loss: 0.029917, Avg accuracy: 0.741512\n",
      "Avg loss: 0.160832, Avg evaluation accuracy: 0.75386425\n",
      "Adjusting learning rate of group 0 to 6.2500e-04.\n",
      "Avg Train loss: 0.075648, Avg accuracy: 0.744117\n",
      "Avg loss: 0.170598, Avg evaluation accuracy: 0.73303091\n",
      "Adjusting learning rate of group 0 to 6.2500e-04.\n",
      "Avg Train loss: 0.030653, Avg accuracy: 0.745949\n",
      "Avg loss: 0.167294, Avg evaluation accuracy: 0.74621976\n",
      "Adjusting learning rate of group 0 to 6.2500e-04.\n",
      "Avg Train loss: 0.039593, Avg accuracy: 0.751640\n",
      "Avg loss: 0.175068, Avg evaluation accuracy: 0.75932460\n",
      "Adjusting learning rate of group 0 to 6.2500e-04.\n",
      "Avg Train loss: 0.061820, Avg accuracy: 0.738040\n",
      "Avg loss: 0.169731, Avg evaluation accuracy: 0.72463038\n",
      "Adjusting learning rate of group 0 to 6.2500e-04.\n",
      "Avg Train loss: 0.070364, Avg accuracy: 0.744020\n",
      "Avg loss: 0.167201, Avg evaluation accuracy: 0.75126008\n",
      "Adjusting learning rate of group 0 to 6.2500e-04.\n",
      "Avg Train loss: 0.043941, Avg accuracy: 0.746914\n",
      "Avg loss: 0.169217, Avg evaluation accuracy: 0.75428427\n",
      "Adjusting learning rate of group 0 to 6.2500e-04.\n",
      "Avg Train loss: 0.035188, Avg accuracy: 0.751447\n",
      "Avg loss: 0.179191, Avg evaluation accuracy: 0.72219422\n",
      "Adjusting learning rate of group 0 to 6.2500e-04.\n",
      "Avg Train loss: 0.046960, Avg accuracy: 0.746528\n",
      "Avg loss: 0.169930, Avg evaluation accuracy: 0.71194556\n",
      "Adjusting learning rate of group 0 to 6.2500e-04.\n",
      "Avg Train loss: 0.031473, Avg accuracy: 0.740355\n",
      "Avg loss: 0.157161, Avg evaluation accuracy: 0.74857191\n",
      "Adjusting learning rate of group 0 to 6.2500e-04.\n",
      "Avg Train loss: 0.095431, Avg accuracy: 0.740258\n",
      "Avg loss: 0.170066, Avg evaluation accuracy: 0.72227823\n",
      "Adjusting learning rate of group 0 to 6.2500e-04.\n",
      "Avg Train loss: 0.036645, Avg accuracy: 0.742188\n",
      "Avg loss: 0.170611, Avg evaluation accuracy: 0.74109543\n",
      "Adjusting learning rate of group 0 to 6.2500e-04.\n",
      "Avg Train loss: 0.071067, Avg accuracy: 0.752025\n",
      "Avg loss: 0.165562, Avg evaluation accuracy: 0.74059140\n",
      "Adjusting learning rate of group 0 to 6.2500e-04.\n",
      "Avg Train loss: 0.040068, Avg accuracy: 0.737944\n",
      "Avg loss: 0.162934, Avg evaluation accuracy: 0.72521841\n",
      "Adjusting learning rate of group 0 to 6.2500e-04.\n",
      "Avg Train loss: 0.029487, Avg accuracy: 0.742091\n",
      "Avg loss: 0.165060, Avg evaluation accuracy: 0.75075605\n",
      "Adjusting learning rate of group 0 to 6.2500e-04.\n",
      "Avg Train loss: 0.066642, Avg accuracy: 0.743152\n",
      "Avg loss: 0.169235, Avg evaluation accuracy: 0.73555108\n",
      "Adjusting learning rate of group 0 to 6.2500e-04.\n",
      "Avg Train loss: 0.061145, Avg accuracy: 0.748650\n",
      "Avg loss: 0.160163, Avg evaluation accuracy: 0.71715390\n",
      "Adjusting learning rate of group 0 to 6.2500e-04.\n",
      "Avg Train loss: 0.062994, Avg accuracy: 0.750868\n",
      "Avg loss: 0.164955, Avg evaluation accuracy: 0.75100806\n",
      "Adjusting learning rate of group 0 to 6.2500e-04.\n",
      "Avg Train loss: 0.051236, Avg accuracy: 0.743248\n",
      "Avg loss: 0.168069, Avg evaluation accuracy: 0.70715726\n",
      "Adjusting learning rate of group 0 to 6.2500e-04.\n",
      "Avg Train loss: 0.114321, Avg accuracy: 0.744117\n",
      "Avg loss: 0.174284, Avg evaluation accuracy: 0.73832325\n",
      "Adjusting learning rate of group 0 to 6.2500e-04.\n",
      "Avg Train loss: 0.112973, Avg accuracy: 0.742670\n",
      "Avg loss: 0.171129, Avg evaluation accuracy: 0.73563508\n",
      "Adjusting learning rate of group 0 to 6.2500e-04.\n",
      "Avg Train loss: 0.052809, Avg accuracy: 0.742573\n",
      "Avg loss: 0.167708, Avg evaluation accuracy: 0.73563508\n",
      "Adjusting learning rate of group 0 to 6.2500e-04.\n",
      "Avg Train loss: 0.070762, Avg accuracy: 0.744792\n",
      "Avg loss: 0.161904, Avg evaluation accuracy: 0.73597110\n",
      "Adjusting learning rate of group 0 to 6.2500e-04.\n",
      "Avg Train loss: 0.095536, Avg accuracy: 0.741223\n",
      "Avg loss: 0.172437, Avg evaluation accuracy: 0.70404906\n",
      "Adjusting learning rate of group 0 to 6.2500e-04.\n",
      "Avg Train loss: 0.057328, Avg accuracy: 0.748553\n",
      "Avg loss: 0.165051, Avg evaluation accuracy: 0.73571909\n",
      "Adjusting learning rate of group 0 to 6.2500e-04.\n",
      "Avg Train loss: 0.067024, Avg accuracy: 0.749132\n",
      "Avg loss: 0.173766, Avg evaluation accuracy: 0.73513105\n",
      "Adjusting learning rate of group 0 to 6.2500e-04.\n",
      "Avg Train loss: 0.049066, Avg accuracy: 0.756269\n",
      "Avg loss: 0.166705, Avg evaluation accuracy: 0.74605175\n",
      "Adjusting learning rate of group 0 to 6.2500e-04.\n",
      "Avg Train loss: 0.076912, Avg accuracy: 0.744020\n",
      "Avg loss: 0.169188, Avg evaluation accuracy: 0.76419691\n",
      "Adjusting learning rate of group 0 to 6.2500e-04.\n",
      "Avg Train loss: 0.043276, Avg accuracy: 0.744888\n",
      "Avg loss: 0.177166, Avg evaluation accuracy: 0.73051075\n",
      "Adjusting learning rate of group 0 to 6.2500e-04.\n",
      "Avg Train loss: 0.088762, Avg accuracy: 0.736883\n",
      "Avg loss: 0.172281, Avg evaluation accuracy: 0.74857191\n",
      "Adjusting learning rate of group 0 to 6.2500e-04.\n",
      "Avg Train loss: 0.056001, Avg accuracy: 0.745949\n",
      "Avg loss: 0.163797, Avg evaluation accuracy: 0.70421707\n",
      "Adjusting learning rate of group 0 to 6.2500e-04.\n",
      "Avg Train loss: 0.054283, Avg accuracy: 0.745467\n",
      "Avg loss: 0.164309, Avg evaluation accuracy: 0.73269489\n",
      "Adjusting learning rate of group 0 to 6.2500e-04.\n",
      "Avg Train loss: 0.071541, Avg accuracy: 0.750482\n",
      "Avg loss: 0.169368, Avg evaluation accuracy: 0.72731855\n",
      "Adjusting learning rate of group 0 to 6.2500e-04.\n",
      "Avg Train loss: 0.046544, Avg accuracy: 0.745563\n",
      "Avg loss: 0.164244, Avg evaluation accuracy: 0.72521841\n",
      "Adjusting learning rate of group 0 to 6.2500e-04.\n",
      "Avg Train loss: 0.047475, Avg accuracy: 0.752701\n",
      "Avg loss: 0.162799, Avg evaluation accuracy: 0.71194556\n",
      "Adjusting learning rate of group 0 to 6.2500e-04.\n",
      "Avg Train loss: 0.051602, Avg accuracy: 0.742477\n",
      "Avg loss: 0.169717, Avg evaluation accuracy: 0.74092742\n",
      "Adjusting learning rate of group 0 to 3.1250e-04.\n"
     ]
    }
   ],
   "source": [
    "train_loss = list()\n",
    "train_acc = list()\n",
    "valid_loss = list()\n",
    "valid_acc = list()\n",
    "\n",
    "best_val_loss = float('inf')\n",
    "with TemporaryDirectory() as tempdir:\n",
    "    best_model_params_path = os.path.join(tempdir, \"best_model_params.pt\")\n",
    "    for e in range(EPOCH):\n",
    "        c_train_loss, c_train_acc = trainer(train_set, model, optimizer, loss_fn)\n",
    "        train_loss.append(c_train_loss)\n",
    "        train_acc.append(c_train_acc)\n",
    "        c_valid_loss, c_valid_acc = evaluator(valid_set, model, loss_fn)\n",
    "        valid_loss.append(c_valid_loss)\n",
    "        valid_acc.append(c_valid_acc)\n",
    "        scheduler.step()\n",
    "        if c_valid_loss < best_val_loss:\n",
    "            best_val_loss = c_valid_loss\n",
    "            torch.save(model.state_dict(), best_model_params_path)\n",
    "    model.load_state_dict(torch.load(best_model_params_path))\n",
    "output_df = pd.DataFrame({'train loss': train_loss,\n",
    "                          'valid loss': valid_loss,\n",
    "                          'train avg accuracy': train_acc,\n",
    "                          'valid avg accuracy': valid_acc})"
   ],
   "metadata": {
    "collapsed": false,
    "ExecuteTime": {
     "start_time": "2023-04-09T16:37:56.920137Z",
     "end_time": "2023-04-09T16:38:49.827509Z"
    }
   }
  },
  {
   "cell_type": "code",
   "execution_count": 26,
   "outputs": [
    {
     "data": {
      "text/plain": "<AxesSubplot: title={'center': 'accuracy'}>"
     },
     "execution_count": 26,
     "metadata": {},
     "output_type": "execute_result"
    },
    {
     "data": {
      "text/plain": "<Figure size 640x480 with 1 Axes>",
      "image/png": "[encoded data removed]"
     },
     "metadata": {},
     "output_type": "display_data"
    },
    {
     "data": {
      "text/plain": "<Figure size 640x480 with 1 Axes>",
      "image/png": "[encoded data removed]"
     },
     "metadata": {},
     "output_type": "display_data"
    }
   ],
   "source": [
    "output_df[['train loss', 'valid loss']].plot(legend=True, title='loss')\n",
    "output_df[['train avg accuracy', 'valid avg accuracy']].plot( legend=True, title='accuracy')\n"
   ],
   "metadata": {
    "collapsed": false,
    "ExecuteTime": {
     "start_time": "2023-04-09T16:38:49.827653Z",
     "end_time": "2023-04-09T16:38:50.256964Z"
    }
   }
  },
  {
   "cell_type": "code",
   "execution_count": 27,
   "outputs": [
    {
     "data": {
      "text/plain": "train loss    0.071717\nvalid loss    0.146617\ndtype: float64"
     },
     "execution_count": 27,
     "metadata": {},
     "output_type": "execute_result"
    }
   ],
   "source": [
    "output_df[['train loss', 'valid loss']].min(axis=0)"
   ],
   "metadata": {
    "collapsed": false,
    "ExecuteTime": {
     "start_time": "2023-04-09T16:38:50.243917Z",
     "end_time": "2023-04-09T16:38:50.257211Z"
    }
   }
  },
  {
   "cell_type": "code",
   "execution_count": 28,
   "outputs": [
    {
     "data": {
      "text/plain": "train avg accuracy    0.756269\nvalid avg accuracy    0.782510\ndtype: float64"
     },
     "execution_count": 28,
     "metadata": {},
     "output_type": "execute_result"
    }
   ],
   "source": [
    "output_df[['train avg accuracy', 'valid avg accuracy']].max(axis=0)"
   ],
   "metadata": {
    "collapsed": false,
    "ExecuteTime": {
     "start_time": "2023-04-09T16:38:50.247541Z",
     "end_time": "2023-04-09T16:38:50.257323Z"
    }
   }
  },
  {
   "cell_type": "markdown",
   "source": [
    "predict"
   ],
   "metadata": {
    "collapsed": false
   }
  },
  {
   "cell_type": "code",
   "execution_count": 206,
   "outputs": [
    {
     "data": {
      "text/plain": "Index(['number of rooms', 'security level of the community', 'residence space',\n       'building space', 'noise level', 'waterfront', 'view',\n       'air quality level', 'aboveground space ', 'basement space',\n       'building year', 'exchange rate', 'LAT', 'LNG', 'timestamp',\n       'transaction year', 'transaction month', 'transaction day',\n       'filled decoration year', 'total cost'],\n      dtype='object')"
     },
     "execution_count": 206,
     "metadata": {},
     "output_type": "execute_result"
    }
   ],
   "source": [
    "df_test = pd.read_csv('data/Test_Data_Converted&Dropped.csv')\n",
    "df_test.columns"
   ],
   "metadata": {
    "collapsed": false,
    "ExecuteTime": {
     "start_time": "2023-04-09T18:07:01.914164Z",
     "end_time": "2023-04-09T18:07:01.952862Z"
    }
   }
  },
  {
   "cell_type": "code",
   "execution_count": 207,
   "outputs": [
    {
     "data": {
      "text/plain": "   number of rooms  security level of the community  residence space  \\\n0                4                              2.5             2920   \n1                2                              1.0              800   \n2                2                              1.0              880   \n3                5                              2.5             3650   \n4                2                              1.0              900   \n\n   building space  noise level  waterfront  view  air quality level  \\\n0            4000          1.5           0     0                  5   \n1            4850          1.0           0     0                  4   \n2            6380          1.0           0     0                  3   \n3            9050          2.0           0     4                  5   \n4            5000          1.0           0     0                  3   \n\n   aboveground space   basement space  building year  exchange rate  \\\n0                1910            1010           1909       6.711048   \n1                 800               0           1944       6.645782   \n2                 880               0           1938       6.224348   \n3                3370             280           1921       6.668946   \n4                 900               0           1944       7.244343   \n\n         LAT         LNG   timestamp  transaction year  transaction month  \\\n0  47.659861 -122.284977  1398988800              2014                  5   \n1  47.667527 -122.377551  1398988800              2014                  5   \n2  47.685746 -122.281589  1398988800              2014                  5   \n3  47.638679 -122.370946  1398988800              2014                  5   \n4  47.687761 -122.384870  1399075200              2014                  5   \n\n   transaction day  filled decoration year  total cost  \n0                2                    1988         NaN  \n1                2                    1944         NaN  \n2                2                    1994         NaN  \n3                2                    1921         NaN  \n4                3                    1944         NaN  ",
      "text/html": "<div>\n<style scoped>\n    .dataframe tbody tr th:only-of-type {\n        vertical-align: middle;\n    }\n\n    .dataframe tbody tr th {\n        vertical-align: top;\n    }\n\n    .dataframe thead th {\n        text-align: right;\n    }\n</style>\n<table border=\"1\" class=\"dataframe\">\n  <thead>\n    <tr style=\"text-align: right;\">\n      <th></th>\n      <th>number of rooms</th>\n      <th>security level of the community</th>\n      <th>residence space</th>\n      <th>building space</th>\n      <th>noise level</th>\n      <th>waterfront</th>\n      <th>view</th>\n      <th>air quality level</th>\n      <th>aboveground space</th>\n      <th>basement space</th>\n      <th>building year</th>\n      <th>exchange rate</th>\n      <th>LAT</th>\n      <th>LNG</th>\n      <th>timestamp</th>\n      <th>transaction year</th>\n      <th>transaction month</th>\n      <th>transaction day</th>\n      <th>filled decoration year</th>\n      <th>total cost</th>\n    </tr>\n  </thead>\n  <tbody>\n    <tr>\n      <th>0</th>\n      <td>4</td>\n      <td>2.5</td>\n      <td>2920</td>\n      <td>4000</td>\n      <td>1.5</td>\n      <td>0</td>\n      <td>0</td>\n      <td>5</td>\n      <td>1910</td>\n      <td>1010</td>\n      <td>1909</td>\n      <td>6.711048</td>\n      <td>47.659861</td>\n      <td>-122.284977</td>\n      <td>1398988800</td>\n      <td>2014</td>\n      <td>5</td>\n      <td>2</td>\n      <td>1988</td>\n      <td>NaN</td>\n    </tr>\n    <tr>\n      <th>1</th>\n      <td>2</td>\n      <td>1.0</td>\n      <td>800</td>\n      <td>4850</td>\n      <td>1.0</td>\n      <td>0</td>\n      <td>0</td>\n      <td>4</td>\n      <td>800</td>\n      <td>0</td>\n      <td>1944</td>\n      <td>6.645782</td>\n      <td>47.667527</td>\n      <td>-122.377551</td>\n      <td>1398988800</td>\n      <td>2014</td>\n      <td>5</td>\n      <td>2</td>\n      <td>1944</td>\n      <td>NaN</td>\n    </tr>\n    <tr>\n      <th>2</th>\n      <td>2</td>\n      <td>1.0</td>\n      <td>880</td>\n      <td>6380</td>\n      <td>1.0</td>\n      <td>0</td>\n      <td>0</td>\n      <td>3</td>\n      <td>880</td>\n      <td>0</td>\n      <td>1938</td>\n      <td>6.224348</td>\n      <td>47.685746</td>\n      <td>-122.281589</td>\n      <td>1398988800</td>\n      <td>2014</td>\n      <td>5</td>\n      <td>2</td>\n      <td>1994</td>\n      <td>NaN</td>\n    </tr>\n    <tr>\n      <th>3</th>\n      <td>5</td>\n      <td>2.5</td>\n      <td>3650</td>\n      <td>9050</td>\n      <td>2.0</td>\n      <td>0</td>\n      <td>4</td>\n      <td>5</td>\n      <td>3370</td>\n      <td>280</td>\n      <td>1921</td>\n      <td>6.668946</td>\n      <td>47.638679</td>\n      <td>-122.370946</td>\n      <td>1398988800</td>\n      <td>2014</td>\n      <td>5</td>\n      <td>2</td>\n      <td>1921</td>\n      <td>NaN</td>\n    </tr>\n    <tr>\n      <th>4</th>\n      <td>2</td>\n      <td>1.0</td>\n      <td>900</td>\n      <td>5000</td>\n      <td>1.0</td>\n      <td>0</td>\n      <td>0</td>\n      <td>3</td>\n      <td>900</td>\n      <td>0</td>\n      <td>1944</td>\n      <td>7.244343</td>\n      <td>47.687761</td>\n      <td>-122.384870</td>\n      <td>1399075200</td>\n      <td>2014</td>\n      <td>5</td>\n      <td>3</td>\n      <td>1944</td>\n      <td>NaN</td>\n    </tr>\n  </tbody>\n</table>\n</div>"
     },
     "execution_count": 207,
     "metadata": {},
     "output_type": "execute_result"
    }
   ],
   "source": [
    "df_test.head()"
   ],
   "metadata": {
    "collapsed": false,
    "ExecuteTime": {
     "start_time": "2023-04-09T18:07:01.919846Z",
     "end_time": "2023-04-09T18:07:01.953782Z"
    }
   }
  },
  {
   "cell_type": "code",
   "execution_count": 208,
   "outputs": [
    {
     "data": {
      "text/plain": "   number of rooms  security level of the community  residence space  \\\n0         0.444444                           0.3125         0.189931   \n1         0.222222                           0.1250         0.028223   \n2         0.222222                           0.1250         0.034325   \n3         0.555556                           0.3125         0.245614   \n4         0.222222                           0.1250         0.035850   \n\n   building space  noise level  waterfront  view  air quality level  \\\n0        0.010596          0.2         0.0   0.0               1.00   \n1        0.013365          0.0         0.0   0.0               0.75   \n2        0.018348          0.0         0.0   0.0               0.50   \n3        0.027045          0.4         0.0   1.0               1.00   \n4        0.013853          0.0         0.0   0.0               0.50   \n\n   aboveground space   basement space  building year  exchange rate       LAT  \\\n0            0.164811        0.244552       0.078947       0.355326  0.814619   \n1            0.041203        0.000000       0.385965       0.322676  0.828700   \n2            0.050111        0.000000       0.333333       0.111851  0.862165   \n3            0.327394        0.067797       0.184211       0.334264  0.775711   \n4            0.052339        0.000000       0.385965       0.622109  0.865867   \n\n        LNG  timestamp  transaction year  transaction month  transaction day  \\\n0  0.157672   0.000000               0.0                0.0         0.033333   \n1  0.080174   0.000000               0.0                0.0         0.033333   \n2  0.160508   0.000000               0.0                0.0         0.033333   \n3  0.085704   0.000000               0.0                0.0         0.033333   \n4  0.074047   0.014493               0.0                0.0         0.066667   \n\n   filled decoration year  total cost  \n0                0.769912         NaN  \n1                0.380531         NaN  \n2                0.823009         NaN  \n3                0.176991         NaN  \n4                0.380531         NaN  ",
      "text/html": "<div>\n<style scoped>\n    .dataframe tbody tr th:only-of-type {\n        vertical-align: middle;\n    }\n\n    .dataframe tbody tr th {\n        vertical-align: top;\n    }\n\n    .dataframe thead th {\n        text-align: right;\n    }\n</style>\n<table border=\"1\" class=\"dataframe\">\n  <thead>\n    <tr style=\"text-align: right;\">\n      <th></th>\n      <th>number of rooms</th>\n      <th>security level of the community</th>\n      <th>residence space</th>\n      <th>building space</th>\n      <th>noise level</th>\n      <th>waterfront</th>\n      <th>view</th>\n      <th>air quality level</th>\n      <th>aboveground space</th>\n      <th>basement space</th>\n      <th>building year</th>\n      <th>exchange rate</th>\n      <th>LAT</th>\n      <th>LNG</th>\n      <th>timestamp</th>\n      <th>transaction year</th>\n      <th>transaction month</th>\n      <th>transaction day</th>\n      <th>filled decoration year</th>\n      <th>total cost</th>\n    </tr>\n  </thead>\n  <tbody>\n    <tr>\n      <th>0</th>\n      <td>0.444444</td>\n      <td>0.3125</td>\n      <td>0.189931</td>\n      <td>0.010596</td>\n      <td>0.2</td>\n      <td>0.0</td>\n      <td>0.0</td>\n      <td>1.00</td>\n      <td>0.164811</td>\n      <td>0.244552</td>\n      <td>0.078947</td>\n      <td>0.355326</td>\n      <td>0.814619</td>\n      <td>0.157672</td>\n      <td>0.000000</td>\n      <td>0.0</td>\n      <td>0.0</td>\n      <td>0.033333</td>\n      <td>0.769912</td>\n      <td>NaN</td>\n    </tr>\n    <tr>\n      <th>1</th>\n      <td>0.222222</td>\n      <td>0.1250</td>\n      <td>0.028223</td>\n      <td>0.013365</td>\n      <td>0.0</td>\n      <td>0.0</td>\n      <td>0.0</td>\n      <td>0.75</td>\n      <td>0.041203</td>\n      <td>0.000000</td>\n      <td>0.385965</td>\n      <td>0.322676</td>\n      <td>0.828700</td>\n      <td>0.080174</td>\n      <td>0.000000</td>\n      <td>0.0</td>\n      <td>0.0</td>\n      <td>0.033333</td>\n      <td>0.380531</td>\n      <td>NaN</td>\n    </tr>\n    <tr>\n      <th>2</th>\n      <td>0.222222</td>\n      <td>0.1250</td>\n      <td>0.034325</td>\n      <td>0.018348</td>\n      <td>0.0</td>\n      <td>0.0</td>\n      <td>0.0</td>\n      <td>0.50</td>\n      <td>0.050111</td>\n      <td>0.000000</td>\n      <td>0.333333</td>\n      <td>0.111851</td>\n      <td>0.862165</td>\n      <td>0.160508</td>\n      <td>0.000000</td>\n      <td>0.0</td>\n      <td>0.0</td>\n      <td>0.033333</td>\n      <td>0.823009</td>\n      <td>NaN</td>\n    </tr>\n    <tr>\n      <th>3</th>\n      <td>0.555556</td>\n      <td>0.3125</td>\n      <td>0.245614</td>\n      <td>0.027045</td>\n      <td>0.4</td>\n      <td>0.0</td>\n      <td>1.0</td>\n      <td>1.00</td>\n      <td>0.327394</td>\n      <td>0.067797</td>\n      <td>0.184211</td>\n      <td>0.334264</td>\n      <td>0.775711</td>\n      <td>0.085704</td>\n      <td>0.000000</td>\n      <td>0.0</td>\n      <td>0.0</td>\n      <td>0.033333</td>\n      <td>0.176991</td>\n      <td>NaN</td>\n    </tr>\n    <tr>\n      <th>4</th>\n      <td>0.222222</td>\n      <td>0.1250</td>\n      <td>0.035850</td>\n      <td>0.013853</td>\n      <td>0.0</td>\n      <td>0.0</td>\n      <td>0.0</td>\n      <td>0.50</td>\n      <td>0.052339</td>\n      <td>0.000000</td>\n      <td>0.385965</td>\n      <td>0.622109</td>\n      <td>0.865867</td>\n      <td>0.074047</td>\n      <td>0.014493</td>\n      <td>0.0</td>\n      <td>0.0</td>\n      <td>0.066667</td>\n      <td>0.380531</td>\n      <td>NaN</td>\n    </tr>\n  </tbody>\n</table>\n</div>"
     },
     "execution_count": 208,
     "metadata": {},
     "output_type": "execute_result"
    }
   ],
   "source": [
    "df_test_rescaled = pd.concat([\n",
    "    pd.DataFrame(attributes_scaler.transform(df_test.drop(['total cost'], axis=1))),\n",
    "    df_test['total cost']]\n",
    ",axis=1)\n",
    "df_test_rescaled.columns = df_test.columns\n",
    "df_test_rescaled.head()"
   ],
   "metadata": {
    "collapsed": false,
    "ExecuteTime": {
     "start_time": "2023-04-09T18:07:01.929709Z",
     "end_time": "2023-04-09T18:07:01.972472Z"
    }
   }
  },
  {
   "cell_type": "code",
   "execution_count": 209,
   "outputs": [],
   "source": [
    "test = Dataset(df_test_rescaled.drop(['total cost', 'transaction year', 'transaction month', 'transaction day', 'timestamp'], axis=1).values, df_test_rescaled['total cost'])\n",
    "test_set = DataLoader(test, BATCH_SIZE, shuffle=True)"
   ],
   "metadata": {
    "collapsed": false,
    "ExecuteTime": {
     "start_time": "2023-04-09T18:07:01.940579Z",
     "end_time": "2023-04-09T18:07:01.972802Z"
    }
   }
  },
  {
   "cell_type": "code",
   "execution_count": 209,
   "outputs": [],
   "source": [],
   "metadata": {
    "collapsed": false,
    "ExecuteTime": {
     "start_time": "2023-04-09T18:07:01.943700Z",
     "end_time": "2023-04-09T18:07:01.973375Z"
    }
   }
  },
  {
   "cell_type": "code",
   "execution_count": 210,
   "outputs": [],
   "source": [
    "def predictor(dataloader, model):\n",
    "    model.eval()\n",
    "    pred_arr = list()\n",
    "    for X, y in dataloader:\n",
    "        shape_X = X.shape\n",
    "        X, y = X.reshape(shape_X[0], 1, shape_X[1]).to(device), y.to(device)\n",
    "        pred = model(X).squeeze()\n",
    "        pred_arr.extend(to_level(target_scaler.inverse_transform(pred.detach().numpy().reshape(-1, 1))))\n",
    "    return pred_arr"
   ],
   "metadata": {
    "collapsed": false,
    "ExecuteTime": {
     "start_time": "2023-04-09T18:07:01.946455Z",
     "end_time": "2023-04-09T18:07:01.973430Z"
    }
   }
  },
  {
   "cell_type": "code",
   "execution_count": 211,
   "outputs": [],
   "source": [
    "pred_ys = predictor(test_set, model)"
   ],
   "metadata": {
    "collapsed": false,
    "ExecuteTime": {
     "start_time": "2023-04-09T18:07:01.949939Z",
     "end_time": "2023-04-09T18:07:01.989659Z"
    }
   }
  },
  {
   "cell_type": "code",
   "execution_count": 212,
   "outputs": [],
   "source": [
    "pred_level = pd.DataFrame({'price range': pred_ys})"
   ],
   "metadata": {
    "collapsed": false,
    "ExecuteTime": {
     "start_time": "2023-04-09T18:07:01.969943Z",
     "end_time": "2023-04-09T18:07:01.989828Z"
    }
   }
  },
  {
   "cell_type": "markdown",
   "source": [
    "prediction distribution"
   ],
   "metadata": {
    "collapsed": false
   }
  },
  {
   "cell_type": "code",
   "execution_count": 213,
   "outputs": [
    {
     "data": {
      "text/plain": "Text(0.5, 1.0, '')"
     },
     "execution_count": 213,
     "metadata": {},
     "output_type": "execute_result"
    },
    {
     "data": {
      "text/plain": "<Figure size 640x480 with 1 Axes>",
      "image/png": "[encoded data removed]"
     },
     "metadata": {},
     "output_type": "display_data"
    }
   ],
   "source": [
    "ax = pred_level.hist()\n",
    "ax[0][0].set_xlabel('levels')\n",
    "ax[0][0].set_ylabel('counts')\n",
    "ax[0][0].set_title('')"
   ],
   "metadata": {
    "collapsed": false,
    "ExecuteTime": {
     "start_time": "2023-04-09T18:07:01.976098Z",
     "end_time": "2023-04-09T18:07:02.090269Z"
    }
   }
  },
  {
   "cell_type": "markdown",
   "source": [
    "original distribution"
   ],
   "metadata": {
    "collapsed": false
   }
  },
  {
   "cell_type": "code",
   "execution_count": 214,
   "outputs": [
    {
     "data": {
      "text/plain": "Text(0.5, 1.0, '')"
     },
     "execution_count": 214,
     "metadata": {},
     "output_type": "execute_result"
    },
    {
     "data": {
      "text/plain": "<Figure size 640x480 with 1 Axes>",
      "image/png": "[encoded data removed]"
     },
     "metadata": {},
     "output_type": "display_data"
    }
   ],
   "source": [
    "\n",
    "ax = pd.DataFrame(to_level(target_scaler.inverse_transform(df['total'].values.reshape(-1, 1)))).hist()\n",
    "ax[0][0].set_xlabel('levels')\n",
    "ax[0][0].set_ylabel('counts')\n",
    "ax[0][0].set_title('')"
   ],
   "metadata": {
    "collapsed": false,
    "ExecuteTime": {
     "start_time": "2023-04-09T18:07:02.044381Z",
     "end_time": "2023-04-09T18:07:02.134746Z"
    }
   }
  },
  {
   "cell_type": "code",
   "execution_count": 215,
   "outputs": [],
   "source": [
    "df_pred = pd.concat([\n",
    "    df_test.drop(['total cost'], axis=1),\n",
    "    pred_level\n",
    "], axis=1)"
   ],
   "metadata": {
    "collapsed": false,
    "ExecuteTime": {
     "start_time": "2023-04-09T18:07:02.124112Z",
     "end_time": "2023-04-09T18:07:02.134844Z"
    }
   }
  },
  {
   "cell_type": "code",
   "execution_count": 218,
   "outputs": [],
   "source": [
    "df_pred.to_csv('data/Test_Data_Predicted.csv', index=False)"
   ],
   "metadata": {
    "collapsed": false,
    "ExecuteTime": {
     "start_time": "2023-04-09T18:09:28.502812Z",
     "end_time": "2023-04-09T18:09:28.510933Z"
    }
   }
  }
 ],
 "metadata": {
  "kernelspec": {
   "display_name": "Python 3",
   "language": "python",
   "name": "python3"
  },
  "language_info": {
   "codemirror_mode": {
    "name": "ipython",
    "version": 2
   },
   "file_extension": ".py",
   "mimetype": "text/x-python",
   "name": "python",
   "nbconvert_exporter": "python",
   "pygments_lexer": "ipython2",
   "version": "2.7.6"
  }
 },
 "nbformat": 4,
 "nbformat_minor": 0
}
