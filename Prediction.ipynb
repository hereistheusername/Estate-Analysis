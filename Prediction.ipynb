{
 "cells": [
  {
   "cell_type": "code",
   "execution_count": 203,
   "metadata": {
    "collapsed": true
   },
   "outputs": [],
   "source": [
    "import torch\n",
    "import torch.nn as nn\n",
    "import torch.nn.functional as F\n",
    "from torch.utils.data import DataLoader, random_split\n",
    "from typing import Tuple, Iterable\n",
    "import pandas as pd\n",
    "import numpy as np\n",
    "from sklearn.preprocessing import MinMaxScaler"
   ]
  },
  {
   "cell_type": "code",
   "execution_count": 3,
   "outputs": [],
   "source": [
    "BATCH_SIZE=32"
   ],
   "metadata": {
    "collapsed": false
   }
  },
  {
   "cell_type": "code",
   "execution_count": 171,
   "outputs": [],
   "source": [
    "# Let's define the class object of multilayer perceptrons\n",
    "class DNN(torch.nn.Module):\n",
    "    def __init__(self, width_vec: list = None):\n",
    "        super(DNN, self).__init__()\n",
    "        self.width_vec= width_vec\n",
    "\n",
    "        modules = []\n",
    "        if width_vec is None:\n",
    "            width_vec = [1,256,256,256,1]\n",
    "\n",
    "        # Network\n",
    "        for i in range(len(width_vec) - 2):\n",
    "            modules.append(nn.Linear(width_vec[i],width_vec[i+1]));\n",
    "            modules.append(nn.ReLU())\n",
    "\n",
    "        self.net = nn.Sequential(*modules,\n",
    "                                 nn.Linear(width_vec[-2],width_vec[-1])\n",
    "                                 )\n",
    "\n",
    "    def forward(self,x):\n",
    "        output = self.net(x)\n",
    "        return  output"
   ],
   "metadata": {
    "collapsed": false
   }
  },
  {
   "cell_type": "code",
   "execution_count": 42,
   "outputs": [],
   "source": [
    "class Dataset(torch.utils.data.Dataset):\n",
    "    'Characterizes a dataset for PyTorch'\n",
    "    def __init__(self, attributes, target):\n",
    "        self.attributes = attributes\n",
    "        self.target = target\n",
    "\n",
    "    def __len__(self):\n",
    "        'Denotes the total number of samples'\n",
    "        return len(self.attributes)\n",
    "\n",
    "    def __getitem__(self, index):\n",
    "        X = torch.tensor(self.attributes[index], dtype=torch.float)\n",
    "        y = torch.tensor(self.target[index], dtype=torch.float)\n",
    "\n",
    "        return X, y"
   ],
   "metadata": {
    "collapsed": false
   }
  },
  {
   "cell_type": "code",
   "execution_count": null,
   "outputs": [],
   "source": [],
   "metadata": {
    "collapsed": false
   }
  },
  {
   "cell_type": "code",
   "execution_count": 241,
   "outputs": [
    {
     "data": {
      "text/plain": "   number of rooms  security level of the community  residence space  \\\n0                5                             2.50             2820   \n1                2                             1.00             1210   \n2                4                             2.50             2200   \n3                3                             1.50             1200   \n4                3                             1.75             1370   \n\n   building space  noise level  waterfront  view  air quality level  \\\n0           67518          2.0           0     0                  3   \n1            9400          1.0           0     0                  2   \n2            9397          2.0           0     0                  3   \n3            9720          1.0           0     0                  4   \n4            5858          1.0           0     0                  3   \n\n   aboveground space   basement space  building year  exchange rate  \\\n0                2820               0           1979       6.784830   \n1                1210               0           1949       6.243129   \n2                2200               0           1987       6.010127   \n3                1200               0           1965       7.560375   \n4                1370               0           1987       6.543941   \n\n         LAT         LNG   timestamp  transaction year  transaction month  \\\n0  47.557085 -122.007748  1398988800              2014                  5   \n1  47.544034 -122.349874  1398988800              2014                  5   \n2  47.310617 -122.263291  1398988800              2014                  5   \n3  47.367737 -122.117029  1398988800              2014                  5   \n4  47.391319 -122.314971  1398988800              2014                  5   \n\n   transaction day  filled decoration year          total  \n0                2                    2014  675000.000105  \n1                2                    1949  234999.999988  \n2                2                    2000  237227.857125  \n3                2                    1965  242499.999935  \n4                2                    2000  257949.999962  ",
      "text/html": "<div>\n<style scoped>\n    .dataframe tbody tr th:only-of-type {\n        vertical-align: middle;\n    }\n\n    .dataframe tbody tr th {\n        vertical-align: top;\n    }\n\n    .dataframe thead th {\n        text-align: right;\n    }\n</style>\n<table border=\"1\" class=\"dataframe\">\n  <thead>\n    <tr style=\"text-align: right;\">\n      <th></th>\n      <th>number of rooms</th>\n      <th>security level of the community</th>\n      <th>residence space</th>\n      <th>building space</th>\n      <th>noise level</th>\n      <th>waterfront</th>\n      <th>view</th>\n      <th>air quality level</th>\n      <th>aboveground space</th>\n      <th>basement space</th>\n      <th>building year</th>\n      <th>exchange rate</th>\n      <th>LAT</th>\n      <th>LNG</th>\n      <th>timestamp</th>\n      <th>transaction year</th>\n      <th>transaction month</th>\n      <th>transaction day</th>\n      <th>filled decoration year</th>\n      <th>total</th>\n    </tr>\n  </thead>\n  <tbody>\n    <tr>\n      <th>0</th>\n      <td>5</td>\n      <td>2.50</td>\n      <td>2820</td>\n      <td>67518</td>\n      <td>2.0</td>\n      <td>0</td>\n      <td>0</td>\n      <td>3</td>\n      <td>2820</td>\n      <td>0</td>\n      <td>1979</td>\n      <td>6.784830</td>\n      <td>47.557085</td>\n      <td>-122.007748</td>\n      <td>1398988800</td>\n      <td>2014</td>\n      <td>5</td>\n      <td>2</td>\n      <td>2014</td>\n      <td>675000.000105</td>\n    </tr>\n    <tr>\n      <th>1</th>\n      <td>2</td>\n      <td>1.00</td>\n      <td>1210</td>\n      <td>9400</td>\n      <td>1.0</td>\n      <td>0</td>\n      <td>0</td>\n      <td>2</td>\n      <td>1210</td>\n      <td>0</td>\n      <td>1949</td>\n      <td>6.243129</td>\n      <td>47.544034</td>\n      <td>-122.349874</td>\n      <td>1398988800</td>\n      <td>2014</td>\n      <td>5</td>\n      <td>2</td>\n      <td>1949</td>\n      <td>234999.999988</td>\n    </tr>\n    <tr>\n      <th>2</th>\n      <td>4</td>\n      <td>2.50</td>\n      <td>2200</td>\n      <td>9397</td>\n      <td>2.0</td>\n      <td>0</td>\n      <td>0</td>\n      <td>3</td>\n      <td>2200</td>\n      <td>0</td>\n      <td>1987</td>\n      <td>6.010127</td>\n      <td>47.310617</td>\n      <td>-122.263291</td>\n      <td>1398988800</td>\n      <td>2014</td>\n      <td>5</td>\n      <td>2</td>\n      <td>2000</td>\n      <td>237227.857125</td>\n    </tr>\n    <tr>\n      <th>3</th>\n      <td>3</td>\n      <td>1.50</td>\n      <td>1200</td>\n      <td>9720</td>\n      <td>1.0</td>\n      <td>0</td>\n      <td>0</td>\n      <td>4</td>\n      <td>1200</td>\n      <td>0</td>\n      <td>1965</td>\n      <td>7.560375</td>\n      <td>47.367737</td>\n      <td>-122.117029</td>\n      <td>1398988800</td>\n      <td>2014</td>\n      <td>5</td>\n      <td>2</td>\n      <td>1965</td>\n      <td>242499.999935</td>\n    </tr>\n    <tr>\n      <th>4</th>\n      <td>3</td>\n      <td>1.75</td>\n      <td>1370</td>\n      <td>5858</td>\n      <td>1.0</td>\n      <td>0</td>\n      <td>0</td>\n      <td>3</td>\n      <td>1370</td>\n      <td>0</td>\n      <td>1987</td>\n      <td>6.543941</td>\n      <td>47.391319</td>\n      <td>-122.314971</td>\n      <td>1398988800</td>\n      <td>2014</td>\n      <td>5</td>\n      <td>2</td>\n      <td>2000</td>\n      <td>257949.999962</td>\n    </tr>\n  </tbody>\n</table>\n</div>"
     },
     "execution_count": 241,
     "metadata": {},
     "output_type": "execute_result"
    }
   ],
   "source": [
    "df = pd.read_csv('data/Train_Data_Converted&Dropped.csv')\n",
    "df.head()"
   ],
   "metadata": {
    "collapsed": false
   }
  },
  {
   "cell_type": "code",
   "execution_count": 256,
   "outputs": [
    {
     "data": {
      "text/plain": "   number of rooms  security level of the community  residence space  \\\n0         0.555556                          0.31250         0.182304   \n1         0.222222                          0.12500         0.059497   \n2         0.444444                          0.31250         0.135011   \n3         0.333333                          0.18750         0.058734   \n4         0.333333                          0.21875         0.071701   \n\n   building space  noise level  waterfront  view  air quality level  \\\n0        0.217492          0.4         0.0   0.0               0.50   \n1        0.028185          0.0         0.0   0.0               0.25   \n2        0.028175          0.4         0.0   0.0               0.50   \n3        0.029228          0.0         0.0   0.0               0.75   \n4        0.016648          0.0         0.0   0.0               0.50   \n\n   aboveground space   basement space  building year  exchange rate       LAT  \\\n0            0.266147             0.0       0.692982       0.392235  0.625836   \n1            0.086860             0.0       0.429825       0.121247  0.601863   \n2            0.197105             0.0       0.763158       0.004686  0.173113   \n3            0.085746             0.0       0.570175       0.780206  0.278033   \n4            0.104677             0.0       0.763158       0.271729  0.321350   \n\n        LNG  timestamp  transaction year  transaction month  transaction day  \\\n0  0.389753        0.0               0.0                0.0         0.033333   \n1  0.103344        0.0               0.0                0.0         0.033333   \n2  0.175826        0.0               0.0                0.0         0.033333   \n3  0.298269        0.0               0.0                0.0         0.033333   \n4  0.132563        0.0               0.0                0.0         0.033333   \n\n   filled decoration year     total  \n0                1.000000  0.211895  \n1                0.424779  0.055199  \n2                0.876106  0.055993  \n3                0.566372  0.057870  \n4                0.876106  0.063373  ",
      "text/html": "<div>\n<style scoped>\n    .dataframe tbody tr th:only-of-type {\n        vertical-align: middle;\n    }\n\n    .dataframe tbody tr th {\n        vertical-align: top;\n    }\n\n    .dataframe thead th {\n        text-align: right;\n    }\n</style>\n<table border=\"1\" class=\"dataframe\">\n  <thead>\n    <tr style=\"text-align: right;\">\n      <th></th>\n      <th>number of rooms</th>\n      <th>security level of the community</th>\n      <th>residence space</th>\n      <th>building space</th>\n      <th>noise level</th>\n      <th>waterfront</th>\n      <th>view</th>\n      <th>air quality level</th>\n      <th>aboveground space</th>\n      <th>basement space</th>\n      <th>building year</th>\n      <th>exchange rate</th>\n      <th>LAT</th>\n      <th>LNG</th>\n      <th>timestamp</th>\n      <th>transaction year</th>\n      <th>transaction month</th>\n      <th>transaction day</th>\n      <th>filled decoration year</th>\n      <th>total</th>\n    </tr>\n  </thead>\n  <tbody>\n    <tr>\n      <th>0</th>\n      <td>0.555556</td>\n      <td>0.31250</td>\n      <td>0.182304</td>\n      <td>0.217492</td>\n      <td>0.4</td>\n      <td>0.0</td>\n      <td>0.0</td>\n      <td>0.50</td>\n      <td>0.266147</td>\n      <td>0.0</td>\n      <td>0.692982</td>\n      <td>0.392235</td>\n      <td>0.625836</td>\n      <td>0.389753</td>\n      <td>0.0</td>\n      <td>0.0</td>\n      <td>0.0</td>\n      <td>0.033333</td>\n      <td>1.000000</td>\n      <td>0.211895</td>\n    </tr>\n    <tr>\n      <th>1</th>\n      <td>0.222222</td>\n      <td>0.12500</td>\n      <td>0.059497</td>\n      <td>0.028185</td>\n      <td>0.0</td>\n      <td>0.0</td>\n      <td>0.0</td>\n      <td>0.25</td>\n      <td>0.086860</td>\n      <td>0.0</td>\n      <td>0.429825</td>\n      <td>0.121247</td>\n      <td>0.601863</td>\n      <td>0.103344</td>\n      <td>0.0</td>\n      <td>0.0</td>\n      <td>0.0</td>\n      <td>0.033333</td>\n      <td>0.424779</td>\n      <td>0.055199</td>\n    </tr>\n    <tr>\n      <th>2</th>\n      <td>0.444444</td>\n      <td>0.31250</td>\n      <td>0.135011</td>\n      <td>0.028175</td>\n      <td>0.4</td>\n      <td>0.0</td>\n      <td>0.0</td>\n      <td>0.50</td>\n      <td>0.197105</td>\n      <td>0.0</td>\n      <td>0.763158</td>\n      <td>0.004686</td>\n      <td>0.173113</td>\n      <td>0.175826</td>\n      <td>0.0</td>\n      <td>0.0</td>\n      <td>0.0</td>\n      <td>0.033333</td>\n      <td>0.876106</td>\n      <td>0.055993</td>\n    </tr>\n    <tr>\n      <th>3</th>\n      <td>0.333333</td>\n      <td>0.18750</td>\n      <td>0.058734</td>\n      <td>0.029228</td>\n      <td>0.0</td>\n      <td>0.0</td>\n      <td>0.0</td>\n      <td>0.75</td>\n      <td>0.085746</td>\n      <td>0.0</td>\n      <td>0.570175</td>\n      <td>0.780206</td>\n      <td>0.278033</td>\n      <td>0.298269</td>\n      <td>0.0</td>\n      <td>0.0</td>\n      <td>0.0</td>\n      <td>0.033333</td>\n      <td>0.566372</td>\n      <td>0.057870</td>\n    </tr>\n    <tr>\n      <th>4</th>\n      <td>0.333333</td>\n      <td>0.21875</td>\n      <td>0.071701</td>\n      <td>0.016648</td>\n      <td>0.0</td>\n      <td>0.0</td>\n      <td>0.0</td>\n      <td>0.50</td>\n      <td>0.104677</td>\n      <td>0.0</td>\n      <td>0.763158</td>\n      <td>0.271729</td>\n      <td>0.321350</td>\n      <td>0.132563</td>\n      <td>0.0</td>\n      <td>0.0</td>\n      <td>0.0</td>\n      <td>0.033333</td>\n      <td>0.876106</td>\n      <td>0.063373</td>\n    </tr>\n  </tbody>\n</table>\n</div>"
     },
     "execution_count": 256,
     "metadata": {},
     "output_type": "execute_result"
    }
   ],
   "source": [
    "attributes_scaler = MinMaxScaler()\n",
    "attributes_data = attributes_scaler.fit_transform(df.drop(['total'], axis=1))\n",
    "target_scaler = MinMaxScaler()\n",
    "target_data = target_scaler.fit_transform(df['total'].to_numpy().reshape(-1, 1))\n",
    "df = pd.concat([\n",
    "     pd.DataFrame(attributes_data, columns=df.columns[:-1]),\n",
    "     pd.DataFrame(target_data.squeeze(), columns=['total'])\n",
    " ], axis=1)\n",
    "df.head()"
   ],
   "metadata": {
    "collapsed": false
   }
  },
  {
   "cell_type": "code",
   "execution_count": 15,
   "outputs": [],
   "source": [
    "# generator = torch.random.manual_seed(42)\n",
    "# train, valid = random_split(df.values, [0.9, 0.1], generator)"
   ],
   "metadata": {
    "collapsed": false
   }
  },
  {
   "cell_type": "code",
   "execution_count": 7,
   "outputs": [],
   "source": [
    "# train = DataLoader(train, BATCH_SIZE, shuffle=True, num_workers=2)\n",
    "# valid = DataLoader(valid, BATCH_SIZE, shuffle=True, num_workers=1)"
   ],
   "metadata": {
    "collapsed": false
   }
  },
  {
   "cell_type": "code",
   "execution_count": 283,
   "outputs": [],
   "source": [
    "dataset = Dataset(df.drop(['total', 'transaction year', 'transaction month', 'transaction day', 'timestamp'], axis=1).values, df['total'].values)"
   ],
   "metadata": {
    "collapsed": false
   }
  },
  {
   "cell_type": "code",
   "execution_count": 284,
   "outputs": [
    {
     "data": {
      "text/plain": "(tensor([0.5556, 0.3125, 0.1823, 0.2175, 0.4000, 0.0000, 0.0000, 0.5000, 0.2661,\n         0.0000, 0.6930, 0.3922, 0.6258, 0.3898, 1.0000]),\n tensor(0.2119))"
     },
     "execution_count": 284,
     "metadata": {},
     "output_type": "execute_result"
    }
   ],
   "source": [
    "dataset[0]"
   ],
   "metadata": {
    "collapsed": false
   }
  },
  {
   "cell_type": "code",
   "execution_count": 285,
   "outputs": [],
   "source": [
    "generator = torch.random.manual_seed(42)\n",
    "train, valid = random_split(dataset, [0.9, 0.1], generator)"
   ],
   "metadata": {
    "collapsed": false
   }
  },
  {
   "cell_type": "code",
   "execution_count": 286,
   "outputs": [],
   "source": [
    "train_set = DataLoader(train, BATCH_SIZE, shuffle=True, )\n",
    "valid_set = DataLoader(valid, BATCH_SIZE, shuffle=True)"
   ],
   "metadata": {
    "collapsed": false
   }
  },
  {
   "cell_type": "code",
   "execution_count": 70,
   "outputs": [],
   "source": [
    "device = \"cuda\" if torch.cuda.is_available() else \"cpu\""
   ],
   "metadata": {
    "collapsed": false
   }
  },
  {
   "cell_type": "code",
   "execution_count": 261,
   "outputs": [],
   "source": [
    "i, (X, y) = next(enumerate(train_set))"
   ],
   "metadata": {
    "collapsed": false
   }
  },
  {
   "cell_type": "code",
   "execution_count": 262,
   "outputs": [
    {
     "data": {
      "text/plain": "torch.Size([32, 16])"
     },
     "execution_count": 262,
     "metadata": {},
     "output_type": "execute_result"
    }
   ],
   "source": [
    "X.shape"
   ],
   "metadata": {
    "collapsed": false
   }
  },
  {
   "cell_type": "code",
   "execution_count": 217,
   "outputs": [
    {
     "data": {
      "text/plain": "108"
     },
     "execution_count": 217,
     "metadata": {},
     "output_type": "execute_result"
    }
   ],
   "source": [
    "len(train_set)"
   ],
   "metadata": {
    "collapsed": false
   }
  },
  {
   "cell_type": "code",
   "execution_count": 158,
   "outputs": [],
   "source": [
    "def to_level(l: Iterable):\n",
    "    def tier(cost: float):\n",
    "        if 0 <= cost < 300000: return 1\n",
    "        elif 300000 <= cost < 500000: return 2\n",
    "        elif 500000 <= cost < 700000: return 3\n",
    "        elif 700000 <= cost: return 4\n",
    "    return np.array([tier(c) for c in l])\n",
    "\n"
   ],
   "metadata": {
    "collapsed": false
   }
  },
  {
   "cell_type": "code",
   "execution_count": 281,
   "outputs": [],
   "source": [
    "def trainer(dataloader: torch.utils.data.DataLoader,\n",
    "            model: torch.nn.Module,\n",
    "            optimizer,\n",
    "            loss_fn):\n",
    "    size = len(dataloader.dataset)\n",
    "    num_batches = len(dataloader)\n",
    "    acc = list()\n",
    "    train_loss = 0\n",
    "    model.train()\n",
    "    for batch, (X, y) in enumerate(dataloader):\n",
    "        X, y = X.to(device), y.to(device)\n",
    "        tiers = to_level(y)\n",
    "\n",
    "        # Compute prediction error\n",
    "        pred = model(X).squeeze()\n",
    "        # tiers_pred = to_level(pred)\n",
    "        loss = loss_fn(pred, y)\n",
    "        train_loss += loss.item()\n",
    "        acc.append((to_level(target_scaler.inverse_transform(pred.detach().numpy().reshape(-1, 1))) == to_level(target_scaler.inverse_transform(y.reshape(-1, 1)).squeeze())).sum()/len(y))\n",
    "        # Backpropagation\n",
    "        optimizer.zero_grad()\n",
    "        loss.backward()\n",
    "        optimizer.step()\n",
    "    train_loss /= num_batches\n",
    "    print(f\"Avg Train loss: {loss:>8f}, Avg accuracy: {np.mean(acc):8f}\")\n",
    "    return train_loss"
   ],
   "metadata": {
    "collapsed": false
   }
  },
  {
   "cell_type": "code",
   "execution_count": 225,
   "outputs": [],
   "source": [
    "def evaluator(dataloader, model, loss_fn):\n",
    "    size = len(dataloader.dataset)\n",
    "    num_batches = len(dataloader)\n",
    "    model.eval()\n",
    "    test_loss, correct = 0, 0\n",
    "    with torch.no_grad():\n",
    "        for X, y in dataloader:\n",
    "            X, y = X.to(device), y.to(device)\n",
    "            pred = model(X).squeeze()\n",
    "            test_loss += loss_fn(pred, y).item()\n",
    "            # correct += (pred.argmax(1) == y).type(torch.float).sum().item()\n",
    "    test_loss /= num_batches\n",
    "    # correct /= size\n",
    "    # print(f\"Test Error: \\n Accuracy: {(100*correct):>0.1f}%, Avg loss: {test_loss:>8f} \\n\")\n",
    "    print('Avg loss: {:8f}'.format(test_loss))\n",
    "    return test_loss"
   ],
   "metadata": {
    "collapsed": false
   }
  },
  {
   "cell_type": "code",
   "execution_count": 310,
   "outputs": [],
   "source": [
    "model = DNN([15, 256, 256, 256, 1]).to(device)\n",
    "loss_fn = torch.nn.MSELoss(reduction='sum')\n",
    "lr = 1e-3\n",
    "optimizer = torch.optim.Adam(model.parameters(), lr)\n",
    "EPOCH = 100\n"
   ],
   "metadata": {
    "collapsed": false
   }
  },
  {
   "cell_type": "code",
   "execution_count": 290,
   "outputs": [
    {
     "data": {
      "text/plain": "DNN(\n  (net): Sequential(\n    (0): Linear(in_features=15, out_features=256, bias=True)\n    (1): ReLU()\n    (2): Linear(in_features=256, out_features=256, bias=True)\n    (3): ReLU()\n    (4): Linear(in_features=256, out_features=256, bias=True)\n    (5): ReLU()\n    (6): Linear(in_features=256, out_features=1, bias=True)\n  )\n)"
     },
     "execution_count": 290,
     "metadata": {},
     "output_type": "execute_result"
    }
   ],
   "source": [
    "model"
   ],
   "metadata": {
    "collapsed": false
   }
  },
  {
   "cell_type": "code",
   "execution_count": 311,
   "outputs": [
    {
     "name": "stdout",
     "output_type": "stream",
     "text": [
      "Avg Train loss: 0.057807, Avg accuracy: 0.473958\n",
      "Avg loss: 0.119065\n",
      "Avg Train loss: 0.023794, Avg accuracy: 0.600405\n",
      "Avg loss: 0.102624\n",
      "Avg Train loss: 0.014282, Avg accuracy: 0.636285\n",
      "Avg loss: 0.095797\n",
      "Avg Train loss: 0.030159, Avg accuracy: 0.639178\n",
      "Avg loss: 0.097230\n",
      "Avg Train loss: 0.012062, Avg accuracy: 0.653356\n",
      "Avg loss: 0.078501\n",
      "Avg Train loss: 0.018641, Avg accuracy: 0.670718\n",
      "Avg loss: 0.081285\n",
      "Avg Train loss: 0.073075, Avg accuracy: 0.667535\n",
      "Avg loss: 0.083726\n",
      "Avg Train loss: 0.033353, Avg accuracy: 0.694444\n",
      "Avg loss: 0.071311\n",
      "Avg Train loss: 0.043249, Avg accuracy: 0.709780\n",
      "Avg loss: 0.067755\n",
      "Avg Train loss: 0.046636, Avg accuracy: 0.717014\n",
      "Avg loss: 0.075300\n",
      "Avg Train loss: 0.031484, Avg accuracy: 0.706597\n",
      "Avg loss: 0.064721\n",
      "Avg Train loss: 0.046339, Avg accuracy: 0.722801\n",
      "Avg loss: 0.070894\n",
      "Avg Train loss: 0.005751, Avg accuracy: 0.713831\n",
      "Avg loss: 0.067511\n",
      "Avg Train loss: 0.008017, Avg accuracy: 0.725984\n",
      "Avg loss: 0.065062\n",
      "Avg Train loss: 0.008570, Avg accuracy: 0.739294\n",
      "Avg loss: 0.073979\n",
      "Avg Train loss: 0.059783, Avg accuracy: 0.730903\n",
      "Avg loss: 0.078920\n",
      "Avg Train loss: 0.024673, Avg accuracy: 0.732060\n",
      "Avg loss: 0.066050\n",
      "Avg Train loss: 0.036607, Avg accuracy: 0.715567\n",
      "Avg loss: 0.091254\n",
      "Avg Train loss: 0.024242, Avg accuracy: 0.722512\n",
      "Avg loss: 0.070388\n",
      "Avg Train loss: 0.010137, Avg accuracy: 0.732928\n",
      "Avg loss: 0.066515\n",
      "Avg Train loss: 0.007088, Avg accuracy: 0.737558\n",
      "Avg loss: 0.072142\n",
      "Avg Train loss: 0.007892, Avg accuracy: 0.741319\n",
      "Avg loss: 0.068578\n",
      "Avg Train loss: 0.024009, Avg accuracy: 0.743634\n",
      "Avg loss: 0.085338\n",
      "Avg Train loss: 0.014242, Avg accuracy: 0.743056\n",
      "Avg loss: 0.085559\n",
      "Avg Train loss: 0.018837, Avg accuracy: 0.744792\n",
      "Avg loss: 0.075638\n",
      "Avg Train loss: 0.030665, Avg accuracy: 0.745370\n",
      "Avg loss: 0.077090\n",
      "Avg Train loss: 0.013055, Avg accuracy: 0.745370\n",
      "Avg loss: 0.070359\n",
      "Avg Train loss: 0.015678, Avg accuracy: 0.746817\n",
      "Avg loss: 0.070861\n",
      "Avg Train loss: 0.010074, Avg accuracy: 0.755208\n",
      "Avg loss: 0.074179\n",
      "Avg Train loss: 0.024660, Avg accuracy: 0.745949\n",
      "Avg loss: 0.068396\n",
      "Avg Train loss: 0.053341, Avg accuracy: 0.754630\n",
      "Avg loss: 0.070273\n",
      "Avg Train loss: 0.009959, Avg accuracy: 0.755208\n",
      "Avg loss: 0.071015\n",
      "Avg Train loss: 0.010974, Avg accuracy: 0.762731\n",
      "Avg loss: 0.068881\n",
      "Avg Train loss: 0.012801, Avg accuracy: 0.756076\n",
      "Avg loss: 0.077088\n",
      "Avg Train loss: 0.037462, Avg accuracy: 0.758681\n",
      "Avg loss: 0.069437\n",
      "Avg Train loss: 0.007206, Avg accuracy: 0.763889\n",
      "Avg loss: 0.066496\n",
      "Avg Train loss: 0.027955, Avg accuracy: 0.765625\n",
      "Avg loss: 0.066552\n",
      "Avg Train loss: 0.008785, Avg accuracy: 0.769965\n",
      "Avg loss: 0.076955\n",
      "Avg Train loss: 0.011610, Avg accuracy: 0.761285\n",
      "Avg loss: 0.070372\n",
      "Avg Train loss: 0.013830, Avg accuracy: 0.770255\n",
      "Avg loss: 0.072170\n",
      "Avg Train loss: 0.016393, Avg accuracy: 0.768229\n",
      "Avg loss: 0.068806\n",
      "Avg Train loss: 0.007298, Avg accuracy: 0.771412\n",
      "Avg loss: 0.075826\n",
      "Avg Train loss: 0.027416, Avg accuracy: 0.768808\n",
      "Avg loss: 0.068946\n",
      "Avg Train loss: 0.011246, Avg accuracy: 0.777199\n",
      "Avg loss: 0.066218\n",
      "Avg Train loss: 0.008636, Avg accuracy: 0.782986\n",
      "Avg loss: 0.067031\n",
      "Avg Train loss: 0.007883, Avg accuracy: 0.770255\n",
      "Avg loss: 0.070669\n",
      "Avg Train loss: 0.013497, Avg accuracy: 0.758102\n",
      "Avg loss: 0.094323\n",
      "Avg Train loss: 0.003716, Avg accuracy: 0.787616\n",
      "Avg loss: 0.068685\n",
      "Avg Train loss: 0.013694, Avg accuracy: 0.782407\n",
      "Avg loss: 0.072149\n",
      "Avg Train loss: 0.009176, Avg accuracy: 0.780093\n",
      "Avg loss: 0.069916\n",
      "Avg Train loss: 0.008385, Avg accuracy: 0.790509\n",
      "Avg loss: 0.069237\n",
      "Avg Train loss: 0.007509, Avg accuracy: 0.782407\n",
      "Avg loss: 0.074181\n",
      "Avg Train loss: 0.008694, Avg accuracy: 0.773727\n",
      "Avg loss: 0.071726\n",
      "Avg Train loss: 0.004767, Avg accuracy: 0.780093\n",
      "Avg loss: 0.079585\n",
      "Avg Train loss: 0.009939, Avg accuracy: 0.784433\n",
      "Avg loss: 0.083878\n",
      "Avg Train loss: 0.007889, Avg accuracy: 0.788773\n",
      "Avg loss: 0.072454\n",
      "Avg Train loss: 0.004684, Avg accuracy: 0.790509\n",
      "Avg loss: 0.066904\n",
      "Avg Train loss: 0.018530, Avg accuracy: 0.787616\n",
      "Avg loss: 0.069221\n",
      "Avg Train loss: 0.012268, Avg accuracy: 0.787037\n",
      "Avg loss: 0.071713\n",
      "Avg Train loss: 0.005003, Avg accuracy: 0.793692\n",
      "Avg loss: 0.069698\n",
      "Avg Train loss: 0.010726, Avg accuracy: 0.802083\n",
      "Avg loss: 0.068430\n",
      "Avg Train loss: 0.010435, Avg accuracy: 0.802951\n",
      "Avg loss: 0.080725\n",
      "Avg Train loss: 0.010451, Avg accuracy: 0.798611\n",
      "Avg loss: 0.071708\n",
      "Avg Train loss: 0.002167, Avg accuracy: 0.796296\n",
      "Avg loss: 0.077112\n",
      "Avg Train loss: 0.015252, Avg accuracy: 0.806713\n",
      "Avg loss: 0.075321\n",
      "Avg Train loss: 0.027781, Avg accuracy: 0.805556\n",
      "Avg loss: 0.076138\n",
      "Avg Train loss: 0.030346, Avg accuracy: 0.804688\n",
      "Avg loss: 0.070516\n",
      "Avg Train loss: 0.007890, Avg accuracy: 0.808738\n",
      "Avg loss: 0.066671\n",
      "Avg Train loss: 0.009843, Avg accuracy: 0.783565\n",
      "Avg loss: 0.074024\n",
      "Avg Train loss: 0.007120, Avg accuracy: 0.798032\n",
      "Avg loss: 0.070788\n",
      "Avg Train loss: 0.014935, Avg accuracy: 0.805266\n",
      "Avg loss: 0.072958\n",
      "Avg Train loss: 0.008033, Avg accuracy: 0.803530\n",
      "Avg loss: 0.071626\n",
      "Avg Train loss: 0.008357, Avg accuracy: 0.803530\n",
      "Avg loss: 0.070673\n",
      "Avg Train loss: 0.015399, Avg accuracy: 0.792824\n",
      "Avg loss: 0.079850\n",
      "Avg Train loss: 0.007946, Avg accuracy: 0.809896\n",
      "Avg loss: 0.074196\n",
      "Avg Train loss: 0.010160, Avg accuracy: 0.807292\n",
      "Avg loss: 0.080694\n",
      "Avg Train loss: 0.006974, Avg accuracy: 0.804398\n",
      "Avg loss: 0.068590\n",
      "Avg Train loss: 0.009146, Avg accuracy: 0.821181\n",
      "Avg loss: 0.073213\n",
      "Avg Train loss: 0.010500, Avg accuracy: 0.813079\n",
      "Avg loss: 0.074201\n",
      "Avg Train loss: 0.006747, Avg accuracy: 0.812211\n",
      "Avg loss: 0.069889\n",
      "Avg Train loss: 0.012641, Avg accuracy: 0.811921\n",
      "Avg loss: 0.074231\n",
      "Avg Train loss: 0.007789, Avg accuracy: 0.812789\n",
      "Avg loss: 0.070756\n",
      "Avg Train loss: 0.007481, Avg accuracy: 0.818287\n",
      "Avg loss: 0.077003\n",
      "Avg Train loss: 0.004197, Avg accuracy: 0.807581\n",
      "Avg loss: 0.077256\n",
      "Avg Train loss: 0.005650, Avg accuracy: 0.822338\n",
      "Avg loss: 0.070943\n",
      "Avg Train loss: 0.008402, Avg accuracy: 0.811921\n",
      "Avg loss: 0.085097\n",
      "Avg Train loss: 0.011025, Avg accuracy: 0.802662\n",
      "Avg loss: 0.072456\n",
      "Avg Train loss: 0.015896, Avg accuracy: 0.820312\n",
      "Avg loss: 0.073286\n",
      "Avg Train loss: 0.010304, Avg accuracy: 0.827257\n",
      "Avg loss: 0.074582\n",
      "Avg Train loss: 0.008768, Avg accuracy: 0.824074\n",
      "Avg loss: 0.076290\n",
      "Avg Train loss: 0.027839, Avg accuracy: 0.823495\n",
      "Avg loss: 0.074144\n",
      "Avg Train loss: 0.006333, Avg accuracy: 0.820023\n",
      "Avg loss: 0.073966\n",
      "Avg Train loss: 0.014638, Avg accuracy: 0.822049\n",
      "Avg loss: 0.078657\n",
      "Avg Train loss: 0.005761, Avg accuracy: 0.811632\n",
      "Avg loss: 0.083186\n",
      "Avg Train loss: 0.005842, Avg accuracy: 0.817419\n",
      "Avg loss: 0.070559\n",
      "Avg Train loss: 0.002405, Avg accuracy: 0.822049\n",
      "Avg loss: 0.075916\n",
      "Avg Train loss: 0.005510, Avg accuracy: 0.844329\n",
      "Avg loss: 0.074015\n",
      "Avg Train loss: 0.006799, Avg accuracy: 0.839120\n",
      "Avg loss: 0.083506\n",
      "Avg Train loss: 0.004374, Avg accuracy: 0.846933\n",
      "Avg loss: 0.083344\n",
      "Avg Train loss: 0.012360, Avg accuracy: 0.839120\n",
      "Avg loss: 0.082168\n"
     ]
    },
    {
     "data": {
      "text/plain": "<AxesSubplot: >"
     },
     "execution_count": 311,
     "metadata": {},
     "output_type": "execute_result"
    },
    {
     "data": {
      "text/plain": "<Figure size 640x480 with 1 Axes>",
      "image/png": "[encoded data removed]"
     },
     "metadata": {},
     "output_type": "display_data"
    }
   ],
   "source": [
    "train_loss = list()\n",
    "valid_loss = list()\n",
    "for e in range(EPOCH):\n",
    "    train_loss.append(trainer(train_set, model, optimizer, loss_fn))\n",
    "    valid_loss.append(evaluator(valid_set, model, loss_fn))\n",
    "\n",
    "output_df = pd.DataFrame({'train loss': train_loss,\n",
    "              'valid loss': valid_loss})\n",
    "output_df.plot()"
   ],
   "metadata": {
    "collapsed": false
   }
  },
  {
   "cell_type": "code",
   "execution_count": 266,
   "outputs": [
    {
     "data": {
      "text/plain": "tensor([[0.2034],\n        [0.1641],\n        [0.2331],\n        [0.2429],\n        [0.0686],\n        [0.1286],\n        [0.0673],\n        [0.1184],\n        [0.1261],\n        [0.2171],\n        [0.0847],\n        [0.2048],\n        [0.1806],\n        [0.2484],\n        [0.0849],\n        [0.0535],\n        [0.2340],\n        [0.2383],\n        [0.2134],\n        [0.1178],\n        [0.2232],\n        [0.1314],\n        [0.0507],\n        [0.0809],\n        [0.2087],\n        [0.0690],\n        [0.1071],\n        [0.1092],\n        [0.1466],\n        [0.0731],\n        [0.2001],\n        [0.1122]], grad_fn=<AddmmBackward0>)"
     },
     "execution_count": 266,
     "metadata": {},
     "output_type": "execute_result"
    }
   ],
   "source": [
    "i, (X, y) = next(enumerate(train_set))\n",
    "pred = model(X)\n",
    "pred"
   ],
   "metadata": {
    "collapsed": false
   }
  },
  {
   "cell_type": "code",
   "execution_count": 267,
   "outputs": [
    {
     "data": {
      "text/plain": "tensor([0.2155, 0.1374, 0.2070, 0.3009, 0.0677, 0.1229, 0.0659, 0.0833, 0.1335,\n        0.2244, 0.0616, 0.2137, 0.1702, 0.3009, 0.0675, 0.0267, 0.2178, 0.2119,\n        0.2099, 0.1131, 0.1774, 0.1051, 0.0427, 0.0759, 0.2030, 0.0641, 0.0570,\n        0.0805, 0.1531, 0.0694, 0.1713, 0.1318])"
     },
     "execution_count": 267,
     "metadata": {},
     "output_type": "execute_result"
    }
   ],
   "source": [
    "y"
   ],
   "metadata": {
    "collapsed": false
   }
  },
  {
   "cell_type": "code",
   "execution_count": 274,
   "outputs": [
    {
     "data": {
      "text/plain": "0.65625"
     },
     "execution_count": 274,
     "metadata": {},
     "output_type": "execute_result"
    }
   ],
   "source": [
    "(to_level(target_scaler.inverse_transform(pred.detach().numpy())) == to_level(target_scaler.inverse_transform(y.reshape(-1, 1)).squeeze())).sum()/len(y)"
   ],
   "metadata": {
    "collapsed": false
   }
  },
  {
   "cell_type": "code",
   "execution_count": 156,
   "outputs": [
    {
     "data": {
      "text/plain": "0.25"
     },
     "execution_count": 156,
     "metadata": {},
     "output_type": "execute_result"
    }
   ],
   "source": [
    "(to_level(model(X)) == to_level(y)).sum()/len(y)"
   ],
   "metadata": {
    "collapsed": false
   }
  }
 ],
 "metadata": {
  "kernelspec": {
   "display_name": "Python 3",
   "language": "python",
   "name": "python3"
  },
  "language_info": {
   "codemirror_mode": {
    "name": "ipython",
    "version": 2
   },
   "file_extension": ".py",
   "mimetype": "text/x-python",
   "name": "python",
   "nbconvert_exporter": "python",
   "pygments_lexer": "ipython2",
   "version": "2.7.6"
  }
 },
 "nbformat": 4,
 "nbformat_minor": 0
}
