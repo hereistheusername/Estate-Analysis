{
 "cells": [
  {
   "cell_type": "code",
   "execution_count": 1,
   "metadata": {
    "collapsed": true,
    "ExecuteTime": {
     "start_time": "2023-04-05T23:24:08.789361Z",
     "end_time": "2023-04-05T23:24:10.492654Z"
    }
   },
   "outputs": [],
   "source": [
    "import torch\n",
    "import torch.nn as nn\n",
    "import torch.nn.functional as F\n",
    "from torch.utils.data import DataLoader, random_split\n",
    "from typing import Tuple, Iterable\n",
    "import pandas as pd\n",
    "import numpy as np\n",
    "from sklearn.preprocessing import MinMaxScaler"
   ]
  },
  {
   "cell_type": "code",
   "execution_count": 2,
   "outputs": [],
   "source": [
    "BATCH_SIZE=32"
   ],
   "metadata": {
    "collapsed": false,
    "ExecuteTime": {
     "start_time": "2023-04-05T23:24:10.492477Z",
     "end_time": "2023-04-05T23:24:10.498768Z"
    }
   }
  },
  {
   "cell_type": "code",
   "execution_count": 3,
   "outputs": [],
   "source": [
    "# Let's define the class object of multilayer perceptrons\n",
    "class DNN(torch.nn.Module):\n",
    "    def __init__(self, width_vec: list = None):\n",
    "        super(DNN, self).__init__()\n",
    "        self.width_vec= width_vec\n",
    "\n",
    "        modules = []\n",
    "        if width_vec is None:\n",
    "            width_vec = [1,256,256,256,1]\n",
    "\n",
    "        # Network\n",
    "        for i in range(len(width_vec) - 2):\n",
    "            modules.append(nn.Linear(width_vec[i],width_vec[i+1]));\n",
    "            modules.append(nn.ReLU())\n",
    "\n",
    "        self.net = nn.Sequential(*modules,\n",
    "                                 nn.Linear(width_vec[-2],width_vec[-1])\n",
    "                                 )\n",
    "\n",
    "    def forward(self,x):\n",
    "        output = self.net(x)\n",
    "        return  output"
   ],
   "metadata": {
    "collapsed": false,
    "ExecuteTime": {
     "start_time": "2023-04-05T23:24:10.498459Z",
     "end_time": "2023-04-05T23:24:10.498948Z"
    }
   }
  },
  {
   "cell_type": "code",
   "execution_count": 4,
   "outputs": [],
   "source": [
    "class Dataset(torch.utils.data.Dataset):\n",
    "    'Characterizes a dataset for PyTorch'\n",
    "    def __init__(self, attributes, target):\n",
    "        self.attributes = attributes\n",
    "        self.target = target\n",
    "\n",
    "    def __len__(self):\n",
    "        'Denotes the total number of samples'\n",
    "        return len(self.attributes)\n",
    "\n",
    "    def __getitem__(self, index):\n",
    "        X = torch.tensor(self.attributes[index], dtype=torch.float)\n",
    "        y = torch.tensor(self.target[index], dtype=torch.float)\n",
    "\n",
    "        return X, y"
   ],
   "metadata": {
    "collapsed": false,
    "ExecuteTime": {
     "start_time": "2023-04-05T23:24:10.498866Z",
     "end_time": "2023-04-05T23:24:10.501329Z"
    }
   }
  },
  {
   "cell_type": "code",
   "execution_count": 4,
   "outputs": [],
   "source": [],
   "metadata": {
    "collapsed": false,
    "ExecuteTime": {
     "start_time": "2023-04-05T23:24:10.501736Z",
     "end_time": "2023-04-05T23:24:10.503034Z"
    }
   }
  },
  {
   "cell_type": "code",
   "execution_count": 5,
   "outputs": [
    {
     "data": {
      "text/plain": "   number of rooms  security level of the community  residence space  \\\n0                5                             2.50             2820   \n1                2                             1.00             1210   \n2                4                             2.50             2200   \n3                3                             1.50             1200   \n4                3                             1.75             1370   \n\n   building space  noise level  waterfront  view  air quality level  \\\n0           67518          2.0           0     0                  3   \n1            9400          1.0           0     0                  2   \n2            9397          2.0           0     0                  3   \n3            9720          1.0           0     0                  4   \n4            5858          1.0           0     0                  3   \n\n   aboveground space   basement space  building year  exchange rate  \\\n0                2820               0           1979       6.784830   \n1                1210               0           1949       6.243129   \n2                2200               0           1987       6.010127   \n3                1200               0           1965       7.560375   \n4                1370               0           1987       6.543941   \n\n         LAT         LNG   timestamp  transaction year  transaction month  \\\n0  47.557085 -122.007748  1398988800              2014                  5   \n1  47.544034 -122.349874  1398988800              2014                  5   \n2  47.310617 -122.263291  1398988800              2014                  5   \n3  47.367737 -122.117029  1398988800              2014                  5   \n4  47.391319 -122.314971  1398988800              2014                  5   \n\n   transaction day  filled decoration year          total  \n0                2                    2014  675000.000105  \n1                2                    1949  234999.999988  \n2                2                    2000  237227.857125  \n3                2                    1965  242499.999935  \n4                2                    2000  257949.999962  ",
      "text/html": "<div>\n<style scoped>\n    .dataframe tbody tr th:only-of-type {\n        vertical-align: middle;\n    }\n\n    .dataframe tbody tr th {\n        vertical-align: top;\n    }\n\n    .dataframe thead th {\n        text-align: right;\n    }\n</style>\n<table border=\"1\" class=\"dataframe\">\n  <thead>\n    <tr style=\"text-align: right;\">\n      <th></th>\n      <th>number of rooms</th>\n      <th>security level of the community</th>\n      <th>residence space</th>\n      <th>building space</th>\n      <th>noise level</th>\n      <th>waterfront</th>\n      <th>view</th>\n      <th>air quality level</th>\n      <th>aboveground space</th>\n      <th>basement space</th>\n      <th>building year</th>\n      <th>exchange rate</th>\n      <th>LAT</th>\n      <th>LNG</th>\n      <th>timestamp</th>\n      <th>transaction year</th>\n      <th>transaction month</th>\n      <th>transaction day</th>\n      <th>filled decoration year</th>\n      <th>total</th>\n    </tr>\n  </thead>\n  <tbody>\n    <tr>\n      <th>0</th>\n      <td>5</td>\n      <td>2.50</td>\n      <td>2820</td>\n      <td>67518</td>\n      <td>2.0</td>\n      <td>0</td>\n      <td>0</td>\n      <td>3</td>\n      <td>2820</td>\n      <td>0</td>\n      <td>1979</td>\n      <td>6.784830</td>\n      <td>47.557085</td>\n      <td>-122.007748</td>\n      <td>1398988800</td>\n      <td>2014</td>\n      <td>5</td>\n      <td>2</td>\n      <td>2014</td>\n      <td>675000.000105</td>\n    </tr>\n    <tr>\n      <th>1</th>\n      <td>2</td>\n      <td>1.00</td>\n      <td>1210</td>\n      <td>9400</td>\n      <td>1.0</td>\n      <td>0</td>\n      <td>0</td>\n      <td>2</td>\n      <td>1210</td>\n      <td>0</td>\n      <td>1949</td>\n      <td>6.243129</td>\n      <td>47.544034</td>\n      <td>-122.349874</td>\n      <td>1398988800</td>\n      <td>2014</td>\n      <td>5</td>\n      <td>2</td>\n      <td>1949</td>\n      <td>234999.999988</td>\n    </tr>\n    <tr>\n      <th>2</th>\n      <td>4</td>\n      <td>2.50</td>\n      <td>2200</td>\n      <td>9397</td>\n      <td>2.0</td>\n      <td>0</td>\n      <td>0</td>\n      <td>3</td>\n      <td>2200</td>\n      <td>0</td>\n      <td>1987</td>\n      <td>6.010127</td>\n      <td>47.310617</td>\n      <td>-122.263291</td>\n      <td>1398988800</td>\n      <td>2014</td>\n      <td>5</td>\n      <td>2</td>\n      <td>2000</td>\n      <td>237227.857125</td>\n    </tr>\n    <tr>\n      <th>3</th>\n      <td>3</td>\n      <td>1.50</td>\n      <td>1200</td>\n      <td>9720</td>\n      <td>1.0</td>\n      <td>0</td>\n      <td>0</td>\n      <td>4</td>\n      <td>1200</td>\n      <td>0</td>\n      <td>1965</td>\n      <td>7.560375</td>\n      <td>47.367737</td>\n      <td>-122.117029</td>\n      <td>1398988800</td>\n      <td>2014</td>\n      <td>5</td>\n      <td>2</td>\n      <td>1965</td>\n      <td>242499.999935</td>\n    </tr>\n    <tr>\n      <th>4</th>\n      <td>3</td>\n      <td>1.75</td>\n      <td>1370</td>\n      <td>5858</td>\n      <td>1.0</td>\n      <td>0</td>\n      <td>0</td>\n      <td>3</td>\n      <td>1370</td>\n      <td>0</td>\n      <td>1987</td>\n      <td>6.543941</td>\n      <td>47.391319</td>\n      <td>-122.314971</td>\n      <td>1398988800</td>\n      <td>2014</td>\n      <td>5</td>\n      <td>2</td>\n      <td>2000</td>\n      <td>257949.999962</td>\n    </tr>\n  </tbody>\n</table>\n</div>"
     },
     "execution_count": 5,
     "metadata": {},
     "output_type": "execute_result"
    }
   ],
   "source": [
    "df = pd.read_csv('data/Train_Data_Converted&Dropped.csv')\n",
    "df.head()"
   ],
   "metadata": {
    "collapsed": false,
    "ExecuteTime": {
     "start_time": "2023-04-05T23:24:10.502989Z",
     "end_time": "2023-04-05T23:24:10.531358Z"
    }
   }
  },
  {
   "cell_type": "code",
   "execution_count": 6,
   "outputs": [
    {
     "data": {
      "text/plain": "   number of rooms  security level of the community  residence space  \\\n0         0.555556                          0.31250         0.182304   \n1         0.222222                          0.12500         0.059497   \n2         0.444444                          0.31250         0.135011   \n3         0.333333                          0.18750         0.058734   \n4         0.333333                          0.21875         0.071701   \n\n   building space  noise level  waterfront  view  air quality level  \\\n0        0.217492          0.4         0.0   0.0               0.50   \n1        0.028185          0.0         0.0   0.0               0.25   \n2        0.028175          0.4         0.0   0.0               0.50   \n3        0.029228          0.0         0.0   0.0               0.75   \n4        0.016648          0.0         0.0   0.0               0.50   \n\n   aboveground space   basement space  building year  exchange rate       LAT  \\\n0            0.266147             0.0       0.692982       0.392235  0.625836   \n1            0.086860             0.0       0.429825       0.121247  0.601863   \n2            0.197105             0.0       0.763158       0.004686  0.173113   \n3            0.085746             0.0       0.570175       0.780206  0.278033   \n4            0.104677             0.0       0.763158       0.271729  0.321350   \n\n        LNG  timestamp  transaction year  transaction month  transaction day  \\\n0  0.389753        0.0               0.0                0.0         0.033333   \n1  0.103344        0.0               0.0                0.0         0.033333   \n2  0.175826        0.0               0.0                0.0         0.033333   \n3  0.298269        0.0               0.0                0.0         0.033333   \n4  0.132563        0.0               0.0                0.0         0.033333   \n\n   filled decoration year     total  \n0                1.000000  0.211895  \n1                0.424779  0.055199  \n2                0.876106  0.055993  \n3                0.566372  0.057870  \n4                0.876106  0.063373  ",
      "text/html": "<div>\n<style scoped>\n    .dataframe tbody tr th:only-of-type {\n        vertical-align: middle;\n    }\n\n    .dataframe tbody tr th {\n        vertical-align: top;\n    }\n\n    .dataframe thead th {\n        text-align: right;\n    }\n</style>\n<table border=\"1\" class=\"dataframe\">\n  <thead>\n    <tr style=\"text-align: right;\">\n      <th></th>\n      <th>number of rooms</th>\n      <th>security level of the community</th>\n      <th>residence space</th>\n      <th>building space</th>\n      <th>noise level</th>\n      <th>waterfront</th>\n      <th>view</th>\n      <th>air quality level</th>\n      <th>aboveground space</th>\n      <th>basement space</th>\n      <th>building year</th>\n      <th>exchange rate</th>\n      <th>LAT</th>\n      <th>LNG</th>\n      <th>timestamp</th>\n      <th>transaction year</th>\n      <th>transaction month</th>\n      <th>transaction day</th>\n      <th>filled decoration year</th>\n      <th>total</th>\n    </tr>\n  </thead>\n  <tbody>\n    <tr>\n      <th>0</th>\n      <td>0.555556</td>\n      <td>0.31250</td>\n      <td>0.182304</td>\n      <td>0.217492</td>\n      <td>0.4</td>\n      <td>0.0</td>\n      <td>0.0</td>\n      <td>0.50</td>\n      <td>0.266147</td>\n      <td>0.0</td>\n      <td>0.692982</td>\n      <td>0.392235</td>\n      <td>0.625836</td>\n      <td>0.389753</td>\n      <td>0.0</td>\n      <td>0.0</td>\n      <td>0.0</td>\n      <td>0.033333</td>\n      <td>1.000000</td>\n      <td>0.211895</td>\n    </tr>\n    <tr>\n      <th>1</th>\n      <td>0.222222</td>\n      <td>0.12500</td>\n      <td>0.059497</td>\n      <td>0.028185</td>\n      <td>0.0</td>\n      <td>0.0</td>\n      <td>0.0</td>\n      <td>0.25</td>\n      <td>0.086860</td>\n      <td>0.0</td>\n      <td>0.429825</td>\n      <td>0.121247</td>\n      <td>0.601863</td>\n      <td>0.103344</td>\n      <td>0.0</td>\n      <td>0.0</td>\n      <td>0.0</td>\n      <td>0.033333</td>\n      <td>0.424779</td>\n      <td>0.055199</td>\n    </tr>\n    <tr>\n      <th>2</th>\n      <td>0.444444</td>\n      <td>0.31250</td>\n      <td>0.135011</td>\n      <td>0.028175</td>\n      <td>0.4</td>\n      <td>0.0</td>\n      <td>0.0</td>\n      <td>0.50</td>\n      <td>0.197105</td>\n      <td>0.0</td>\n      <td>0.763158</td>\n      <td>0.004686</td>\n      <td>0.173113</td>\n      <td>0.175826</td>\n      <td>0.0</td>\n      <td>0.0</td>\n      <td>0.0</td>\n      <td>0.033333</td>\n      <td>0.876106</td>\n      <td>0.055993</td>\n    </tr>\n    <tr>\n      <th>3</th>\n      <td>0.333333</td>\n      <td>0.18750</td>\n      <td>0.058734</td>\n      <td>0.029228</td>\n      <td>0.0</td>\n      <td>0.0</td>\n      <td>0.0</td>\n      <td>0.75</td>\n      <td>0.085746</td>\n      <td>0.0</td>\n      <td>0.570175</td>\n      <td>0.780206</td>\n      <td>0.278033</td>\n      <td>0.298269</td>\n      <td>0.0</td>\n      <td>0.0</td>\n      <td>0.0</td>\n      <td>0.033333</td>\n      <td>0.566372</td>\n      <td>0.057870</td>\n    </tr>\n    <tr>\n      <th>4</th>\n      <td>0.333333</td>\n      <td>0.21875</td>\n      <td>0.071701</td>\n      <td>0.016648</td>\n      <td>0.0</td>\n      <td>0.0</td>\n      <td>0.0</td>\n      <td>0.50</td>\n      <td>0.104677</td>\n      <td>0.0</td>\n      <td>0.763158</td>\n      <td>0.271729</td>\n      <td>0.321350</td>\n      <td>0.132563</td>\n      <td>0.0</td>\n      <td>0.0</td>\n      <td>0.0</td>\n      <td>0.033333</td>\n      <td>0.876106</td>\n      <td>0.063373</td>\n    </tr>\n  </tbody>\n</table>\n</div>"
     },
     "execution_count": 6,
     "metadata": {},
     "output_type": "execute_result"
    }
   ],
   "source": [
    "attributes_scaler = MinMaxScaler()\n",
    "attributes_data = attributes_scaler.fit_transform(df.drop(['total'], axis=1))\n",
    "target_scaler = MinMaxScaler()\n",
    "target_data = target_scaler.fit_transform(df['total'].to_numpy().reshape(-1, 1))\n",
    "df = pd.concat([\n",
    "     pd.DataFrame(attributes_data, columns=df.columns[:-1]),\n",
    "     pd.DataFrame(target_data.squeeze(), columns=['total'])\n",
    " ], axis=1)\n",
    "df.head()"
   ],
   "metadata": {
    "collapsed": false,
    "ExecuteTime": {
     "start_time": "2023-04-05T23:24:10.523779Z",
     "end_time": "2023-04-05T23:24:10.539341Z"
    }
   }
  },
  {
   "cell_type": "code",
   "execution_count": 7,
   "outputs": [],
   "source": [
    "# generator = torch.random.manual_seed(42)\n",
    "# train, valid = random_split(df.values, [0.9, 0.1], generator)"
   ],
   "metadata": {
    "collapsed": false,
    "ExecuteTime": {
     "start_time": "2023-04-05T23:24:10.532985Z",
     "end_time": "2023-04-05T23:24:10.539502Z"
    }
   }
  },
  {
   "cell_type": "code",
   "execution_count": 8,
   "outputs": [],
   "source": [
    "# train = DataLoader(train, BATCH_SIZE, shuffle=True, num_workers=2)\n",
    "# valid = DataLoader(valid, BATCH_SIZE, shuffle=True, num_workers=1)"
   ],
   "metadata": {
    "collapsed": false,
    "ExecuteTime": {
     "start_time": "2023-04-05T23:24:10.535315Z",
     "end_time": "2023-04-05T23:24:10.539580Z"
    }
   }
  },
  {
   "cell_type": "code",
   "execution_count": 9,
   "outputs": [],
   "source": [
    "dataset = Dataset(df.drop(['total', 'transaction year', 'transaction month', 'transaction day', 'timestamp'], axis=1).values, df['total'].values)"
   ],
   "metadata": {
    "collapsed": false,
    "ExecuteTime": {
     "start_time": "2023-04-05T23:24:10.538927Z",
     "end_time": "2023-04-05T23:24:10.541968Z"
    }
   }
  },
  {
   "cell_type": "code",
   "execution_count": 10,
   "outputs": [
    {
     "data": {
      "text/plain": "(tensor([0.5556, 0.3125, 0.1823, 0.2175, 0.4000, 0.0000, 0.0000, 0.5000, 0.2661,\n         0.0000, 0.6930, 0.3922, 0.6258, 0.3898, 1.0000]),\n tensor(0.2119))"
     },
     "execution_count": 10,
     "metadata": {},
     "output_type": "execute_result"
    }
   ],
   "source": [
    "dataset[0]"
   ],
   "metadata": {
    "collapsed": false,
    "ExecuteTime": {
     "start_time": "2023-04-05T23:24:10.543171Z",
     "end_time": "2023-04-05T23:24:10.621234Z"
    }
   }
  },
  {
   "cell_type": "code",
   "execution_count": 11,
   "outputs": [],
   "source": [
    "generator = torch.random.manual_seed(42)\n",
    "train, valid = random_split(dataset, [0.9, 0.1], generator)"
   ],
   "metadata": {
    "collapsed": false,
    "ExecuteTime": {
     "start_time": "2023-04-05T23:24:10.567034Z",
     "end_time": "2023-04-05T23:24:10.632062Z"
    }
   }
  },
  {
   "cell_type": "code",
   "execution_count": 12,
   "outputs": [],
   "source": [
    "train_set = DataLoader(train, BATCH_SIZE, shuffle=True, )\n",
    "valid_set = DataLoader(valid, BATCH_SIZE, shuffle=True)"
   ],
   "metadata": {
    "collapsed": false,
    "ExecuteTime": {
     "start_time": "2023-04-05T23:24:10.572929Z",
     "end_time": "2023-04-05T23:24:10.632309Z"
    }
   }
  },
  {
   "cell_type": "code",
   "execution_count": 13,
   "outputs": [],
   "source": [
    "device = \"cuda\" if torch.cuda.is_available() else \"cpu\""
   ],
   "metadata": {
    "collapsed": false,
    "ExecuteTime": {
     "start_time": "2023-04-05T23:24:10.578064Z",
     "end_time": "2023-04-05T23:24:10.645009Z"
    }
   }
  },
  {
   "cell_type": "code",
   "execution_count": 14,
   "outputs": [],
   "source": [
    "i, (X, y) = next(enumerate(train_set))"
   ],
   "metadata": {
    "collapsed": false,
    "ExecuteTime": {
     "start_time": "2023-04-05T23:24:10.580696Z",
     "end_time": "2023-04-05T23:24:10.660383Z"
    }
   }
  },
  {
   "cell_type": "code",
   "execution_count": 15,
   "outputs": [
    {
     "data": {
      "text/plain": "torch.Size([32, 15])"
     },
     "execution_count": 15,
     "metadata": {},
     "output_type": "execute_result"
    }
   ],
   "source": [
    "X.shape"
   ],
   "metadata": {
    "collapsed": false,
    "ExecuteTime": {
     "start_time": "2023-04-05T23:24:10.588660Z",
     "end_time": "2023-04-05T23:24:10.660755Z"
    }
   }
  },
  {
   "cell_type": "code",
   "execution_count": 16,
   "outputs": [
    {
     "data": {
      "text/plain": "108"
     },
     "execution_count": 16,
     "metadata": {},
     "output_type": "execute_result"
    }
   ],
   "source": [
    "len(train_set)"
   ],
   "metadata": {
    "collapsed": false,
    "ExecuteTime": {
     "start_time": "2023-04-05T23:24:10.591416Z",
     "end_time": "2023-04-05T23:24:10.660932Z"
    }
   }
  },
  {
   "cell_type": "code",
   "execution_count": 17,
   "outputs": [],
   "source": [
    "def to_level(l: Iterable):\n",
    "    def tier(cost: float):\n",
    "        if 0 <= cost < 300000: return 1\n",
    "        elif 300000 <= cost < 500000: return 2\n",
    "        elif 500000 <= cost < 700000: return 3\n",
    "        elif 700000 <= cost: return 4\n",
    "    return np.array([tier(c) for c in l])\n",
    "\n"
   ],
   "metadata": {
    "collapsed": false,
    "ExecuteTime": {
     "start_time": "2023-04-05T23:24:10.593405Z",
     "end_time": "2023-04-05T23:24:10.661027Z"
    }
   }
  },
  {
   "cell_type": "code",
   "execution_count": 18,
   "outputs": [],
   "source": [
    "def trainer(dataloader: torch.utils.data.DataLoader,\n",
    "            model: torch.nn.Module,\n",
    "            optimizer,\n",
    "            loss_fn):\n",
    "    size = len(dataloader.dataset)\n",
    "    num_batches = len(dataloader)\n",
    "    acc = list()\n",
    "    train_loss = 0\n",
    "    model.train()\n",
    "    for batch, (X, y) in enumerate(dataloader):\n",
    "        shape_X = X.shape\n",
    "        X, y = X.reshape(shape_X[0], 1, shape_X[1]).to(device), y.to(device)\n",
    "        tiers = to_level(y)\n",
    "\n",
    "        # Compute prediction error\n",
    "        pred = model(X).squeeze()\n",
    "        # tiers_pred = to_level(pred)\n",
    "        loss = loss_fn(pred, y)\n",
    "        train_loss += loss.item()\n",
    "        acc.append((to_level(target_scaler.inverse_transform(pred.detach().numpy().reshape(-1, 1))) == to_level(target_scaler.inverse_transform(y.reshape(-1, 1)).squeeze())).sum()/len(y))\n",
    "        # Backpropagation\n",
    "        optimizer.zero_grad()\n",
    "        loss.backward()\n",
    "        optimizer.step()\n",
    "    train_loss /= num_batches\n",
    "    print(f\"Avg Train loss: {loss:>8f}, Avg accuracy: {np.mean(acc):8f}\")\n",
    "    return train_loss"
   ],
   "metadata": {
    "collapsed": false,
    "ExecuteTime": {
     "start_time": "2023-04-05T23:24:10.596272Z",
     "end_time": "2023-04-05T23:24:10.661097Z"
    }
   }
  },
  {
   "cell_type": "code",
   "execution_count": 19,
   "outputs": [],
   "source": [
    "def evaluator(dataloader, model, loss_fn):\n",
    "    size = len(dataloader.dataset)\n",
    "    num_batches = len(dataloader)\n",
    "    model.eval()\n",
    "    test_loss, correct = 0, 0\n",
    "    acc = list()\n",
    "    with torch.no_grad():\n",
    "        for X, y in dataloader:\n",
    "            shape_X = X.shape\n",
    "            X, y = X.reshape(shape_X[0], 1, shape_X[1]).to(device), y.to(device)\n",
    "            pred = model(X).squeeze()\n",
    "            test_loss += loss_fn(pred, y).item()\n",
    "            acc.append((to_level(target_scaler.inverse_transform(pred.detach().numpy().reshape(-1, 1))) == to_level(target_scaler.inverse_transform(y.reshape(-1, 1)).squeeze())).sum()/len(y))\n",
    "            # correct += (pred.argmax(1) == y).type(torch.float).sum().item()\n",
    "    test_loss /= num_batches\n",
    "    # correct /= size\n",
    "    # print(f\"Test Error: \\n Accuracy: {(100*correct):>0.1f}%, Avg loss: {test_loss:>8f} \\n\")\n",
    "    print('Avg loss: {:8f}, Avg evaluation accuracy: {:.8f}'.format(test_loss, np.mean(acc)))\n",
    "    return test_loss\n"
   ],
   "metadata": {
    "collapsed": false,
    "ExecuteTime": {
     "start_time": "2023-04-05T23:24:10.603241Z",
     "end_time": "2023-04-05T23:24:10.661177Z"
    }
   }
  },
  {
   "cell_type": "code",
   "execution_count": 20,
   "outputs": [],
   "source": [
    "model = DNN([15, 256, 256, 256, 1]).to(device)\n",
    "loss_fn = torch.nn.MSELoss(reduction='sum')\n",
    "lr = 1e-3\n",
    "optimizer = torch.optim.Adam(model.parameters(), lr)\n",
    "EPOCH = 100\n"
   ],
   "metadata": {
    "collapsed": false,
    "ExecuteTime": {
     "start_time": "2023-04-05T23:24:10.605670Z",
     "end_time": "2023-04-05T23:24:10.692451Z"
    }
   }
  },
  {
   "cell_type": "code",
   "execution_count": 21,
   "outputs": [
    {
     "data": {
      "text/plain": "DNN(\n  (net): Sequential(\n    (0): Linear(in_features=15, out_features=256, bias=True)\n    (1): ReLU()\n    (2): Linear(in_features=256, out_features=256, bias=True)\n    (3): ReLU()\n    (4): Linear(in_features=256, out_features=256, bias=True)\n    (5): ReLU()\n    (6): Linear(in_features=256, out_features=1, bias=True)\n  )\n)"
     },
     "execution_count": 21,
     "metadata": {},
     "output_type": "execute_result"
    }
   ],
   "source": [
    "model"
   ],
   "metadata": {
    "collapsed": false,
    "ExecuteTime": {
     "start_time": "2023-04-05T23:24:10.611209Z",
     "end_time": "2023-04-05T23:24:10.759411Z"
    }
   }
  },
  {
   "cell_type": "code",
   "execution_count": 22,
   "outputs": [
    {
     "name": "stdout",
     "output_type": "stream",
     "text": [
      "Avg Train loss: 0.073988, Avg accuracy: 0.522569\n",
      "Avg loss: 0.117092, Avg evaluation accuracy: 0.65086806\n",
      "Avg Train loss: 0.025876, Avg accuracy: 0.620949\n",
      "Avg loss: 0.103295, Avg evaluation accuracy: 0.66475694\n",
      "Avg Train loss: 0.036277, Avg accuracy: 0.651620\n",
      "Avg loss: 0.092368, Avg evaluation accuracy: 0.65416667\n",
      "Avg Train loss: 0.035880, Avg accuracy: 0.666667\n",
      "Avg loss: 0.078127, Avg evaluation accuracy: 0.71215278\n",
      "Avg Train loss: 0.019270, Avg accuracy: 0.672164\n",
      "Avg loss: 0.090015, Avg evaluation accuracy: 0.69288194\n",
      "Avg Train loss: 0.038076, Avg accuracy: 0.681713\n",
      "Avg loss: 0.085576, Avg evaluation accuracy: 0.53715278\n",
      "Avg Train loss: 0.009353, Avg accuracy: 0.674190\n",
      "Avg loss: 0.065828, Avg evaluation accuracy: 0.73350694\n",
      "Avg Train loss: 0.007327, Avg accuracy: 0.697917\n",
      "Avg loss: 0.073638, Avg evaluation accuracy: 0.71996528\n",
      "Avg Train loss: 0.007375, Avg accuracy: 0.698785\n",
      "Avg loss: 0.068768, Avg evaluation accuracy: 0.71996528\n",
      "Avg Train loss: 0.049481, Avg accuracy: 0.695602\n",
      "Avg loss: 0.065311, Avg evaluation accuracy: 0.72777778\n",
      "Avg Train loss: 0.020994, Avg accuracy: 0.713831\n",
      "Avg loss: 0.073687, Avg evaluation accuracy: 0.64479167\n",
      "Avg Train loss: 0.021399, Avg accuracy: 0.719618\n",
      "Avg loss: 0.067583, Avg evaluation accuracy: 0.72170139\n",
      "Avg Train loss: 0.009052, Avg accuracy: 0.714120\n",
      "Avg loss: 0.064432, Avg evaluation accuracy: 0.70642361\n",
      "Avg Train loss: 0.052248, Avg accuracy: 0.703704\n",
      "Avg loss: 0.069367, Avg evaluation accuracy: 0.62881944\n",
      "Avg Train loss: 0.013962, Avg accuracy: 0.724537\n",
      "Avg loss: 0.070595, Avg evaluation accuracy: 0.73750000\n",
      "Avg Train loss: 0.045193, Avg accuracy: 0.716435\n",
      "Avg loss: 0.065199, Avg evaluation accuracy: 0.70625000\n",
      "Avg Train loss: 0.017863, Avg accuracy: 0.735822\n",
      "Avg loss: 0.066097, Avg evaluation accuracy: 0.72500000\n",
      "Avg Train loss: 0.018605, Avg accuracy: 0.741898\n",
      "Avg loss: 0.068257, Avg evaluation accuracy: 0.75381944\n",
      "Avg Train loss: 0.037037, Avg accuracy: 0.746238\n",
      "Avg loss: 0.064849, Avg evaluation accuracy: 0.69618056\n",
      "Avg Train loss: 0.010988, Avg accuracy: 0.735822\n",
      "Avg loss: 0.070515, Avg evaluation accuracy: 0.69114583\n",
      "Avg Train loss: 0.035089, Avg accuracy: 0.731192\n",
      "Avg loss: 0.073943, Avg evaluation accuracy: 0.66996528\n",
      "Avg Train loss: 0.016450, Avg accuracy: 0.747685\n",
      "Avg loss: 0.089557, Avg evaluation accuracy: 0.70972222\n",
      "Avg Train loss: 0.024049, Avg accuracy: 0.734086\n",
      "Avg loss: 0.076031, Avg evaluation accuracy: 0.73802083\n",
      "Avg Train loss: 0.024681, Avg accuracy: 0.721065\n",
      "Avg loss: 0.078154, Avg evaluation accuracy: 0.72552083\n",
      "Avg Train loss: 0.016278, Avg accuracy: 0.734664\n",
      "Avg loss: 0.073511, Avg evaluation accuracy: 0.72743056\n",
      "Avg Train loss: 0.024868, Avg accuracy: 0.740741\n",
      "Avg loss: 0.087060, Avg evaluation accuracy: 0.72812500\n",
      "Avg Train loss: 0.007700, Avg accuracy: 0.740162\n",
      "Avg loss: 0.064232, Avg evaluation accuracy: 0.72552083\n",
      "Avg Train loss: 0.006986, Avg accuracy: 0.756366\n",
      "Avg loss: 0.063950, Avg evaluation accuracy: 0.73506944\n",
      "Avg Train loss: 0.003426, Avg accuracy: 0.750289\n",
      "Avg loss: 0.069387, Avg evaluation accuracy: 0.71684028\n",
      "Avg Train loss: 0.011444, Avg accuracy: 0.742477\n",
      "Avg loss: 0.068590, Avg evaluation accuracy: 0.74340278\n",
      "Avg Train loss: 0.029713, Avg accuracy: 0.746528\n",
      "Avg loss: 0.069903, Avg evaluation accuracy: 0.67847222\n",
      "Avg Train loss: 0.019456, Avg accuracy: 0.739873\n",
      "Avg loss: 0.067143, Avg evaluation accuracy: 0.71979167\n",
      "Avg Train loss: 0.023758, Avg accuracy: 0.748843\n",
      "Avg loss: 0.074846, Avg evaluation accuracy: 0.70954861\n",
      "Avg Train loss: 0.009005, Avg accuracy: 0.754630\n",
      "Avg loss: 0.080323, Avg evaluation accuracy: 0.72222222\n",
      "Avg Train loss: 0.011653, Avg accuracy: 0.756944\n",
      "Avg loss: 0.076770, Avg evaluation accuracy: 0.73628472\n",
      "Avg Train loss: 0.010781, Avg accuracy: 0.759549\n",
      "Avg loss: 0.073252, Avg evaluation accuracy: 0.71510417\n",
      "Avg Train loss: 0.009692, Avg accuracy: 0.767072\n",
      "Avg loss: 0.069565, Avg evaluation accuracy: 0.75190972\n",
      "Avg Train loss: 0.017164, Avg accuracy: 0.756944\n",
      "Avg loss: 0.070924, Avg evaluation accuracy: 0.76666667\n",
      "Avg Train loss: 0.019030, Avg accuracy: 0.765046\n",
      "Avg loss: 0.071997, Avg evaluation accuracy: 0.75381944\n",
      "Avg Train loss: 0.011159, Avg accuracy: 0.760995\n",
      "Avg loss: 0.075846, Avg evaluation accuracy: 0.66562500\n",
      "Avg Train loss: 0.007680, Avg accuracy: 0.760417\n",
      "Avg loss: 0.086385, Avg evaluation accuracy: 0.71545139\n",
      "Avg Train loss: 0.015644, Avg accuracy: 0.759549\n",
      "Avg loss: 0.071759, Avg evaluation accuracy: 0.75625000\n",
      "Avg Train loss: 0.008488, Avg accuracy: 0.771412\n",
      "Avg loss: 0.064294, Avg evaluation accuracy: 0.77013889\n",
      "Avg Train loss: 0.007480, Avg accuracy: 0.771991\n",
      "Avg loss: 0.084712, Avg evaluation accuracy: 0.70138889\n",
      "Avg Train loss: 0.019967, Avg accuracy: 0.771991\n",
      "Avg loss: 0.071500, Avg evaluation accuracy: 0.72517361\n",
      "Avg Train loss: 0.010306, Avg accuracy: 0.768519\n",
      "Avg loss: 0.068447, Avg evaluation accuracy: 0.75381944\n",
      "Avg Train loss: 0.025190, Avg accuracy: 0.775752\n",
      "Avg loss: 0.072119, Avg evaluation accuracy: 0.76909722\n",
      "Avg Train loss: 0.022937, Avg accuracy: 0.774306\n",
      "Avg loss: 0.107963, Avg evaluation accuracy: 0.67256944\n",
      "Avg Train loss: 0.013009, Avg accuracy: 0.767940\n",
      "Avg loss: 0.069321, Avg evaluation accuracy: 0.71493056\n",
      "Avg Train loss: 0.009659, Avg accuracy: 0.788773\n",
      "Avg loss: 0.072580, Avg evaluation accuracy: 0.73246528\n",
      "Avg Train loss: 0.005466, Avg accuracy: 0.785012\n",
      "Avg loss: 0.079659, Avg evaluation accuracy: 0.73298611\n",
      "Avg Train loss: 0.021698, Avg accuracy: 0.762442\n",
      "Avg loss: 0.070033, Avg evaluation accuracy: 0.75920139\n",
      "Avg Train loss: 0.008137, Avg accuracy: 0.787326\n",
      "Avg loss: 0.100744, Avg evaluation accuracy: 0.70451389\n",
      "Avg Train loss: 0.019963, Avg accuracy: 0.779225\n",
      "Avg loss: 0.087470, Avg evaluation accuracy: 0.75677083\n",
      "Avg Train loss: 0.012563, Avg accuracy: 0.788773\n",
      "Avg loss: 0.076831, Avg evaluation accuracy: 0.71475694\n",
      "Avg Train loss: 0.010938, Avg accuracy: 0.787905\n",
      "Avg loss: 0.077951, Avg evaluation accuracy: 0.73020833\n",
      "Avg Train loss: 0.006176, Avg accuracy: 0.793403\n",
      "Avg loss: 0.076731, Avg evaluation accuracy: 0.70729167\n",
      "Avg Train loss: 0.015979, Avg accuracy: 0.792535\n",
      "Avg loss: 0.068278, Avg evaluation accuracy: 0.75399306\n",
      "Avg Train loss: 0.006961, Avg accuracy: 0.792824\n",
      "Avg loss: 0.073398, Avg evaluation accuracy: 0.71927083\n",
      "Avg Train loss: 0.025732, Avg accuracy: 0.798032\n",
      "Avg loss: 0.087791, Avg evaluation accuracy: 0.72795139\n",
      "Avg Train loss: 0.009097, Avg accuracy: 0.798322\n",
      "Avg loss: 0.080698, Avg evaluation accuracy: 0.71163194\n",
      "Avg Train loss: 0.004199, Avg accuracy: 0.808449\n",
      "Avg loss: 0.071662, Avg evaluation accuracy: 0.72517361\n",
      "Avg Train loss: 0.005234, Avg accuracy: 0.800347\n",
      "Avg loss: 0.074890, Avg evaluation accuracy: 0.75920139\n",
      "Avg Train loss: 0.003748, Avg accuracy: 0.793981\n",
      "Avg loss: 0.072660, Avg evaluation accuracy: 0.75659722\n",
      "Avg Train loss: 0.015213, Avg accuracy: 0.797743\n",
      "Avg loss: 0.074354, Avg evaluation accuracy: 0.73263889\n",
      "Avg Train loss: 0.006268, Avg accuracy: 0.813657\n",
      "Avg loss: 0.071161, Avg evaluation accuracy: 0.76510417\n",
      "Avg Train loss: 0.021322, Avg accuracy: 0.810475\n",
      "Avg loss: 0.083908, Avg evaluation accuracy: 0.74357639\n",
      "Avg Train loss: 0.024848, Avg accuracy: 0.807870\n",
      "Avg loss: 0.074855, Avg evaluation accuracy: 0.71701389\n",
      "Avg Train loss: 0.017456, Avg accuracy: 0.801505\n",
      "Avg loss: 0.078257, Avg evaluation accuracy: 0.71892361\n",
      "Avg Train loss: 0.004772, Avg accuracy: 0.806713\n",
      "Avg loss: 0.074268, Avg evaluation accuracy: 0.74045139\n",
      "Avg Train loss: 0.007631, Avg accuracy: 0.803819\n",
      "Avg loss: 0.076762, Avg evaluation accuracy: 0.73281250\n",
      "Avg Train loss: 0.006092, Avg accuracy: 0.813368\n",
      "Avg loss: 0.074465, Avg evaluation accuracy: 0.74079861\n",
      "Avg Train loss: 0.003825, Avg accuracy: 0.820602\n",
      "Avg loss: 0.085875, Avg evaluation accuracy: 0.76718750\n",
      "Avg Train loss: 0.007398, Avg accuracy: 0.816551\n",
      "Avg loss: 0.075748, Avg evaluation accuracy: 0.73090278\n",
      "Avg Train loss: 0.003182, Avg accuracy: 0.805845\n",
      "Avg loss: 0.084025, Avg evaluation accuracy: 0.73281250\n",
      "Avg Train loss: 0.003916, Avg accuracy: 0.821181\n",
      "Avg loss: 0.074772, Avg evaluation accuracy: 0.72777778\n",
      "Avg Train loss: 0.004906, Avg accuracy: 0.822627\n",
      "Avg loss: 0.084811, Avg evaluation accuracy: 0.69357639\n",
      "Avg Train loss: 0.005429, Avg accuracy: 0.813368\n",
      "Avg loss: 0.084810, Avg evaluation accuracy: 0.70416667\n",
      "Avg Train loss: 0.012302, Avg accuracy: 0.815394\n",
      "Avg loss: 0.077292, Avg evaluation accuracy: 0.75347222\n",
      "Avg Train loss: 0.005692, Avg accuracy: 0.822049\n",
      "Avg loss: 0.081055, Avg evaluation accuracy: 0.74444444\n",
      "Avg Train loss: 0.006657, Avg accuracy: 0.825521\n",
      "Avg loss: 0.077300, Avg evaluation accuracy: 0.73368056\n",
      "Avg Train loss: 0.015629, Avg accuracy: 0.826968\n",
      "Avg loss: 0.072166, Avg evaluation accuracy: 0.72534722\n",
      "Avg Train loss: 0.004307, Avg accuracy: 0.824363\n",
      "Avg loss: 0.084698, Avg evaluation accuracy: 0.70625000\n",
      "Avg Train loss: 0.016942, Avg accuracy: 0.822338\n",
      "Avg loss: 0.081901, Avg evaluation accuracy: 0.73489583\n",
      "Avg Train loss: 0.002668, Avg accuracy: 0.832176\n",
      "Avg loss: 0.083770, Avg evaluation accuracy: 0.74861111\n",
      "Avg Train loss: 0.005772, Avg accuracy: 0.828414\n",
      "Avg loss: 0.078040, Avg evaluation accuracy: 0.71232639\n",
      "Avg Train loss: 0.008182, Avg accuracy: 0.821470\n",
      "Avg loss: 0.087606, Avg evaluation accuracy: 0.70208333\n",
      "Avg Train loss: 0.003536, Avg accuracy: 0.828704\n",
      "Avg loss: 0.081815, Avg evaluation accuracy: 0.72239583\n",
      "Avg Train loss: 0.007521, Avg accuracy: 0.834201\n",
      "Avg loss: 0.083329, Avg evaluation accuracy: 0.74340278\n",
      "Avg Train loss: 0.004596, Avg accuracy: 0.838252\n",
      "Avg loss: 0.084815, Avg evaluation accuracy: 0.73298611\n",
      "Avg Train loss: 0.004458, Avg accuracy: 0.827257\n",
      "Avg loss: 0.077548, Avg evaluation accuracy: 0.76684028\n",
      "Avg Train loss: 0.010933, Avg accuracy: 0.836806\n",
      "Avg loss: 0.088532, Avg evaluation accuracy: 0.71284722\n",
      "Avg Train loss: 0.012438, Avg accuracy: 0.839988\n",
      "Avg loss: 0.090038, Avg evaluation accuracy: 0.73315972\n",
      "Avg Train loss: 0.009698, Avg accuracy: 0.836227\n",
      "Avg loss: 0.090073, Avg evaluation accuracy: 0.75138889\n",
      "Avg Train loss: 0.005881, Avg accuracy: 0.847222\n",
      "Avg loss: 0.081727, Avg evaluation accuracy: 0.73229167\n",
      "Avg Train loss: 0.011030, Avg accuracy: 0.842014\n",
      "Avg loss: 0.091188, Avg evaluation accuracy: 0.71423611\n",
      "Avg Train loss: 0.007844, Avg accuracy: 0.842882\n",
      "Avg loss: 0.084781, Avg evaluation accuracy: 0.73871528\n",
      "Avg Train loss: 0.006990, Avg accuracy: 0.840278\n",
      "Avg loss: 0.083876, Avg evaluation accuracy: 0.75885417\n",
      "Avg Train loss: 0.006351, Avg accuracy: 0.847801\n",
      "Avg loss: 0.078325, Avg evaluation accuracy: 0.74600694\n",
      "Avg Train loss: 0.006081, Avg accuracy: 0.831019\n",
      "Avg loss: 0.080252, Avg evaluation accuracy: 0.74618056\n"
     ]
    },
    {
     "data": {
      "text/plain": "<AxesSubplot: >"
     },
     "execution_count": 22,
     "metadata": {},
     "output_type": "execute_result"
    },
    {
     "data": {
      "text/plain": "<Figure size 640x480 with 1 Axes>",
      "image/png": "[encoded data removed]"
     },
     "metadata": {},
     "output_type": "display_data"
    }
   ],
   "source": [
    "train_loss = list()\n",
    "valid_loss = list()\n",
    "for e in range(EPOCH):\n",
    "    train_loss.append(trainer(train_set, model, optimizer, loss_fn))\n",
    "    valid_loss.append(evaluator(valid_set, model, loss_fn))\n",
    "\n",
    "output_df = pd.DataFrame({'train loss': train_loss,\n",
    "              'valid loss': valid_loss})\n",
    "output_df.plot()"
   ],
   "metadata": {
    "collapsed": false,
    "ExecuteTime": {
     "start_time": "2023-04-05T23:24:10.614636Z",
     "end_time": "2023-04-05T23:24:27.895103Z"
    }
   }
  },
  {
   "cell_type": "code",
   "execution_count": 266,
   "outputs": [
    {
     "data": {
      "text/plain": "tensor([[0.2034],\n        [0.1641],\n        [0.2331],\n        [0.2429],\n        [0.0686],\n        [0.1286],\n        [0.0673],\n        [0.1184],\n        [0.1261],\n        [0.2171],\n        [0.0847],\n        [0.2048],\n        [0.1806],\n        [0.2484],\n        [0.0849],\n        [0.0535],\n        [0.2340],\n        [0.2383],\n        [0.2134],\n        [0.1178],\n        [0.2232],\n        [0.1314],\n        [0.0507],\n        [0.0809],\n        [0.2087],\n        [0.0690],\n        [0.1071],\n        [0.1092],\n        [0.1466],\n        [0.0731],\n        [0.2001],\n        [0.1122]], grad_fn=<AddmmBackward0>)"
     },
     "execution_count": 266,
     "metadata": {},
     "output_type": "execute_result"
    }
   ],
   "source": [
    "i, (X, y) = next(enumerate(train_set))\n",
    "pred = model(X)\n",
    "pred"
   ],
   "metadata": {
    "collapsed": false
   }
  },
  {
   "cell_type": "code",
   "execution_count": 267,
   "outputs": [
    {
     "data": {
      "text/plain": "tensor([0.2155, 0.1374, 0.2070, 0.3009, 0.0677, 0.1229, 0.0659, 0.0833, 0.1335,\n        0.2244, 0.0616, 0.2137, 0.1702, 0.3009, 0.0675, 0.0267, 0.2178, 0.2119,\n        0.2099, 0.1131, 0.1774, 0.1051, 0.0427, 0.0759, 0.2030, 0.0641, 0.0570,\n        0.0805, 0.1531, 0.0694, 0.1713, 0.1318])"
     },
     "execution_count": 267,
     "metadata": {},
     "output_type": "execute_result"
    }
   ],
   "source": [
    "y"
   ],
   "metadata": {
    "collapsed": false
   }
  },
  {
   "cell_type": "code",
   "execution_count": 274,
   "outputs": [
    {
     "data": {
      "text/plain": "0.65625"
     },
     "execution_count": 274,
     "metadata": {},
     "output_type": "execute_result"
    }
   ],
   "source": [
    "(to_level(target_scaler.inverse_transform(pred.detach().numpy())) == to_level(target_scaler.inverse_transform(y.reshape(-1, 1)).squeeze())).sum()/len(y)"
   ],
   "metadata": {
    "collapsed": false
   }
  },
  {
   "cell_type": "code",
   "execution_count": 156,
   "outputs": [
    {
     "data": {
      "text/plain": "0.25"
     },
     "execution_count": 156,
     "metadata": {},
     "output_type": "execute_result"
    }
   ],
   "source": [
    "(to_level(model(X)) == to_level(y)).sum()/len(y)"
   ],
   "metadata": {
    "collapsed": false
   }
  }
 ],
 "metadata": {
  "kernelspec": {
   "display_name": "Python 3",
   "language": "python",
   "name": "python3"
  },
  "language_info": {
   "codemirror_mode": {
    "name": "ipython",
    "version": 2
   },
   "file_extension": ".py",
   "mimetype": "text/x-python",
   "name": "python",
   "nbconvert_exporter": "python",
   "pygments_lexer": "ipython2",
   "version": "2.7.6"
  }
 },
 "nbformat": 4,
 "nbformat_minor": 0
}
